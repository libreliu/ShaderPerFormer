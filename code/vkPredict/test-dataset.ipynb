{
 "cells": [
  {
   "cell_type": "markdown",
   "metadata": {},
   "source": [
    "## Test dataset"
   ]
  },
  {
   "cell_type": "code",
   "execution_count": 2,
   "metadata": {},
   "outputs": [],
   "source": [
    "from dataset.DatasetBuilder import build_dataset\n",
    "from misc.TokenizerBuilder import build_tokenizer\n",
    "import tqdm\n",
    "import numpy as np"
   ]
  },
  {
   "cell_type": "code",
   "execution_count": 17,
   "metadata": {},
   "outputs": [
    {
     "name": "stdout",
     "output_type": "stream",
     "text": [
      "6897\n",
      "21\n"
     ]
    }
   ],
   "source": [
    "# trainDataset = build_dataset('FragmentPerformanceTracedSnapshotDataset4096', \"train\")\n",
    "# print(len(trainDataset))\n",
    "\n",
    "from dataset.FragmentPerformanceSnapshotDataset import FragmentPerformanceSnapshotDataset\n",
    "from dataset.FragmentMaskedLMDataset import FragmentMaskedLMDataset\n",
    "from dataset.FragmentPerformanceTracedSnapshotDataset import FragmentPerformanceTracedSnapshotDataset\n",
    "import os\n",
    "rootDir = \".\"\n",
    "\n",
    "trainDataset = FragmentPerformanceTracedSnapshotDataset(\n",
    "    os.path.join(rootDir, \"./FragPerfSnapshotTracedDataset4096New.dat\"),\n",
    "    \"train\"\n",
    ")\n",
    "print(len(trainDataset))"
   ]
  },
  {
   "cell_type": "code",
   "execution_count": 3,
   "metadata": {},
   "outputs": [
    {
     "name": "stdout",
     "output_type": "stream",
     "text": [
      "11213\n"
     ]
    }
   ],
   "source": [
    "trainDatasetOrig = build_dataset('FragmentPerformanceTracedSnapshotDataset', \"train\")\n",
    "print(len(trainDatasetOrig))"
   ]
  },
  {
   "cell_type": "code",
   "execution_count": 16,
   "metadata": {},
   "outputs": [
    {
     "name": "stderr",
     "output_type": "stream",
     "text": [
      "100%|██████████| 21/21 [00:01<00:00, 15.25it/s]"
     ]
    },
    {
     "name": "stdout",
     "output_type": "stream",
     "text": [
      "[ 2343  3045  2971   475  5661  4474  4911   529 44396  3293  6201  1005\n",
      "  2298  8270 92776  6699  1008  6585  1179  2810  1145]\n"
     ]
    },
    {
     "name": "stderr",
     "output_type": "stream",
     "text": [
      "\n"
     ]
    }
   ],
   "source": [
    "tokenizer = build_tokenizer('HfTracedSpvTokenizer-single-entrypoint')\n",
    "\n",
    "numSamples = len(trainDataset)\n",
    "allLength = np.ndarray((numSamples,), dtype=np.int32)\n",
    "for idx in tqdm.tqdm(range(0, numSamples)):\n",
    "    elem = trainDataset[idx]\n",
    "    encoded = tokenizer(\n",
    "        spvBinaryRepr=elem[\"spvBlob\"],\n",
    "        id2TraceIdxMap=elem[\"bbIdxMap\"],\n",
    "        traceCounters=elem[\"bbTraceCounters\"]\n",
    "    )\n",
    "    curLen = len(encoded[\"input_ids\"])\n",
    "    allLength[idx] = curLen\n",
    "\n",
    "print(allLength)"
   ]
  }
 ],
 "metadata": {
  "kernelspec": {
   "display_name": "venv",
   "language": "python",
   "name": "python3"
  },
  "language_info": {
   "codemirror_mode": {
    "name": "ipython",
    "version": 3
   },
   "file_extension": ".py",
   "mimetype": "text/x-python",
   "name": "python",
   "nbconvert_exporter": "python",
   "pygments_lexer": "ipython3",
   "version": "3.11.5"
  }
 },
 "nbformat": 4,
 "nbformat_minor": 2
}
