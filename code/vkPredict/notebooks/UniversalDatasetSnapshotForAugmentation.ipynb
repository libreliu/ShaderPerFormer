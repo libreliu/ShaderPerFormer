{
 "cells": [
  {
   "cell_type": "markdown",
   "metadata": {},
   "source": [
    "## Dataset Inspection"
   ]
  },
  {
   "cell_type": "code",
   "execution_count": 1,
   "metadata": {},
   "outputs": [],
   "source": [
    "import os, sys\n",
    "sys.path.append(os.path.join(os.path.abspath(''), '../'))\n",
    "\n",
    "import peewee as pw\n",
    "from toyDb.databases import ExperimentDb, ShaderDb\n",
    "\n",
    "import numpy as np\n",
    "import json\n",
    "import hashlib\n",
    "\n",
    "from misc.ComplexDatasetSnapshotter import (\n",
    "    EnvironmentFilter,\n",
    "    CycleTrialsFilter,\n",
    "    ErrorFilter,\n",
    "    ShadertoyIdFilter,\n",
    "    WidthHeightFilter,\n",
    "    ResourceFilter,\n",
    "    TraceAvailabilityFilter,\n",
    "    SpvTokenizedLengthFilter,\n",
    "    TraceDuplicationPostFilter,\n",
    "    ComplexDatasetSnapshotter,\n",
    "    AugmentationFilter\n",
    ")\n",
    "from misc.Directory import (\n",
    "  getIntermediateDir\n",
    ")\n",
    "from dataset.FragmentPerformanceTracedSnapshotDataset import FragmentPerformanceTracedSnapshotDataset\n",
    "\n",
    "ExperimentDb.init_from_default_db()\n",
    "import pickle"
   ]
  },
  {
   "cell_type": "code",
   "execution_count": 2,
   "metadata": {},
   "outputs": [
    {
     "data": {
      "application/vnd.jupyter.widget-view+json": {
       "model_id": "f8a14af5509b454fb753d92d0a96c49d",
       "version_major": 2,
       "version_minor": 0
      },
      "text/plain": [
       "  0%|          | 0/257106 [00:00<?, ?it/s]"
      ]
     },
     "metadata": {},
     "output_type": "display_data"
    },
    {
     "name": "stdout",
     "output_type": "stream",
     "text": [
      "EnvironmentFilter_EnvId1 = 263919\n",
      "WidthHeightFilter_1024-768 = 263919\n",
      "ResourceFilter_resourceNone = 6813\n",
      "ResourceFilter_resource1 = 257106\n",
      "CycleTrialsFilter_30cycles-10trials = 263919\n",
      "ErrorFilter_error1 = 6231\n",
      "ErrorFilter_error0 = 27701\n",
      "ErrorFilter_error3 = 77\n",
      "ErrorFilter_error2 = 504\n",
      "ErrorFilter_error100 = 1\n",
      "ErrorFilter_error5 = 229405\n",
      "TraceAvailabilityFilter_noTrace = 34459\n",
      "TraceAvailabilityFilter_haveTrace = 229460\n",
      "AugmentationFilter_aug0 = 20669\n",
      "AugmentationFilter_aug20000 = 13856\n",
      "AugmentationFilter_aug10009 = 11940\n",
      "AugmentationFilter_aug10013 = 4170\n",
      "AugmentationFilter_aug10014 = 13304\n",
      "AugmentationFilter_aug10015 = 13466\n",
      "AugmentationFilter_aug10016 = 13275\n",
      "AugmentationFilter_aug10017 = 8269\n",
      "AugmentationFilter_aug10021 = 13468\n",
      "AugmentationFilter_aug10035 = 5956\n",
      "AugmentationFilter_aug10037 = 12568\n",
      "AugmentationFilter_aug10045 = 13304\n",
      "AugmentationFilter_aug10046 = 13468\n",
      "AugmentationFilter_aug20002 = 13487\n",
      "AugmentationFilter_aug20001 = 13856\n",
      "AugmentationFilter_aug20003 = 13827\n",
      "AugmentationFilter_aug20004 = 13827\n",
      "AugmentationFilter_aug20005 = 4170\n",
      "AugmentationFilter_aug10006 = 13771\n",
      "AugmentationFilter_aug10034 = 12219\n",
      "AugmentationFilter_aug10059 = 13854\n",
      "AugmentationFilter_aug10018 = 2954\n",
      "AugmentationFilter_aug10029 = 321\n",
      "AugmentationFilter_aug10061 = 1553\n",
      "AugmentationFilter_aug10028 = 873\n",
      "AugmentationFilter_aug10038 = 967\n",
      "AugmentationFilter_aug10052 = 206\n",
      "AugmentationFilter_aug10019 = 228\n",
      "AugmentationFilter_aug10040 = 14\n",
      "AugmentationFilter_aug10051 = 7\n",
      "AugmentationFilter_aug10020 = 22\n",
      "AugmentationFilter_aug10057 = 2\n",
      "AugmentationFilter_aug10027 = 4\n",
      "AugmentationFilter_aug10042 = 12\n",
      "AugmentationFilter_aug10063 = 16\n",
      "AugmentationFilter_aug10064 = 16\n",
      "SpvTokenizedLengthFilter_belowOrEqualThreshold4096 = 196226\n",
      "SpvTokenizedLengthFilter_aboveThreshold4096 = 59755\n",
      "SpvTokenizedLengthFilter_failedTokenize = 1125\n"
     ]
    }
   ],
   "source": [
    "snapshotter = ComplexDatasetSnapshotter()\n",
    "\n",
    "# Basic filters\n",
    "snapshotter.registerFilter(EnvironmentFilter())\n",
    "snapshotter.registerFilter(WidthHeightFilter())\n",
    "snapshotter.registerFilter(ResourceFilter())\n",
    "snapshotter.registerFilter(CycleTrialsFilter())\n",
    "snapshotter.registerFilter(ErrorFilter())\n",
    "snapshotter.registerFilter(TraceAvailabilityFilter())\n",
    "snapshotter.registerFilter(AugmentationFilter())\n",
    "\n",
    "# Length filter\n",
    "lengthFilter = SpvTokenizedLengthFilter()\n",
    "lengthFilter.setThreshold(4096)\n",
    "\n",
    "if os.path.isfile(os.path.join(getIntermediateDir(), \"./lengthFilterCache.json\")):\n",
    "    lengthFilter.readFromCache(os.path.join(getIntermediateDir(), \"./lengthFilterCache.json\"))\n",
    "else:\n",
    "    lengthFilter.process(parallel=True)\n",
    "    lengthFilter.writeToCache(os.path.join(getIntermediateDir(), \"./lengthFilterCache.json\"))\n",
    "\n",
    "snapshotter.registerFilter(lengthFilter)\n",
    "# Train / test split filter\n",
    "\n",
    "# Examine our dear group\n",
    "snapshotter.examineGroups(1)"
   ]
  },
  {
   "cell_type": "markdown",
   "metadata": {},
   "source": [
    "### "
   ]
  },
  {
   "cell_type": "code",
   "execution_count": 3,
   "metadata": {},
   "outputs": [
    {
     "name": "stdout",
     "output_type": "stream",
     "text": [
      "Train samples: 9004\n",
      "Test samples: 2247\n",
      "Hash for f:\\dev\\NGPP\\NGPP\\vkPredict\\misc\\.././intermediates\\./FragPerfSnapshotTracedDataset4096-optimized-train-augmented.dat:\n",
      "- md5sum: 474da60f6a62222d7dbff278c23eeeb9\n"
     ]
    }
   ],
   "source": [
    "commonFilter = [\n",
    "    [('EnvironmentFilter', 'EnvId1')],\n",
    "    [('CycleTrialsFilter', '30cycles-10trials')],\n",
    "    [\n",
    "        ('AugmentationFilter', 'aug0'),\n",
    "        ('AugmentationFilter', 'aug20000'),\n",
    "        ('AugmentationFilter', 'aug20001'),\n",
    "        ('AugmentationFilter', 'aug10006'),\n",
    "        ('AugmentationFilter', 'aug10059'),\n",
    "        ('AugmentationFilter', 'aug10015'),\n",
    "        ('AugmentationFilter', 'aug10046'),\n",
    "    ],\n",
    "    [\n",
    "        ('ResourceFilter', 'resource1')\n",
    "    ],\n",
    "    [\n",
    "        ('WidthHeightFilter', '1024-768')\n",
    "    ],\n",
    "    [\n",
    "        ('ErrorFilter', 'error0'),\n",
    "        ('ErrorFilter', 'error5')\n",
    "    ],\n",
    "    [('TraceAvailabilityFilter', 'haveTrace')],\n",
    "    [('SpvTokenizedLengthFilter', 'belowOrEqualThreshold4096')]\n",
    "]\n",
    "\n",
    "destFile = os.path.join(\n",
    "    getIntermediateDir(),\n",
    "    \"./FragPerfSnapshotTracedDataset4096-optimized-train-augmented.dat\"\n",
    ")\n",
    "# if not os.path.isfile(destFile):\n",
    "snapshotter.doSnapshotWithOptAug(\n",
    "    destFile,\n",
    "    commonFilter\n",
    ")\n",
    "\n",
    "with open(destFile, \"rb\") as f:\n",
    "    file_hash = hashlib.md5()\n",
    "    chunk = f.read(8192)\n",
    "    while chunk:\n",
    "        file_hash.update(chunk)\n",
    "        chunk = f.read(8192)\n",
    "\n",
    "print(f\"Hash for {destFile}:\\n- md5sum: {file_hash.hexdigest()}\")"
   ]
  },
  {
   "cell_type": "code",
   "execution_count": 4,
   "metadata": {},
   "outputs": [
    {
     "name": "stdout",
     "output_type": "stream",
     "text": [
      "dict_keys(['EnvironmentFilter', 'WidthHeightFilter', 'ResourceFilter', 'CycleTrialsFilter', 'ErrorFilter', 'TraceAvailabilityFilter', 'AugmentationFilter', 'SpvTokenizedLengthFilter'])\n",
      "lenSet: 196226\n",
      "OSet: 13856\n",
      "NSet: 20669\n",
      "OSet: 10927\n",
      "NSet: 11264\n",
      "OSSet: 10899\n"
     ]
    }
   ],
   "source": [
    "print(snapshotter.filterResults.keys())\n",
    "lenSet = snapshotter.filterResults['SpvTokenizedLengthFilter'][0].elemExprIds\n",
    "OSet = snapshotter.filterResults['AugmentationFilter'][1].elemExprIds\n",
    "NSet = snapshotter.filterResults['AugmentationFilter'][0].elemExprIds\n",
    "OSSet = snapshotter.filterResults['AugmentationFilter'][14].elemExprIds\n",
    "\n",
    "print(f\"lenSet: {len(lenSet)}\")\n",
    "print(f\"OSet: {len(OSet)}\")\n",
    "print(f\"NSet: {len(NSet)}\")\n",
    "\n",
    "OSet = lenSet & OSet\n",
    "NSet = lenSet & NSet\n",
    "OSSet = lenSet & OSSet\n",
    "\n",
    "print(f\"OSet: {len(OSet)}\")\n",
    "print(f\"NSet: {len(NSet)}\")\n",
    "print(f\"OSSet: {len(OSSet)}\")"
   ]
  }
 ],
 "metadata": {
  "kernelspec": {
   "display_name": "venv",
   "language": "python",
   "name": "python3"
  },
  "language_info": {
   "codemirror_mode": {
    "name": "ipython",
    "version": 3
   },
   "file_extension": ".py",
   "mimetype": "text/x-python",
   "name": "python",
   "nbconvert_exporter": "python",
   "pygments_lexer": "ipython3",
   "version": "3.11.6"
  }
 },
 "nbformat": 4,
 "nbformat_minor": 2
}
