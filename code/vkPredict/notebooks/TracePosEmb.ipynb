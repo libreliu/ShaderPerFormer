{
 "cells": [
  {
   "cell_type": "markdown",
   "metadata": {},
   "source": [
    "# Test of log one hot positional encoding"
   ]
  },
  {
   "cell_type": "markdown",
   "metadata": {},
   "source": [
    "## Common premable"
   ]
  },
  {
   "cell_type": "code",
   "execution_count": 2,
   "metadata": {},
   "outputs": [],
   "source": [
    "import os, sys\n",
    "sys.path.append(os.path.join(os.path.abspath(''), '../'))\n",
    "\n",
    "import peewee as pw\n",
    "from toyDb.databases import ExperimentDb, ShaderDb\n",
    "from toyDb.utils.Directory import getToyDbRootDir\n",
    "\n",
    "import matplotlib.pyplot as plt\n",
    "import numpy as np\n",
    "import json\n",
    "from tqdm import tqdm\n",
    "import torch\n",
    "\n",
    "ExperimentDb.init_from_default_db()"
   ]
  },
  {
   "cell_type": "code",
   "execution_count": 3,
   "metadata": {},
   "outputs": [
    {
     "name": "stdout",
     "output_type": "stream",
     "text": [
      "tensor([[ 350310311, 4240118520, 9333777395, 3387237762, 5541553840],\n",
      "        [4940163684, 2745820344, 3627624808, 1872476548, 2258461142]])\n",
      "tensor([[3.5031e+08, 4.2401e+09, 9.3338e+09, 3.3872e+09, 5.5416e+09],\n",
      "        [4.9402e+09, 2.7458e+09, 3.6276e+09, 1.8725e+09, 2.2585e+09]])\n",
      "tensor([[[0., 0., 0., 0., 0., 1., 0., 1., 1., 1., 1., 1., 0., 0., 1., 0.],\n",
      "         [0., 0., 0., 0., 0., 0., 0., 0., 1., 1., 0., 0., 1., 0., 0., 0.],\n",
      "         [0., 0., 0., 0., 0., 0., 0., 0., 0., 0., 1., 0., 0., 1., 0., 0.],\n",
      "         [0., 0., 0., 0., 0., 0., 0., 0., 0., 1., 1., 0., 0., 1., 0., 0.],\n",
      "         [0., 0., 0., 0., 0., 0., 0., 0., 0., 1., 1., 0., 0., 1., 1., 0.]],\n",
      "\n",
      "        [[0., 0., 0., 0., 0., 0., 0., 0., 0., 1., 0., 1., 0., 1., 1., 1.],\n",
      "         [0., 0., 0., 0., 0., 0., 0., 0., 1., 0., 1., 0., 0., 1., 1., 1.],\n",
      "         [0., 0., 0., 0., 0., 0., 0., 0., 1., 0., 0., 1., 0., 1., 0., 0.],\n",
      "         [0., 0., 0., 0., 0., 0., 0., 1., 1., 0., 0., 1., 1., 1., 0., 1.],\n",
      "         [0., 0., 0., 0., 0., 0., 0., 0., 0., 1., 0., 0., 0., 1., 1., 0.]]])\n",
      "tensor([[9301881626, 3352352962,  171995628, 6844040054,  913670654],\n",
      "        [8080322933, 1372217387, 2607320381, 9961199951, 6681005891]])\n",
      "tensor([[9.3019e+09, 3.3524e+09, 1.7200e+08, 6.8440e+09, 9.1367e+08],\n",
      "        [8.0803e+09, 1.3722e+09, 2.6073e+09, 9.9612e+09, 6.6810e+09]])\n",
      "tensor([[[6., 0., 6., 1., 8., 8., 1., 0., 3., 9., 0., 0., 0., 0., 0., 0.],\n",
      "         [4., 6., 0., 3., 5., 3., 2., 5., 3., 3., 0., 0., 0., 0., 0., 0.],\n",
      "         [2., 4., 6., 5., 9., 9., 1., 7., 1., 0., 0., 0., 0., 0., 0., 0.],\n",
      "         [2., 2., 0., 0., 4., 0., 4., 4., 8., 6., 0., 0., 0., 0., 0., 0.],\n",
      "         [6., 4., 6., 0., 7., 6., 3., 1., 9., 0., 0., 0., 0., 0., 0., 0.]],\n",
      "\n",
      "        [[2., 0., 2., 3., 2., 3., 0., 8., 0., 8., 0., 0., 0., 0., 0., 0.],\n",
      "         [4., 8., 3., 7., 1., 2., 2., 7., 3., 1., 0., 0., 0., 0., 0., 0.],\n",
      "         [0., 2., 4., 0., 2., 3., 7., 0., 6., 2., 0., 0., 0., 0., 0., 0.],\n",
      "         [6., 6., 0., 9., 9., 1., 1., 6., 9., 9., 0., 0., 0., 0., 0., 0.],\n",
      "         [0., 8., 0., 6., 0., 0., 1., 8., 6., 6., 0., 0., 0., 0., 0., 0.]]])\n"
     ]
    }
   ],
   "source": [
    "def log_one_hot_pytorch(tensor: 'torch.Tensor', d_model: int, base=10):\n",
    "    bsz, seq_len = tensor.size()\n",
    "    tensor = tensor.view(bsz, seq_len, 1)\n",
    "\n",
    "    # sequence [base^(d_model-1), base^(d_model-2), ..., base^0]\n",
    "    # (d_model,)\n",
    "    div = base ** torch.arange(d_model-1, -1, -1).to(tensor.device)\n",
    "    \n",
    "    # (bsz, seq_len, 1)\n",
    "    # div broadcasts to (1, 1, d_model) and tensor to (bsz, seqlen, d_model)\n",
    "    # https://pytorch.org/docs/stable/notes/broadcasting.html\n",
    "    temp = tensor // div\n",
    "\n",
    "    # mod with base results in each digit alone in range(0, base) in each of d_model dimension\n",
    "    # shape (bsz, seq_len, d_model)\n",
    "    tensor_d_model = temp % base\n",
    "\n",
    "    return tensor_d_model.flip(2)\n",
    "\n",
    "# Usage\n",
    "def test(bsz, seq_len, d_model, base):\n",
    "  tensor = torch.randint(0, 10000000000, (bsz, seq_len))  # random tensor between 0 and 9999 (fits in d_model=4 digits)\n",
    "  print(tensor)\n",
    "  tensor = tensor.float()\n",
    "  print(tensor)\n",
    "  # tensor = tensor.to(torch.int64)\n",
    "  # print(tensor)\n",
    "  result = log_one_hot_pytorch(tensor, d_model, base)\n",
    "  print(result)\n",
    "\n",
    "test(2, 5, 16, 2)\n",
    "test(2, 5, 16, 10)"
   ]
  },
  {
   "cell_type": "code",
   "execution_count": 4,
   "metadata": {},
   "outputs": [
    {
     "name": "stdout",
     "output_type": "stream",
     "text": [
      "tensor([7575728212])\n",
      "tensor([7.5757e+09])\n",
      "tensor([7575728128])\n"
     ]
    },
    {
     "data": {
      "text/plain": [
       "tensor([[[8., 0., 0., 8., 2., 7., 5., 7., 5., 7.]]])"
      ]
     },
     "execution_count": 4,
     "metadata": {},
     "output_type": "execute_result"
    }
   ],
   "source": [
    "a_l = torch.asarray([7575728212])\n",
    "print(a_l)\n",
    "a_f = a_l.float()\n",
    "a_f_l = a_f.long()\n",
    "print(a_f)\n",
    "print(a_f_l)\n",
    "\n",
    "log_one_hot_pytorch(a_l.view(1, 1), 10, 10)\n",
    "\n",
    "# There are minor inaccuracy with this method, but overall good\n",
    "# and it can handle float input\n",
    "log_one_hot_pytorch(a_f.view(1, 1), 10, 10)"
   ]
  },
  {
   "cell_type": "markdown",
   "metadata": {},
   "source": [
    "Application tip: use `-base` to get a balanced code?"
   ]
  },
  {
   "cell_type": "markdown",
   "metadata": {},
   "source": [
    "The above method have serious bug for large d_model. Use bit ops instead (for base2 only)"
   ]
  },
  {
   "cell_type": "code",
   "execution_count": 5,
   "metadata": {},
   "outputs": [
    {
     "name": "stdout",
     "output_type": "stream",
     "text": [
      "tensor([[1397778103705324293, 1593878440054493545, 7747133411190494865,\n",
      "         6651259306569629801, 2456639253156878187],\n",
      "        [ 608122149875274741, 3540975803657400709, 2898410917480899212,\n",
      "         7727577357813226273,  272090792944917241]])\n",
      "tensor([[[ 0.5000, -0.5000,  0.5000,  ..., -0.5000, -0.5000, -0.5000],\n",
      "         [ 0.5000, -0.5000, -0.5000,  ..., -0.5000, -0.5000, -0.5000],\n",
      "         [ 0.5000, -0.5000, -0.5000,  ..., -0.5000, -0.5000, -0.5000],\n",
      "         [ 0.5000, -0.5000, -0.5000,  ..., -0.5000, -0.5000, -0.5000],\n",
      "         [ 0.5000,  0.5000, -0.5000,  ..., -0.5000, -0.5000, -0.5000]],\n",
      "\n",
      "        [[ 0.5000, -0.5000,  0.5000,  ..., -0.5000, -0.5000, -0.5000],\n",
      "         [ 0.5000, -0.5000,  0.5000,  ..., -0.5000, -0.5000, -0.5000],\n",
      "         [-0.5000, -0.5000,  0.5000,  ..., -0.5000, -0.5000, -0.5000],\n",
      "         [ 0.5000, -0.5000, -0.5000,  ..., -0.5000, -0.5000, -0.5000],\n",
      "         [ 0.5000, -0.5000, -0.5000,  ..., -0.5000, -0.5000, -0.5000]]])\n",
      "tensor([[1397778103705324293, 1593878440054493545, 7747133411190494865,\n",
      "         6651259306569629801, 2456639253156878187],\n",
      "        [ 608122149875274741, 3540975803657400709, 2898410917480899212,\n",
      "         7727577357813226273,  272090792944917241]])\n"
     ]
    }
   ],
   "source": [
    "bsz, seq_len, d_model = 2, 5, 768\n",
    "shifted = True\n",
    "\n",
    "# (bsz, seqlen)\n",
    "trace_labels = torch.randint(0, 2**63-1, (bsz, seq_len), dtype=torch.int64)\n",
    "print(trace_labels)\n",
    "\n",
    "ones = torch.ones((d_model,), dtype=torch.int64, device=trace_labels.device)\n",
    "# (d_model)\n",
    "masks = torch.bitwise_left_shift(ones, torch.arange(d_model, device=trace_labels.device))\n",
    "\n",
    "# (bsz, seq_len, d_model)\n",
    "trace_embed = (torch.bitwise_and(trace_labels.view(bsz, seq_len, 1), masks.view(1, 1, d_model)) > 0).float()\n",
    "if shifted:\n",
    "    trace_embed -= 0.5\n",
    "print(trace_embed)\n",
    "\n",
    "# test for recovery\n",
    "recovered = torch.sum((trace_embed > 0).int() * masks.view(1, 1, d_model), dim=-1)\n",
    "print(recovered)\n",
    "\n",
    "assert(torch.equal(recovered, trace_labels))"
   ]
  },
  {
   "cell_type": "markdown",
   "metadata": {},
   "source": [
    "> Test for 豆豆's improvement thoughts on this"
   ]
  },
  {
   "cell_type": "code",
   "execution_count": 44,
   "metadata": {},
   "outputs": [
    {
     "name": "stdout",
     "output_type": "stream",
     "text": [
      "tensor([[  0.,   0.,   0.,   0.,   0.,   0.,   0.,   0.,   0.,   0.,   0.],\n",
      "        [  1.,   0.,   0.,   0.,   0.,   0.,   0.,   0.,   0.,   0.,   0.],\n",
      "        [  0.,   0.,   0.,   0.,   0.,   0.,   0.,   0.,   0.,   0.,   0.],\n",
      "        [  0.,   2.,   0.,   0.,   0.,   0.,   0.,   0.,   0.,   0.,   0.],\n",
      "        [  0.,   0.,   0.,   0.,   0.,   0.,   0.,   0.,   0.,   0.,   0.],\n",
      "        [  0.,   0.,   4.,   0.,   0.,   0.,   0.,   0.,   0.,   0.,   0.],\n",
      "        [  0.,   0.,   0.,   0.,   0.,   0.,   0.,   0.,   0.,   0.,   0.],\n",
      "        [  0.,   0.,   0.,   8.,   0.,   0.,   0.,   0.,   0.,   0.,   0.],\n",
      "        [  0.,   0.,   0.,   0.,   0.,   0.,   0.,   0.,   0.,   0.,   0.],\n",
      "        [  0.,   0.,   0.,   0.,  16.,   0.,   0.,   0.,   0.,   0.,   0.],\n",
      "        [  0.,   0.,   0.,   0.,   0.,   0.,   0.,   0.,   0.,   0.,   0.],\n",
      "        [  0.,   0.,   0.,   0.,   0.,  32.,   0.,   0.,   0.,   0.,   0.],\n",
      "        [  0.,   0.,   0.,   0.,   0.,   0.,   0.,   0.,   0.,   0.,   0.],\n",
      "        [  0.,   0.,   0.,   0.,   0.,   0.,  64.,   0.,   0.,   0.,   0.],\n",
      "        [  0.,   0.,   0.,   0.,   0.,   0.,   0.,   0.,   0.,   0.,   0.],\n",
      "        [  0.,   0.,   0.,   0.,   0.,   0.,   0., 128.,   0.,   0.,   0.]])\n"
     ]
    },
    {
     "data": {
      "text/plain": [
       "tensor([[[  0.,   0.,   0.,   0.,   0.,   0.,   0.,   0.,   0.,   0.,   0.],\n",
       "         [  1.,   0.,   0.,   0.,   0.,   0.,   0.,   0.,   0.,   0.,   0.],\n",
       "         [  0.,   2.,   0.,   0.,   0.,   0.,   0.,   0.,   0.,   0.,   0.],\n",
       "         [  1.,   2.,   0.,   0.,   0.,   0.,   0.,   0.,   0.,   0.,   0.],\n",
       "         [  1.,   2.,   4.,   8.,  16.,  32.,  64., 128.,   0.,   0.,   0.],\n",
       "         [  1.,   2.,   4.,   8.,  16.,  32.,  64., 128.,   0.,   0.,   0.],\n",
       "         [  1.,   2.,   4.,   8.,  16.,  32.,  64., 128.,   0.,   0.,   0.],\n",
       "         [  1.,   2.,   4.,   8.,  16.,  32.,  64., 128.,   0.,   0.,   0.],\n",
       "         [  1.,   2.,   4.,   8.,  16.,  32.,  64., 128.,   0.,   0.,   0.]]])"
      ]
     },
     "execution_count": 44,
     "metadata": {},
     "output_type": "execute_result"
    }
   ],
   "source": [
    "trace_label_binary_embedding_max_length = 8\n",
    "hidden_size = 11\n",
    "\n",
    "trace_label_binary_embedding = torch.zeros((2 * trace_label_binary_embedding_max_length, hidden_size), dtype=torch.float32)\n",
    "for idx in range(0, trace_label_binary_embedding_max_length):\n",
    "    trace_label_binary_embedding[2 * idx, idx] = 0\n",
    "    trace_label_binary_embedding[2 * idx + 1, idx] = int(2 ** (idx))\n",
    "\n",
    "print(trace_label_binary_embedding)\n",
    "\n",
    "def _calculate_trace_label_embeddings_binary_learnable(trace_labels: 'torch.Tensor') -> 'torch.Tensor':\n",
    "    d_model = hidden_size\n",
    "\n",
    "    # this assumes all input number < 2**bits_max-1\n",
    "    bits_max = 64\n",
    "    \n",
    "    bsz, seq_len = trace_labels.size()\n",
    "    trace_labels = trace_labels.to(dtype=torch.int64, device=trace_labels.device)\n",
    "    ones = torch.ones((bits_max,), dtype=torch.int64, device=trace_labels.device)\n",
    "\n",
    "    # (bits_max, )\n",
    "    masks = torch.bitwise_left_shift(ones, torch.arange(bits_max, device=trace_labels.device))\n",
    "\n",
    "    # shape (bsz, seq_len, bits_max)\n",
    "    # bits_max dim is from LSB first\n",
    "    binary_form = (torch.bitwise_and(trace_labels.view(bsz, seq_len, 1), masks.view(1, 1, bits_max)) > 0).int()\n",
    "\n",
    "    # check if some trace_label have gone beyond the limit\n",
    "    d_emb_max_len = trace_label_binary_embedding_max_length\n",
    "\n",
    "    # (bsz, seq_len)\n",
    "    is_beyond_limit_mask = (\n",
    "        torch.sum(binary_form[:, :, d_emb_max_len:], dim=2) > 0\n",
    "    )\n",
    "\n",
    "    # shape (bsz, seq_len, d_emb_max_len)\n",
    "    binary_form_masked = torch.where(\n",
    "        # (bsz, seq_len, 1)\n",
    "        is_beyond_limit_mask.unsqueeze(-1),\n",
    "        # (1, 1, 1)\n",
    "        torch.ones((1, 1, 1), dtype=torch.int64, device=trace_labels.device),\n",
    "        # (bsz, seq_len, d_emb_max_len)\n",
    "        binary_form[:, :, :d_emb_max_len]\n",
    "    )\n",
    "    \n",
    "    # Manually unwraps the first loop\n",
    "    assert(trace_label_binary_embedding_max_length >= 1)\n",
    "    # (bsz, seq_len, d_model = d_model)\n",
    "    trace_embeds = torch.where(\n",
    "        # (bsz, seq_len) -> (bsz, seq_len, 1)\n",
    "        (binary_form_masked[:, :, 0] == 1).view(bsz, seq_len, 1),\n",
    "        # The embedding of 1, (d_model,) -> (1, 1, d_model)\n",
    "        trace_label_binary_embedding[1].view(1, 1, d_model),\n",
    "        # The embedding of 0, (d_model,) -> (1, 1, d_model)\n",
    "        trace_label_binary_embedding[0].view(1, 1, d_model)\n",
    "    )\n",
    "\n",
    "    for idx in range(1, d_emb_max_len):\n",
    "        trace_embeds += (\n",
    "            torch.where(\n",
    "                (binary_form_masked[:, :, idx] == 1).view(bsz, seq_len, 1),\n",
    "                trace_label_binary_embedding[2 * idx + 1].view(1, 1, d_model),\n",
    "                trace_label_binary_embedding[2 * idx].view(1, 1, d_model)\n",
    "            )\n",
    "        )\n",
    "    return trace_embeds\n",
    "\n",
    "# test clamping\n",
    "trace_labels = torch.as_tensor([[0, 1, 2, 3, 255, 256, 512, 100000, 1 << 62]], dtype=torch.int64)\n",
    "_calculate_trace_label_embeddings_binary_learnable(trace_labels)"
   ]
  }
 ],
 "metadata": {
  "kernelspec": {
   "display_name": "venv",
   "language": "python",
   "name": "python3"
  },
  "language_info": {
   "codemirror_mode": {
    "name": "ipython",
    "version": 3
   },
   "file_extension": ".py",
   "mimetype": "text/x-python",
   "name": "python",
   "nbconvert_exporter": "python",
   "pygments_lexer": "ipython3",
   "version": "3.11.5"
  }
 },
 "nbformat": 4,
 "nbformat_minor": 2
}
