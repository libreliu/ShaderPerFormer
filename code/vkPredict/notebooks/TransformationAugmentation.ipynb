{
 "cells": [
  {
   "cell_type": "markdown",
   "metadata": {},
   "source": [
    "> This is a preliminary study on shader augmentation"
   ]
  },
  {
   "cell_type": "code",
   "execution_count": 2,
   "metadata": {},
   "outputs": [],
   "source": [
    "import os, sys\n",
    "sys.path.append(os.path.join(os.path.abspath(''), '../'))\n",
    "\n",
    "import peewee as pw\n",
    "from toyDb.databases import ExperimentDb, ShaderDb\n",
    "from toyDb.utils.Directory import getToyDbRootDir\n",
    "\n",
    "import matplotlib.pyplot as plt\n",
    "import numpy as np\n",
    "import json\n",
    "from tqdm import tqdm\n",
    "import torch\n",
    "\n",
    "ExperimentDb.init_from_default_db()"
   ]
  },
  {
   "cell_type": "markdown",
   "metadata": {},
   "source": [
    "## Prepare"
   ]
  },
  {
   "cell_type": "code",
   "execution_count": 3,
   "metadata": {},
   "outputs": [],
   "source": [
    "shaderDB = ShaderDb.ShaderDB(os.path.join(getToyDbRootDir(), \"shaders\"))\n",
    "shaderDB.scan_local()\n",
    "shaderDB.load_all()\n",
    "\n",
    "all_shaders = set(shaderDB.offlineShaders.keys())\n",
    "imageonly_shaders = shaderDB.filter_attribute([\"is_imageonly\"])\n",
    "\n",
    "# all environments available in database\n",
    "all_environments = ExperimentDb.Environment.select()\n",
    "\n",
    "# shaders that have at least 1 non-error measurement\n",
    "measurable_shaders = set([shdr.shader_id for shdr in ExperimentDb.ImageOnlyShader.select(\n",
    "      ExperimentDb.ImageOnlyShader.shader_id\n",
    "    ).join(ExperimentDb.ImageOnlyExperiment).where(\n",
    "      ExperimentDb.ImageOnlyExperiment.errors == ExperimentDb.ErrorType.NONE,\n",
    "    ).distinct()\n",
    "])\n",
    "\n",
    "# shaders that have measurements in all working environments\n",
    "all_measurable_shaders = set([shdr.shader_id for shdr in ExperimentDb.ImageOnlyShader.select(\n",
    "      ExperimentDb.ImageOnlyShader.shader_id\n",
    "    ).join(ExperimentDb.ImageOnlyExperiment).group_by(\n",
    "      ExperimentDb.ImageOnlyShader.shader_id\n",
    "    ).having(\n",
    "      pw.fn.MAX(ExperimentDb.ImageOnlyExperiment.errors) == 0\n",
    "    )\n",
    "])\n",
    "\n",
    "measurable_and_traceable_shaders = set([shdr.shader_id for shdr in ExperimentDb.ImageOnlyShader.select(\n",
    "      ExperimentDb.ImageOnlyShader.shader_id\n",
    "    ).join(ExperimentDb.ImageOnlyExperiment).where(\n",
    "      ExperimentDb.ImageOnlyExperiment.errors == ExperimentDb.ErrorType.NONE,\n",
    "      ExperimentDb.ImageOnlyExperiment.trace.is_null(False)\n",
    "    ).distinct()\n",
    "])\n",
    "\n",
    "all_measurable_and_traceable_shaders = set([shdr.shader_id for shdr in ExperimentDb.ImageOnlyShader.select(\n",
    "      ExperimentDb.ImageOnlyShader.shader_id\n",
    "    ).join(ExperimentDb.ImageOnlyExperiment).group_by(\n",
    "      ExperimentDb.ImageOnlyShader.shader_id\n",
    "    ).having(\n",
    "      pw.fn.MAX(ExperimentDb.ImageOnlyExperiment.errors) == 0,\n",
    "      pw.fn.SUM(ExperimentDb.ImageOnlyExperiment.trace.is_null(True)) == 0\n",
    "    )\n",
    "])\n",
    "\n",
    "all_measurable_and_traceable_canonical_shaders = set([shdr.shader_id for shdr in ExperimentDb.ImageOnlyShader.select(\n",
    "      ExperimentDb.ImageOnlyShader.shader_id\n",
    "    ).join(ExperimentDb.ImageOnlyExperiment).where(\n",
    "      ExperimentDb.ImageOnlyExperiment.num_cycles == ExperimentDb.CANONICAL_NUM_CYCLES,\n",
    "      ExperimentDb.ImageOnlyExperiment.num_trials == ExperimentDb.CANONICAL_NUM_TRIALS,\n",
    "      ExperimentDb.ImageOnlyExperiment.width == ExperimentDb.CANONICAL_WIDTH,\n",
    "      ExperimentDb.ImageOnlyExperiment.height == ExperimentDb.CANONICAL_HEIGHT\n",
    "    ).group_by(\n",
    "      ExperimentDb.ImageOnlyShader.shader_id\n",
    "    ).having(\n",
    "      pw.fn.MAX(ExperimentDb.ImageOnlyExperiment.errors) == 0,\n",
    "      pw.fn.SUM(ExperimentDb.ImageOnlyExperiment.trace.is_null(True)) == 0\n",
    "    )\n",
    "])"
   ]
  },
  {
   "cell_type": "code",
   "execution_count": 4,
   "metadata": {},
   "outputs": [
    {
     "name": "stdout",
     "output_type": "stream",
     "text": [
      "Number of shaders in Shadertoy Offline Database: 0\n",
      "Number of ImageOnly shaders: 0\n",
      "Number of environments: 1\n",
      "Number of measurable shaders: 13882\n",
      "Number of all measurable shaders: 13882\n",
      "Number of measurable and traceable shaders: 13868\n",
      "Number of all measurable and traceable shaders: 4\n",
      "Number of all measurable and traceable canonical experimented shaders: 13868\n"
     ]
    }
   ],
   "source": [
    "print(f\"Number of shaders in Shadertoy Offline Database: {len(all_shaders)}\")\n",
    "print(f\"Number of ImageOnly shaders: {len(imageonly_shaders)}\")\n",
    "print(f\"Number of environments: {len(all_environments)}\")\n",
    "\n",
    "print(f\"Number of measurable shaders: {len(measurable_shaders)}\")\n",
    "print(f\"Number of all measurable shaders: {len(all_measurable_shaders)}\")\n",
    "print(f\"Number of measurable and traceable shaders: {len(measurable_and_traceable_shaders)}\")\n",
    "print(f\"Number of all measurable and traceable shaders: {len(all_measurable_and_traceable_shaders)}\")\n",
    "print(f\"Number of all measurable and traceable canonical experimented shaders: {len(all_measurable_and_traceable_canonical_shaders)}\")"
   ]
  },
  {
   "cell_type": "code",
   "execution_count": 5,
   "metadata": {},
   "outputs": [
    {
     "data": {
      "text/plain": [
       "{'3tdGRj',\n",
       " '4llSzS',\n",
       " '7tlyDs',\n",
       " 'Ds23Wd',\n",
       " 'Nd33Dr',\n",
       " 'NdfXR7',\n",
       " 'Wd2yWt',\n",
       " 'XdffR2',\n",
       " 'XtXBzs',\n",
       " 'dlc3Wl',\n",
       " 'ld33RX',\n",
       " 'ld3cWj',\n",
       " 'msc3W2',\n",
       " 'tddXzl'}"
      ]
     },
     "execution_count": 5,
     "metadata": {},
     "output_type": "execute_result"
    }
   ],
   "source": [
    "measurable_shaders - measurable_and_traceable_shaders"
   ]
  },
  {
   "cell_type": "markdown",
   "metadata": {},
   "source": [
    "### shaderToExperiment"
   ]
  },
  {
   "cell_type": "code",
   "execution_count": 6,
   "metadata": {},
   "outputs": [
    {
     "name": "stdout",
     "output_type": "stream",
     "text": [
      "Environment selected: libreliu-GCL-Arch -  Intel(R) Core(TM) i7-10700K CPU @ 3.80GHz - NVIDIA GeForce RTX 3060 - NVIDIA 535.113.01\n"
     ]
    }
   ],
   "source": [
    "environment_selected = all_environments[0]\n",
    "print(f\"Environment selected: {environment_selected.node} - {environment_selected.cpu} - {environment_selected.gpu} - {environment_selected.gpu_driver}\")"
   ]
  },
  {
   "cell_type": "code",
   "execution_count": 7,
   "metadata": {},
   "outputs": [
    {
     "name": "stdout",
     "output_type": "stream",
     "text": [
      "Number of experiment selected: 13868\n"
     ]
    }
   ],
   "source": [
    "# Select experiments where shaderIDs match the shaderID provided, and\n",
    "# return the first if have multiple record\n",
    "shader_to_experiment = {}\n",
    "query = ExperimentDb.ImageOnlyExperiment.select(\n",
    "      ExperimentDb.ImageOnlyExperiment\n",
    "    ).where(\n",
    "      # Canonical condition\n",
    "      ExperimentDb.ImageOnlyExperiment.num_cycles == ExperimentDb.CANONICAL_NUM_CYCLES,\n",
    "      ExperimentDb.ImageOnlyExperiment.num_trials == ExperimentDb.CANONICAL_NUM_TRIALS,\n",
    "      ExperimentDb.ImageOnlyExperiment.width == ExperimentDb.CANONICAL_WIDTH,\n",
    "      ExperimentDb.ImageOnlyExperiment.height == ExperimentDb.CANONICAL_HEIGHT,\n",
    "      # Inside all_measurable_and_traceable_canonical_shaders\n",
    "      ExperimentDb.ImageOnlyExperiment.environment == environment_selected\n",
    "    ).order_by(\n",
    "      ExperimentDb.ImageOnlyExperiment.shader_shadertoy_id\n",
    "    )\n",
    "\n",
    "# To debug the SQL command use this\n",
    "# print(query)\n",
    "  \n",
    "for expr in query:\n",
    "  shader_id = expr.shader_shadertoy_id\n",
    "  if shader_id not in all_measurable_and_traceable_canonical_shaders:\n",
    "    continue\n",
    "\n",
    "  if shader_id not in shader_to_experiment:\n",
    "    shader_to_experiment[shader_id] = expr\n",
    "\n",
    "print(f\"Number of experiment selected: {len(shader_to_experiment)}\")\n"
   ]
  }
 ],
 "metadata": {
  "kernelspec": {
   "display_name": "venv",
   "language": "python",
   "name": "python3"
  },
  "language_info": {
   "codemirror_mode": {
    "name": "ipython",
    "version": 3
   },
   "file_extension": ".py",
   "mimetype": "text/x-python",
   "name": "python",
   "nbconvert_exporter": "python",
   "pygments_lexer": "ipython3",
   "version": "3.8.3"
  }
 },
 "nbformat": 4,
 "nbformat_minor": 2
}
