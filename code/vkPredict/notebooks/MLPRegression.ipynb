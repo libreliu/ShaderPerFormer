{
 "cells": [
  {
   "cell_type": "markdown",
   "metadata": {},
   "source": [
    "## MLP Regression"
   ]
  },
  {
   "cell_type": "code",
   "execution_count": 1,
   "metadata": {},
   "outputs": [],
   "source": [
    "import os, sys\n",
    "sys.path.append(os.path.join(os.path.abspath(''), '../'))\n",
    "\n",
    "from compete.MLP import (\n",
    "    MLPNet,\n",
    "    PerInstCountDataset\n",
    ")\n",
    "from toyDb.utils.spv import SpvContext\n",
    "from dataset.DatasetBuilder import build_dataset\n",
    "from dataset.MapDataset import MapDataset, MapMixin\n",
    "import transformers\n",
    "import numpy as np\n",
    "from transformers import Trainer, TrainingArguments\n",
    "from transformers.trainer_callback import TrainerCallback\n",
    "from misc.normalization import (\n",
    "  NormalizerBase,\n",
    "  Normalizer,\n",
    "  DummyNormalizer,\n",
    "  LogPlusNormalizer,\n",
    "  LogNormalizer\n",
    ")\n",
    "from misc.metric import compute_metrics\n",
    "import torch\n",
    "from copy import deepcopy\n"
   ]
  },
  {
   "cell_type": "code",
   "execution_count": 2,
   "metadata": {},
   "outputs": [
    {
     "name": "stderr",
     "output_type": "stream",
     "text": [
      "/home/libreliu/Projects/NGPP/vkPredict/venv/lib/python3.11/site-packages/transformers/optimization.py:411: FutureWarning: This implementation of AdamW is deprecated and will be removed in a future version. Use the PyTorch implementation torch.optim.AdamW instead, or set `no_deprecation_warning=True` to disable this warning\n",
      "  warnings.warn(\n"
     ]
    },
    {
     "data": {
      "application/vnd.jupyter.widget-view+json": {
       "model_id": "cc84dfeda26e46eea2513fde5f16f771",
       "version_major": 2,
       "version_minor": 0
      },
      "text/plain": [
       "  0%|          | 0/900 [00:00<?, ?it/s]"
      ]
     },
     "metadata": {},
     "output_type": "display_data"
    },
    {
     "name": "stdout",
     "output_type": "stream",
     "text": [
      "{'loss': 81.2793, 'learning_rate': 0.0004944444444444445, 'epoch': 0.56}\n"
     ]
    },
    {
     "data": {
      "application/vnd.jupyter.widget-view+json": {
       "model_id": "fe76c5822fb14b47a9b5fbf4b85db228",
       "version_major": 2,
       "version_minor": 0
      },
      "text/plain": [
       "  0%|          | 0/5 [00:00<?, ?it/s]"
      ]
     },
     "metadata": {},
     "output_type": "display_data"
    },
    {
     "name": "stdout",
     "output_type": "stream",
     "text": [
      "{'eval_loss': 74.26960754394531, 'eval_mse_sqrt': 0.4326850175857544, 'eval_mae': 0.43264713883399963, 'eval_mape': 11906.0185546875, 'eval_mse_sqrt_ge_10000fps': 0.4335895776748657, 'eval_mae_ge_10000fps': 0.43358948826789856, 'eval_mape_ge_10000fps': 18802.154296875, 'eval_mse_sqrt_ge_1000_le_10000fps': 0.43318164348602295, 'eval_mae_ge_1000_le_10000fps': 0.433181494474411, 'eval_mape_ge_1000_le_10000fps': 1669.4796142578125, 'eval_mse_sqrt_ge_100_le_1000fps': 0.43058785796165466, 'eval_mae_ge_100_le_1000fps': 0.4305835962295532, 'eval_mape_ge_100_le_1000fps': 203.02809143066406, 'eval_mse_sqrt_ge_10_le_100fps': 0.41300877928733826, 'eval_mae_ge_10_le_100fps': 0.41283002495765686, 'eval_mape_ge_10_le_100fps': 25.50628089904785, 'eval_mse_sqrt_le_10fps': 0.20915623009204865, 'eval_mae_le_10fps': 0.20915623009204865, 'eval_mape_le_10fps': 0.9349676966667175, 'eval_mse_sqrt_raw': 8.617981910705566, 'eval_mae_raw': 8.406179428100586, 'eval_mape_raw': 0.904082179069519, 'eval_runtime': 10.3353, 'eval_samples_per_second': 218.185, 'eval_steps_per_second': 0.484, 'epoch': 0.56}\n",
      "{'loss': 67.8174, 'learning_rate': 0.0004888888888888889, 'epoch': 1.11}\n"
     ]
    },
    {
     "data": {
      "application/vnd.jupyter.widget-view+json": {
       "model_id": "dd1fa3ab8d2b4d019ae029c8d5fed579",
       "version_major": 2,
       "version_minor": 0
      },
      "text/plain": [
       "  0%|          | 0/5 [00:00<?, ?it/s]"
      ]
     },
     "metadata": {},
     "output_type": "display_data"
    },
    {
     "name": "stdout",
     "output_type": "stream",
     "text": [
      "{'eval_loss': 60.505611419677734, 'eval_mse_sqrt': 0.18207786977291107, 'eval_mae': 0.1820247620344162, 'eval_mape': 5022.505859375, 'eval_mse_sqrt_ge_10000fps': 0.18291763961315155, 'eval_mae_ge_10000fps': 0.1829175055027008, 'eval_mape_ge_10000fps': 7931.9638671875, 'eval_mse_sqrt_ge_1000_le_10000fps': 0.18253150582313538, 'eval_mae_ge_1000_le_10000fps': 0.1825312077999115, 'eval_mape_ge_1000_le_10000fps': 703.7196655273438, 'eval_mse_sqrt_ge_100_le_1000fps': 0.1799764335155487, 'eval_mae_ge_100_le_1000fps': 0.17996633052825928, 'eval_mape_ge_100_le_1000fps': 85.08599090576172, 'eval_mse_sqrt_ge_10_le_100fps': 0.1626347005367279, 'eval_mae_ge_10_le_100fps': 0.16217924654483795, 'eval_mape_ge_10_le_100fps': 10.180415153503418, 'eval_mse_sqrt_le_10fps': 0.04130636155605316, 'eval_mae_le_10fps': 0.04130636155605316, 'eval_mape_le_10fps': 0.18464720249176025, 'eval_mse_sqrt_raw': 7.77853536605835, 'eval_mae_raw': 7.543379306793213, 'eval_mape_raw': 0.8051504492759705, 'eval_runtime': 10.2847, 'eval_samples_per_second': 219.257, 'eval_steps_per_second': 0.486, 'epoch': 1.11}\n",
      "{'loss': 53.9698, 'learning_rate': 0.00048333333333333334, 'epoch': 1.67}\n"
     ]
    },
    {
     "data": {
      "application/vnd.jupyter.widget-view+json": {
       "model_id": "2ac5ee93faf84c6b9e371e95b3a6579a",
       "version_major": 2,
       "version_minor": 0
      },
      "text/plain": [
       "  0%|          | 0/5 [00:00<?, ?it/s]"
      ]
     },
     "metadata": {},
     "output_type": "display_data"
    },
    {
     "name": "stdout",
     "output_type": "stream",
     "text": [
      "{'eval_loss': 47.89265441894531, 'eval_mse_sqrt': 0.07451796531677246, 'eval_mae': 0.0744309052824974, 'eval_mape': 2065.388671875, 'eval_mse_sqrt_ge_10000fps': 0.07522524148225784, 'eval_mae_ge_10000fps': 0.07522505521774292, 'eval_mape_ge_10000fps': 3262.2021484375, 'eval_mse_sqrt_ge_1000_le_10000fps': 0.07484486699104309, 'eval_mae_ge_1000_le_10000fps': 0.07484433054924011, 'eval_mape_ge_1000_le_10000fps': 288.8154296875, 'eval_mse_sqrt_ge_100_le_1000fps': 0.07230982929468155, 'eval_mae_ge_100_le_1000fps': 0.07228487730026245, 'eval_mape_ge_100_le_1000fps': 34.408748626708984, 'eval_mse_sqrt_ge_10_le_100fps': 0.05585035681724548, 'eval_mae_ge_10_le_100fps': 0.054508112370967865, 'eval_mape_ge_10_le_100fps': 3.5969226360321045, 'eval_mse_sqrt_le_10fps': 0.14883258938789368, 'eval_mae_le_10fps': 0.14883258938789368, 'eval_mape_le_10fps': 0.6653096675872803, 'eval_mse_sqrt_raw': 6.920452117919922, 'eval_mae_raw': 6.6557936668396, 'eval_mape_raw': 0.7037085294723511, 'eval_runtime': 10.1913, 'eval_samples_per_second': 221.267, 'eval_steps_per_second': 0.491, 'epoch': 1.67}\n",
      "{'loss': 42.3137, 'learning_rate': 0.0004777777777777778, 'epoch': 2.22}\n"
     ]
    },
    {
     "data": {
      "application/vnd.jupyter.widget-view+json": {
       "model_id": "ec8c3a09e83a4849b631b3c94ffbbf60",
       "version_major": 2,
       "version_minor": 0
      },
      "text/plain": [
       "  0%|          | 0/5 [00:00<?, ?it/s]"
      ]
     },
     "metadata": {},
     "output_type": "display_data"
    },
    {
     "name": "stdout",
     "output_type": "stream",
     "text": [
      "{'eval_loss': 37.66337203979492, 'eval_mse_sqrt': 0.032728809863328934, 'eval_mae': 0.03245270997285843, 'eval_mape': 910.1047973632812, 'eval_mse_sqrt_ge_10000fps': 0.033150702714920044, 'eval_mae_ge_10000fps': 0.0331505686044693, 'eval_mape_ge_10000fps': 1437.808349609375, 'eval_mse_sqrt_ge_1000_le_10000fps': 0.032780107110738754, 'eval_mae_ge_1000_le_10000fps': 0.032779160887002945, 'eval_mape_ge_1000_le_10000fps': 126.75621032714844, 'eval_mse_sqrt_ge_100_le_1000fps': 0.030275730416178703, 'eval_mae_ge_100_le_1000fps': 0.030216354876756668, 'eval_mape_ge_100_le_1000fps': 14.610398292541504, 'eval_mse_sqrt_ge_10_le_100fps': 0.01742805726826191, 'eval_mae_ge_10_le_100fps': 0.015848560258746147, 'eval_mape_ge_10_le_100fps': 1.0911527872085571, 'eval_mse_sqrt_le_10fps': 0.19072891771793365, 'eval_mae_le_10fps': 0.19072891771793365, 'eval_mape_le_10fps': 0.8525941371917725, 'eval_mse_sqrt_raw': 6.137049198150635, 'eval_mae_raw': 5.838853359222412, 'eval_mape_raw': 0.6106371879577637, 'eval_runtime': 10.29, 'eval_samples_per_second': 219.146, 'eval_steps_per_second': 0.486, 'epoch': 2.22}\n",
      "{'loss': 33.948, 'learning_rate': 0.00047222222222222224, 'epoch': 2.78}\n"
     ]
    },
    {
     "data": {
      "application/vnd.jupyter.widget-view+json": {
       "model_id": "8a465f57d5e24457a3d859bd4bc1fa93",
       "version_major": 2,
       "version_minor": 0
      },
      "text/plain": [
       "  0%|          | 0/5 [00:00<?, ?it/s]"
      ]
     },
     "metadata": {},
     "output_type": "display_data"
    },
    {
     "name": "stdout",
     "output_type": "stream",
     "text": [
      "{'eval_loss': 30.28725814819336, 'eval_mse_sqrt': 0.01700495555996895, 'eval_mae': 0.01640539988875389, 'eval_mape': 464.99981689453125, 'eval_mse_sqrt_ge_10000fps': 0.016940230503678322, 'eval_mae_ge_10000fps': 0.016940167173743248, 'eval_mape_ge_10000fps': 734.8922729492188, 'eval_mse_sqrt_ge_1000_le_10000fps': 0.016580330207943916, 'eval_mae_ge_1000_le_10000fps': 0.016578631475567818, 'eval_mape_ge_1000_le_10000fps': 64.34691619873047, 'eval_mse_sqrt_ge_100_le_1000fps': 0.014139163307845592, 'eval_mae_ge_100_le_1000fps': 0.014011886902153492, 'eval_mape_ge_100_le_1000fps': 6.984167098999023, 'eval_mse_sqrt_ge_10_le_100fps': 0.012749838642776012, 'eval_mae_ge_10_le_100fps': 0.00851310882717371, 'eval_mape_ge_10_le_100fps': 0.3757762908935547, 'eval_mse_sqrt_le_10fps': 0.20682375133037567, 'eval_mae_le_10fps': 0.20682375133037567, 'eval_mape_le_10fps': 0.9245410561561584, 'eval_mse_sqrt_raw': 5.5033860206604, 'eval_mae_raw': 5.17542028427124, 'eval_mape_raw': 0.5359897017478943, 'eval_runtime': 10.1274, 'eval_samples_per_second': 222.662, 'eval_steps_per_second': 0.494, 'epoch': 2.78}\n",
      "{'loss': 27.6412, 'learning_rate': 0.00046666666666666666, 'epoch': 3.33}\n"
     ]
    },
    {
     "data": {
      "application/vnd.jupyter.widget-view+json": {
       "model_id": "286464dc95a8429ea6ef201400c3758b",
       "version_major": 2,
       "version_minor": 0
      },
      "text/plain": [
       "  0%|          | 0/5 [00:00<?, ?it/s]"
      ]
     },
     "metadata": {},
     "output_type": "display_data"
    },
    {
     "name": "stdout",
     "output_type": "stream",
     "text": [
      "{'eval_loss': 24.99391746520996, 'eval_mse_sqrt': 0.010597544722259045, 'eval_mae': 0.009479174390435219, 'eval_mape': 270.380615234375, 'eval_mse_sqrt_ge_10000fps': 0.009852217510342598, 'eval_mae_ge_10000fps': 0.009852179326117039, 'eval_mape_ge_10000fps': 427.537841796875, 'eval_mse_sqrt_ge_1000_le_10000fps': 0.009498159401118755, 'eval_mae_ge_1000_le_10000fps': 0.009495243430137634, 'eval_mape_ge_1000_le_10000fps': 37.05875015258789, 'eval_mse_sqrt_ge_100_le_1000fps': 0.007180720567703247, 'eval_mae_ge_100_le_1000fps': 0.006926949135959148, 'eval_mape_ge_100_le_1000fps': 3.6498115062713623, 'eval_mse_sqrt_ge_10_le_100fps': 0.016297435387969017, 'eval_mae_ge_10_le_100fps': 0.010810378938913345, 'eval_mape_ge_10_le_100fps': 0.39614206552505493, 'eval_mse_sqrt_le_10fps': 0.21386103332042694, 'eval_mae_le_10fps': 0.21386103332042694, 'eval_mape_le_10fps': 0.9559990167617798, 'eval_mse_sqrt_raw': 4.999391555786133, 'eval_mae_raw': 4.6474127769470215, 'eval_mape_raw': 0.4775039851665497, 'eval_runtime': 10.1467, 'eval_samples_per_second': 222.24, 'eval_steps_per_second': 0.493, 'epoch': 3.33}\n",
      "{'loss': 22.5159, 'learning_rate': 0.00046111111111111114, 'epoch': 3.89}\n"
     ]
    },
    {
     "data": {
      "application/vnd.jupyter.widget-view+json": {
       "model_id": "e4bbcc7167d24106b582439ed3e19b11",
       "version_major": 2,
       "version_minor": 0
      },
      "text/plain": [
       "  0%|          | 0/5 [00:00<?, ?it/s]"
      ]
     },
     "metadata": {},
     "output_type": "display_data"
    },
    {
     "name": "stdout",
     "output_type": "stream",
     "text": [
      "{'eval_loss': 20.92664909362793, 'eval_mse_sqrt': 0.007764103822410107, 'eval_mae': 0.005972082726657391, 'eval_mape': 169.83621215820312, 'eval_mse_sqrt_ge_10000fps': 0.006190189626067877, 'eval_mae_ge_10000fps': 0.006190150510519743, 'eval_mape_ge_10000fps': 268.7410888671875, 'eval_mse_sqrt_ge_1000_le_10000fps': 0.0058399830013513565, 'eval_mae_ge_1000_le_10000fps': 0.005835245363414288, 'eval_mape_ge_1000_le_10000fps': 22.958728790283203, 'eval_mse_sqrt_ge_100_le_1000fps': 0.0037747803144156933, 'eval_mae_ge_100_le_1000fps': 0.003495575161650777, 'eval_mape_ge_100_le_1000fps': 1.955156683921814, 'eval_mse_sqrt_ge_10_le_100fps': 0.01892414316534996, 'eval_mae_ge_10_le_100fps': 0.014469226822257042, 'eval_mape_ge_10_le_100fps': 0.6198277473449707, 'eval_mse_sqrt_le_10fps': 0.21750196814537048, 'eval_mae_le_10fps': 0.21750196814537048, 'eval_mape_le_10fps': 0.9722747206687927, 'eval_mse_sqrt_raw': 4.574565887451172, 'eval_mae_raw': 4.204452037811279, 'eval_mape_raw': 0.4293999671936035, 'eval_runtime': 10.2406, 'eval_samples_per_second': 220.203, 'eval_steps_per_second': 0.488, 'epoch': 3.89}\n",
      "{'loss': 19.36, 'learning_rate': 0.00045555555555555556, 'epoch': 4.44}\n"
     ]
    },
    {
     "data": {
      "application/vnd.jupyter.widget-view+json": {
       "model_id": "fc646dee6d684b86aae1b202b8733328",
       "version_major": 2,
       "version_minor": 0
      },
      "text/plain": [
       "  0%|          | 0/5 [00:00<?, ?it/s]"
      ]
     },
     "metadata": {},
     "output_type": "display_data"
    },
    {
     "name": "stdout",
     "output_type": "stream",
     "text": [
      "{'eval_loss': 17.597200393676758, 'eval_mse_sqrt': 0.006503657437860966, 'eval_mae': 0.003987044095993042, 'eval_mape': 111.12319946289062, 'eval_mse_sqrt_ge_10000fps': 0.0040513901039958, 'eval_mae_ge_10000fps': 0.004051337018609047, 'eval_mape_ge_10000fps': 175.99563598632812, 'eval_mse_sqrt_ge_1000_le_10000fps': 0.003704844042658806, 'eval_mae_ge_1000_le_10000fps': 0.003697363892570138, 'eval_mape_ge_1000_le_10000fps': 14.722405433654785, 'eval_mse_sqrt_ge_100_le_1000fps': 0.0022032028064131737, 'eval_mae_ge_100_le_1000fps': 0.0019612826872617006, 'eval_mape_ge_100_le_1000fps': 1.0423465967178345, 'eval_mse_sqrt_ge_10_le_100fps': 0.020604748278856277, 'eval_mae_ge_10_le_100fps': 0.016606634482741356, 'eval_mape_ge_10_le_100fps': 0.750505268573761, 'eval_mse_sqrt_le_10fps': 0.21963141858577728, 'eval_mae_le_10fps': 0.21963141858577728, 'eval_mape_le_10fps': 0.9817937612533569, 'eval_mse_sqrt_raw': 4.194901943206787, 'eval_mae_raw': 3.8138787746429443, 'eval_mape_raw': 0.3880908787250519, 'eval_runtime': 10.2342, 'eval_samples_per_second': 220.34, 'eval_steps_per_second': 0.489, 'epoch': 4.44}\n",
      "{'loss': 15.9253, 'learning_rate': 0.00045000000000000004, 'epoch': 5.0}\n"
     ]
    },
    {
     "data": {
      "application/vnd.jupyter.widget-view+json": {
       "model_id": "2ff13e939e4046d39315ac16d74f1235",
       "version_major": 2,
       "version_minor": 0
      },
      "text/plain": [
       "  0%|          | 0/5 [00:00<?, ?it/s]"
      ]
     },
     "metadata": {},
     "output_type": "display_data"
    },
    {
     "name": "stdout",
     "output_type": "stream",
     "text": [
      "{'eval_loss': 14.760383605957031, 'eval_mse_sqrt': 0.005971950478851795, 'eval_mae': 0.0027941656298935413, 'eval_mape': 74.14693450927734, 'eval_mse_sqrt_ge_10000fps': 0.002703931415453553, 'eval_mae_ge_10000fps': 0.0027038550470024347, 'eval_mape_ge_10000fps': 117.5633316040039, 'eval_mse_sqrt_ge_1000_le_10000fps': 0.0023621118161827326, 'eval_mae_ge_1000_le_10000fps': 0.0023503529373556376, 'eval_mape_ge_1000_le_10000fps': 9.532876968383789, 'eval_mse_sqrt_ge_100_le_1000fps': 0.0019054843578487635, 'eval_mae_ge_100_le_1000fps': 0.00142299581784755, 'eval_mape_ge_100_le_1000fps': 0.5763238668441772, 'eval_mse_sqrt_ge_10_le_100fps': 0.021705083549022675, 'eval_mae_ge_10_le_100fps': 0.017953524366021156, 'eval_mape_ge_10_le_100fps': 0.8328542709350586, 'eval_mse_sqrt_le_10fps': 0.22097429633140564, 'eval_mae_le_10fps': 0.22097429633140564, 'eval_mape_le_10fps': 0.9877966642379761, 'eval_mse_sqrt_raw': 3.8419244289398193, 'eval_mae_raw': 3.459975004196167, 'eval_mape_raw': 0.3519720137119293, 'eval_runtime': 10.3193, 'eval_samples_per_second': 218.522, 'eval_steps_per_second': 0.485, 'epoch': 5.0}\n",
      "{'loss': 13.3583, 'learning_rate': 0.0004444444444444444, 'epoch': 5.56}\n"
     ]
    },
    {
     "data": {
      "application/vnd.jupyter.widget-view+json": {
       "model_id": "31f4a6e74be34c97ac9201cf5f1cc02c",
       "version_major": 2,
       "version_minor": 0
      },
      "text/plain": [
       "  0%|          | 0/5 [00:00<?, ?it/s]"
      ]
     },
     "metadata": {},
     "output_type": "display_data"
    },
    {
     "name": "stdout",
     "output_type": "stream",
     "text": [
      "{'eval_loss': 12.29511547088623, 'eval_mse_sqrt': 0.005768860224634409, 'eval_mae': 0.002059983555227518, 'eval_mape': 49.829795837402344, 'eval_mse_sqrt_ge_10000fps': 0.001817115000449121, 'eval_mae_ge_10000fps': 0.0018170025432482362, 'eval_mape_ge_10000fps': 79.106689453125, 'eval_mse_sqrt_ge_1000_le_10000fps': 0.0014825081452727318, 'eval_mae_ge_1000_le_10000fps': 0.0014636974083259702, 'eval_mape_ge_1000_le_10000fps': 6.116785526275635, 'eval_mse_sqrt_ge_100_le_1000fps': 0.0021924159955233335, 'eval_mae_ge_100_le_1000fps': 0.0014465933199971914, 'eval_mape_ge_100_le_1000fps': 0.4074687957763672, 'eval_mse_sqrt_ge_10_le_100fps': 0.022444002330303192, 'eval_mae_ge_10_le_100fps': 0.018840117380023003, 'eval_mape_ge_10_le_100fps': 0.8870617747306824, 'eval_mse_sqrt_le_10fps': 0.2218596488237381, 'eval_mae_le_10fps': 0.2218596488237381, 'eval_mape_le_10fps': 0.9917543530464172, 'eval_mse_sqrt_raw': 3.506438970565796, 'eval_mae_raw': 3.1361448764801025, 'eval_mape_raw': 0.32044294476509094, 'eval_runtime': 10.2001, 'eval_samples_per_second': 221.076, 'eval_steps_per_second': 0.49, 'epoch': 5.56}\n",
      "{'loss': 11.2217, 'learning_rate': 0.0004388888888888889, 'epoch': 6.11}\n"
     ]
    },
    {
     "data": {
      "application/vnd.jupyter.widget-view+json": {
       "model_id": "77b1c899f6ee4baa89542655860b8052",
       "version_major": 2,
       "version_minor": 0
      },
      "text/plain": [
       "  0%|          | 0/5 [00:00<?, ?it/s]"
      ]
     },
     "metadata": {},
     "output_type": "display_data"
    },
    {
     "name": "stdout",
     "output_type": "stream",
     "text": [
      "{'eval_loss': 10.160943984985352, 'eval_mse_sqrt': 0.005706362891942263, 'eval_mae': 0.001605178345926106, 'eval_mape': 33.57839584350586, 'eval_mse_sqrt_ge_10000fps': 0.0012237541377544403, 'eval_mae_ge_10000fps': 0.0012235876638442278, 'eval_mape_ge_10000fps': 53.374664306640625, 'eval_mse_sqrt_ge_1000_le_10000fps': 0.0009016530239023268, 'eval_mae_ge_1000_le_10000fps': 0.0008703754865564406, 'eval_mape_ge_1000_le_10000fps': 3.830831527709961, 'eval_mse_sqrt_ge_100_le_1000fps': 0.0025439681485295296, 'eval_mae_ge_100_le_1000fps': 0.0017328489338979125, 'eval_mape_ge_100_le_1000fps': 0.44038522243499756, 'eval_mse_sqrt_ge_10_le_100fps': 0.0229443721473217, 'eval_mae_ge_10_le_100fps': 0.019433442503213882, 'eval_mape_ge_10_le_100fps': 0.9233375787734985, 'eval_mse_sqrt_le_10fps': 0.22245188057422638, 'eval_mae_le_10fps': 0.22245188057422638, 'eval_mape_le_10fps': 0.994401752948761, 'eval_mse_sqrt_raw': 3.1876235008239746, 'eval_mae_raw': 2.8399014472961426, 'eval_mape_raw': 0.2930664122104645, 'eval_runtime': 10.3325, 'eval_samples_per_second': 218.243, 'eval_steps_per_second': 0.484, 'epoch': 6.11}\n",
      "{'loss': 9.3383, 'learning_rate': 0.00043333333333333337, 'epoch': 6.67}\n"
     ]
    },
    {
     "data": {
      "application/vnd.jupyter.widget-view+json": {
       "model_id": "02c1fddeb03149eab32a0dc90ef76d14",
       "version_major": 2,
       "version_minor": 0
      },
      "text/plain": [
       "  0%|          | 0/5 [00:00<?, ?it/s]"
      ]
     },
     "metadata": {},
     "output_type": "display_data"
    },
    {
     "name": "stdout",
     "output_type": "stream",
     "text": [
      "{'eval_loss': 8.36572551727295, 'eval_mse_sqrt': 0.005698739551007748, 'eval_mae': 0.0013273564400151372, 'eval_mape': 22.77552604675293, 'eval_mse_sqrt_ge_10000fps': 0.0008286363445222378, 'eval_mae_ge_10000fps': 0.0008283908828161657, 'eval_mape_ge_10000fps': 36.23795700073242, 'eval_mse_sqrt_ge_1000_le_10000fps': 0.000530349847394973, 'eval_mae_ge_1000_le_10000fps': 0.0004834761784877628, 'eval_mape_ge_1000_le_10000fps': 2.3170580863952637, 'eval_mse_sqrt_ge_100_le_1000fps': 0.0028233430348336697, 'eval_mae_ge_100_le_1000fps': 0.0020948918536305428, 'eval_mape_ge_100_le_1000fps': 0.595878005027771, 'eval_mse_sqrt_ge_10_le_100fps': 0.02328002266585827, 'eval_mae_ge_10_le_100fps': 0.01982858031988144, 'eval_mape_ge_10_le_100fps': 0.9474970698356628, 'eval_mse_sqrt_le_10fps': 0.22284641861915588, 'eval_mae_le_10fps': 0.22284641861915588, 'eval_mape_le_10fps': 0.99616539478302, 'eval_mse_sqrt_raw': 2.8923563957214355, 'eval_mae_raw': 2.574509859085083, 'eval_mape_raw': 0.2699181139469147, 'eval_runtime': 10.1477, 'eval_samples_per_second': 222.218, 'eval_steps_per_second': 0.493, 'epoch': 6.67}\n",
      "{'loss': 7.3905, 'learning_rate': 0.0004277777777777778, 'epoch': 7.22}\n"
     ]
    },
    {
     "data": {
      "application/vnd.jupyter.widget-view+json": {
       "model_id": "2e41d990b8bf4fc29d39ab38626315bc",
       "version_major": 2,
       "version_minor": 0
      },
      "text/plain": [
       "  0%|          | 0/5 [00:00<?, ?it/s]"
      ]
     },
     "metadata": {},
     "output_type": "display_data"
    },
    {
     "name": "stdout",
     "output_type": "stream",
     "text": [
      "{'eval_loss': 6.900046348571777, 'eval_mse_sqrt': 0.005708879791200161, 'eval_mae': 0.0011587819317355752, 'eval_mape': 15.588698387145996, 'eval_mse_sqrt_ge_10000fps': 0.0005651214742101729, 'eval_mae_ge_10000fps': 0.0005647616926580667, 'eval_mape_ge_10000fps': 24.806344985961914, 'eval_mse_sqrt_ge_1000_le_10000fps': 0.0003165719972457737, 'eval_mae_ge_1000_le_10000fps': 0.00028334191301837564, 'eval_mape_ge_1000_le_10000fps': 1.3781112432479858, 'eval_mse_sqrt_ge_100_le_1000fps': 0.0030241061467677355, 'eval_mae_ge_100_le_1000fps': 0.0023585031740367413, 'eval_mape_ge_100_le_1000fps': 0.7199362516403198, 'eval_mse_sqrt_ge_10_le_100fps': 0.023504948243498802, 'eval_mae_ge_10_le_100fps': 0.020092174410820007, 'eval_mape_ge_10_le_100fps': 0.9636141061782837, 'eval_mse_sqrt_le_10fps': 0.2231096625328064, 'eval_mae_le_10fps': 0.2231096625328064, 'eval_mape_le_10fps': 0.9973421692848206, 'eval_mse_sqrt_raw': 2.6267940998077393, 'eval_mae_raw': 2.3407864570617676, 'eval_mape_raw': 0.2508026957511902, 'eval_runtime': 10.2094, 'eval_samples_per_second': 220.876, 'eval_steps_per_second': 0.49, 'epoch': 7.22}\n",
      "{'loss': 6.2652, 'learning_rate': 0.0004222222222222222, 'epoch': 7.78}\n"
     ]
    },
    {
     "data": {
      "application/vnd.jupyter.widget-view+json": {
       "model_id": "21aa71d50e5d410cb18f8915da08d436",
       "version_major": 2,
       "version_minor": 0
      },
      "text/plain": [
       "  0%|          | 0/5 [00:00<?, ?it/s]"
      ]
     },
     "metadata": {},
     "output_type": "display_data"
    },
    {
     "name": "stdout",
     "output_type": "stream",
     "text": [
      "{'eval_loss': 5.735166549682617, 'eval_mse_sqrt': 0.005722603760659695, 'eval_mae': 0.0010570542654022574, 'eval_mape': 10.752577781677246, 'eval_mse_sqrt_ge_10000fps': 0.00038713199319317937, 'eval_mae_ge_10000fps': 0.000386606901884079, 'eval_mape_ge_10000fps': 17.0810489654541, 'eval_mse_sqrt_ge_1000_le_10000fps': 0.0002378104836679995, 'eval_mae_ge_1000_le_10000fps': 0.00019938245532102883, 'eval_mape_ge_1000_le_10000fps': 0.8303266167640686, 'eval_mse_sqrt_ge_100_le_1000fps': 0.0031650089658796787, 'eval_mae_ge_100_le_1000fps': 0.002536651212722063, 'eval_mape_ge_100_le_1000fps': 0.8037737607955933, 'eval_mse_sqrt_ge_10_le_100fps': 0.02365740016102791, 'eval_mae_ge_10_le_100fps': 0.020270302891731262, 'eval_mape_ge_10_le_100fps': 0.9745054244995117, 'eval_mse_sqrt_le_10fps': 0.22328759729862213, 'eval_mae_le_10fps': 0.22328759729862213, 'eval_mape_le_10fps': 0.9981375336647034, 'eval_mse_sqrt_raw': 2.3948206901550293, 'eval_mae_raw': 2.138467788696289, 'eval_mape_raw': 0.235545352101326, 'eval_runtime': 10.2445, 'eval_samples_per_second': 220.118, 'eval_steps_per_second': 0.488, 'epoch': 7.78}\n",
      "{'loss': 5.2541, 'learning_rate': 0.0004166666666666667, 'epoch': 8.33}\n"
     ]
    },
    {
     "data": {
      "application/vnd.jupyter.widget-view+json": {
       "model_id": "642b7d3c11284db58cb6c1212375dd7b",
       "version_major": 2,
       "version_minor": 0
      },
      "text/plain": [
       "  0%|          | 0/5 [00:00<?, ?it/s]"
      ]
     },
     "metadata": {},
     "output_type": "display_data"
    },
    {
     "name": "stdout",
     "output_type": "stream",
     "text": [
      "{'eval_loss': 4.842198371887207, 'eval_mse_sqrt': 0.005735213868319988, 'eval_mae': 0.0009984540520235896, 'eval_mape': 7.459130764007568, 'eval_mse_sqrt_ge_10000fps': 0.0002650404640007764, 'eval_mae_ge_10000fps': 0.0002642728795763105, 'eval_mape_ge_10000fps': 11.776360511779785, 'eval_mse_sqrt_ge_1000_le_10000fps': 0.0002516403910703957, 'eval_mae_ge_1000_le_10000fps': 0.0001890743587864563, 'eval_mape_ge_1000_le_10000fps': 0.5692370533943176, 'eval_mse_sqrt_ge_100_le_1000fps': 0.0032638695556670427, 'eval_mae_ge_100_le_1000fps': 0.0026589788030833006, 'eval_mape_ge_100_le_1000fps': 0.8613422513008118, 'eval_mse_sqrt_ge_10_le_100fps': 0.023762289434671402, 'eval_mae_ge_10_le_100fps': 0.02039262466132641, 'eval_mape_ge_10_le_100fps': 0.9819848537445068, 'eval_mse_sqrt_le_10fps': 0.22340978682041168, 'eval_mae_le_10fps': 0.22340978682041168, 'eval_mape_le_10fps': 0.998683750629425, 'eval_mse_sqrt_raw': 2.2004995346069336, 'eval_mae_raw': 1.9731365442276, 'eval_mape_raw': 0.22477859258651733, 'eval_runtime': 10.2821, 'eval_samples_per_second': 219.313, 'eval_steps_per_second': 0.486, 'epoch': 8.33}\n",
      "{'loss': 4.4845, 'learning_rate': 0.0004111111111111111, 'epoch': 8.89}\n"
     ]
    },
    {
     "data": {
      "application/vnd.jupyter.widget-view+json": {
       "model_id": "f295c196d4c144faa28405af300eb092",
       "version_major": 2,
       "version_minor": 0
      },
      "text/plain": [
       "  0%|          | 0/5 [00:00<?, ?it/s]"
      ]
     },
     "metadata": {},
     "output_type": "display_data"
    },
    {
     "name": "stdout",
     "output_type": "stream",
     "text": [
      "{'eval_loss': 4.199928283691406, 'eval_mse_sqrt': 0.005745513364672661, 'eval_mae': 0.0009645810932852328, 'eval_mape': 5.189583778381348, 'eval_mse_sqrt_ge_10000fps': 0.00018025307508651167, 'eval_mae_ge_10000fps': 0.00017912244948092848, 'eval_mape_ge_10000fps': 8.084035873413086, 'eval_mse_sqrt_ge_1000_le_10000fps': 0.00029274565167725086, 'eval_mae_ge_1000_le_10000fps': 0.00021099280274938792, 'eval_mape_ge_1000_le_10000fps': 0.4836578965187073, 'eval_mse_sqrt_ge_100_le_1000fps': 0.0033336018677800894, 'eval_mae_ge_100_le_1000fps': 0.0027441259007900953, 'eval_mape_ge_100_le_1000fps': 0.9014135599136353, 'eval_mse_sqrt_ge_10_le_100fps': 0.023835403844714165, 'eval_mae_ge_10_le_100fps': 0.0204777754843235, 'eval_mape_ge_10_le_100fps': 0.9871912002563477, 'eval_mse_sqrt_le_10fps': 0.22349485754966736, 'eval_mae_le_10fps': 0.22349485754966736, 'eval_mape_le_10fps': 0.999064028263092, 'eval_mse_sqrt_raw': 2.049372673034668, 'eval_mae_raw': 1.8380906581878662, 'eval_mape_raw': 0.21757875382900238, 'eval_runtime': 10.2871, 'eval_samples_per_second': 219.207, 'eval_steps_per_second': 0.486, 'epoch': 8.89}\n",
      "{'loss': 4.05, 'learning_rate': 0.00040555555555555554, 'epoch': 9.44}\n"
     ]
    },
    {
     "data": {
      "application/vnd.jupyter.widget-view+json": {
       "model_id": "c003dfba88fd456c86e1877aef5c8863",
       "version_major": 2,
       "version_minor": 0
      },
      "text/plain": [
       "  0%|          | 0/5 [00:00<?, ?it/s]"
      ]
     },
     "metadata": {},
     "output_type": "display_data"
    },
    {
     "name": "stdout",
     "output_type": "stream",
     "text": [
      "{'eval_loss': 3.7924604415893555, 'eval_mse_sqrt': 0.005753540899604559, 'eval_mae': 0.000944541476201266, 'eval_mape': 3.604274272918701, 'eval_mse_sqrt_ge_10000fps': 0.00012064648763043806, 'eval_mae_ge_10000fps': 0.00011895054922206327, 'eval_mape_ge_10000fps': 5.474837779998779, 'eval_mse_sqrt_ge_1000_le_10000fps': 0.0003320483083371073, 'eval_mae_ge_1000_le_10000fps': 0.00024287536507472396, 'eval_mape_ge_1000_le_10000fps': 0.5009087920188904, 'eval_mse_sqrt_ge_100_le_1000fps': 0.0033833037596195936, 'eval_mae_ge_100_le_1000fps': 0.0028042958583682775, 'eval_mape_ge_100_le_1000fps': 0.9297299385070801, 'eval_mse_sqrt_ge_10_le_100fps': 0.023887116461992264, 'eval_mae_ge_10_le_100fps': 0.02053794264793396, 'eval_mape_ge_10_le_100fps': 0.9908699989318848, 'eval_mse_sqrt_le_10fps': 0.22355499863624573, 'eval_mae_le_10fps': 0.22355499863624573, 'eval_mape_le_10fps': 0.9993329048156738, 'eval_mse_sqrt_raw': 1.947424054145813, 'eval_mae_raw': 1.7258803844451904, 'eval_mape_raw': 0.21301375329494476, 'eval_runtime': 10.1638, 'eval_samples_per_second': 221.866, 'eval_steps_per_second': 0.492, 'epoch': 9.44}\n",
      "{'loss': 3.7082, 'learning_rate': 0.0004, 'epoch': 10.0}\n"
     ]
    },
    {
     "data": {
      "application/vnd.jupyter.widget-view+json": {
       "model_id": "51e52d3bf2564792850212f14c265d2e",
       "version_major": 2,
       "version_minor": 0
      },
      "text/plain": [
       "  0%|          | 0/5 [00:00<?, ?it/s]"
      ]
     },
     "metadata": {},
     "output_type": "display_data"
    },
    {
     "name": "stdout",
     "output_type": "stream",
     "text": [
      "{'eval_loss': 3.614192485809326, 'eval_mse_sqrt': 0.005759645253419876, 'eval_mae': 0.0009330051834695041, 'eval_mape': 2.491804599761963, 'eval_mse_sqrt_ge_10000fps': 7.864427607273683e-05, 'eval_mae_ge_10000fps': 7.601695688208565e-05, 'eval_mape_ge_10000fps': 3.613128423690796, 'eval_mse_sqrt_ge_1000_le_10000fps': 0.0003635978791862726, 'eval_mae_ge_1000_le_10000fps': 0.0002772459702100605, 'eval_mape_ge_1000_le_10000fps': 0.5917961001396179, 'eval_mse_sqrt_ge_100_le_1000fps': 0.003418972250074148, 'eval_mae_ge_100_le_1000fps': 0.002847227267920971, 'eval_mape_ge_100_le_1000fps': 0.9499341249465942, 'eval_mse_sqrt_ge_10_le_100fps': 0.02392403967678547, 'eval_mae_ge_10_le_100fps': 0.020580872893333435, 'eval_mape_ge_10_le_100fps': 0.993494987487793, 'eval_mse_sqrt_le_10fps': 0.22359789907932281, 'eval_mae_le_10fps': 0.22359789907932281, 'eval_mape_le_10fps': 0.9995246529579163, 'eval_mse_sqrt_raw': 1.9011030197143555, 'eval_mae_raw': 1.6354491710662842, 'eval_mape_raw': 0.21092894673347473, 'eval_runtime': 10.3774, 'eval_samples_per_second': 217.3, 'eval_steps_per_second': 0.482, 'epoch': 10.0}\n",
      "{'loss': 3.7045, 'learning_rate': 0.00039444444444444444, 'epoch': 10.56}\n"
     ]
    },
    {
     "data": {
      "application/vnd.jupyter.widget-view+json": {
       "model_id": "c065bb08e9c74024985b263adf6e8311",
       "version_major": 2,
       "version_minor": 0
      },
      "text/plain": [
       "  0%|          | 0/5 [00:00<?, ?it/s]"
      ]
     },
     "metadata": {},
     "output_type": "display_data"
    },
    {
     "name": "stdout",
     "output_type": "stream",
     "text": [
      "{'eval_loss': 3.6075279712677, 'eval_mse_sqrt': 0.005761679727584124, 'eval_mae': 0.0009299757075496018, 'eval_mape': 2.1392734050750732, 'eval_mse_sqrt_ge_10000fps': 6.536328146466985e-05, 'eval_mae_ge_10000fps': 6.230051076272503e-05, 'eval_mape_ge_10000fps': 3.014261245727539, 'eval_mse_sqrt_ge_1000_le_10000fps': 0.00037424921174533665, 'eval_mae_ge_1000_le_10000fps': 0.0002909103932324797, 'eval_mape_ge_1000_le_10000fps': 0.6434221863746643, 'eval_mse_sqrt_ge_100_le_1000fps': 0.0034305034205317497, 'eval_mae_ge_100_le_1000fps': 0.002861063927412033, 'eval_mape_ge_100_le_1000fps': 0.9564458131790161, 'eval_mse_sqrt_ge_10_le_100fps': 0.023935941979289055, 'eval_mae_ge_10_le_100fps': 0.020594710484147072, 'eval_mape_ge_10_le_100fps': 0.9943409562110901, 'eval_mse_sqrt_le_10fps': 0.2236117273569107, 'eval_mae_le_10fps': 0.2236117273569107, 'eval_mape_le_10fps': 0.9995864629745483, 'eval_mse_sqrt_raw': 1.899349331855774, 'eval_mae_raw': 1.6049962043762207, 'eval_mape_raw': 0.21081167459487915, 'eval_runtime': 10.1322, 'eval_samples_per_second': 222.558, 'eval_steps_per_second': 0.493, 'epoch': 10.56}\n",
      "{'loss': 3.5485, 'learning_rate': 0.0003888888888888889, 'epoch': 11.11}\n"
     ]
    },
    {
     "data": {
      "application/vnd.jupyter.widget-view+json": {
       "model_id": "ab21aebf506345678c9bfa3f18c3f845",
       "version_major": 2,
       "version_minor": 0
      },
      "text/plain": [
       "  0%|          | 0/5 [00:00<?, ?it/s]"
      ]
     },
     "metadata": {},
     "output_type": "display_data"
    },
    {
     "name": "stdout",
     "output_type": "stream",
     "text": [
      "{'eval_loss': 3.605464458465576, 'eval_mse_sqrt': 0.005760882515460253, 'eval_mae': 0.0009310966706834733, 'eval_mape': 2.275951862335205, 'eval_mse_sqrt_ge_10000fps': 7.050896238069981e-05, 'eval_mae_ge_10000fps': 6.757460505468771e-05, 'eval_mape_ge_10000fps': 3.2467448711395264, 'eval_mse_sqrt_ge_1000_le_10000fps': 0.0003700734523590654, 'eval_mae_ge_1000_le_10000fps': 0.00028551812283694744, 'eval_mape_ge_1000_le_10000fps': 0.6226454377174377, 'eval_mse_sqrt_ge_100_le_1000fps': 0.003426006995141506, 'eval_mae_ge_100_le_1000fps': 0.002855671336874366, 'eval_mape_ge_100_le_1000fps': 0.9539080262184143, 'eval_mse_sqrt_ge_10_le_100fps': 0.02393130213022232, 'eval_mae_ge_10_le_100fps': 0.0205893162637949, 'eval_mape_ge_10_le_100fps': 0.9940113425254822, 'eval_mse_sqrt_le_10fps': 0.22360631823539734, 'eval_mae_le_10fps': 0.22360631823539734, 'eval_mape_le_10fps': 0.9995623230934143, 'eval_mse_sqrt_raw': 1.898806095123291, 'eval_mae_raw': 1.6167670488357544, 'eval_mape_raw': 0.21079391241073608, 'eval_runtime': 10.3359, 'eval_samples_per_second': 218.171, 'eval_steps_per_second': 0.484, 'epoch': 11.11}\n",
      "{'loss': 3.6302, 'learning_rate': 0.00038333333333333334, 'epoch': 11.67}\n"
     ]
    },
    {
     "data": {
      "application/vnd.jupyter.widget-view+json": {
       "model_id": "a15958fa9b124b189f1ac26286b82410",
       "version_major": 2,
       "version_minor": 0
      },
      "text/plain": [
       "  0%|          | 0/5 [00:00<?, ?it/s]"
      ]
     },
     "metadata": {},
     "output_type": "display_data"
    },
    {
     "name": "stdout",
     "output_type": "stream",
     "text": [
      "{'eval_loss': 3.606433153152466, 'eval_mse_sqrt': 0.005760540254414082, 'eval_mae': 0.0009316038340330124, 'eval_mape': 2.335068941116333, 'eval_mse_sqrt_ge_10000fps': 7.273587107192725e-05, 'eval_mae_ge_10000fps': 6.988796667428687e-05, 'eval_mape_ge_10000fps': 3.3472888469696045, 'eval_mse_sqrt_ge_1000_le_10000fps': 0.00036828251904807985, 'eval_mae_ge_1000_le_10000fps': 0.00028319290140643716, 'eval_mape_ge_1000_le_10000fps': 0.6136862635612488, 'eval_mse_sqrt_ge_100_le_1000fps': 0.003424068447202444, 'eval_mae_ge_100_le_1000fps': 0.0028533453587442636, 'eval_mape_ge_100_le_1000fps': 0.9528136253356934, 'eval_mse_sqrt_ge_10_le_100fps': 0.023929301649332047, 'eval_mae_ge_10_le_100fps': 0.02058698609471321, 'eval_mape_ge_10_le_100fps': 0.9938689470291138, 'eval_mse_sqrt_le_10fps': 0.2236039936542511, 'eval_mae_le_10fps': 0.2236039936542511, 'eval_mape_le_10fps': 0.9995518922805786, 'eval_mse_sqrt_raw': 1.8990612030029297, 'eval_mae_raw': 1.6218860149383545, 'eval_mape_raw': 0.21081294119358063, 'eval_runtime': 10.1476, 'eval_samples_per_second': 222.22, 'eval_steps_per_second': 0.493, 'epoch': 11.67}\n",
      "{'loss': 3.7694, 'learning_rate': 0.00037777777777777777, 'epoch': 12.22}\n"
     ]
    },
    {
     "data": {
      "application/vnd.jupyter.widget-view+json": {
       "model_id": "534f5b5bedb040c3ac203f88464e633b",
       "version_major": 2,
       "version_minor": 0
      },
      "text/plain": [
       "  0%|          | 0/5 [00:00<?, ?it/s]"
      ]
     },
     "metadata": {},
     "output_type": "display_data"
    },
    {
     "name": "stdout",
     "output_type": "stream",
     "text": [
      "{'eval_loss': 3.617429494857788, 'eval_mse_sqrt': 0.005759371444582939, 'eval_mae': 0.0009334331844002008, 'eval_mape': 2.5392720699310303, 'eval_mse_sqrt_ge_10000fps': 8.04379305918701e-05, 'eval_mae_ge_10000fps': 7.787295180605724e-05, 'eval_mape_ge_10000fps': 3.693488836288452, 'eval_mse_sqrt_ge_1000_le_10000fps': 0.00036217377055436373, 'eval_mae_ge_1000_le_10000fps': 0.0002754746237769723, 'eval_mape_ge_1000_le_10000fps': 0.5855562686920166, 'eval_mse_sqrt_ge_100_le_1000fps': 0.003417411120608449, 'eval_mae_ge_100_le_1000fps': 0.0028453536797314882, 'eval_mape_ge_100_le_1000fps': 0.949052631855011, 'eval_mse_sqrt_ge_10_le_100fps': 0.023922426626086235, 'eval_mae_ge_10_le_100fps': 0.02057899907231331, 'eval_mape_ge_10_le_100fps': 0.9933803677558899, 'eval_mse_sqrt_le_10fps': 0.22359599173069, 'eval_mae_le_10fps': 0.22359599173069, 'eval_mape_le_10fps': 0.9995161294937134, 'eval_mse_sqrt_raw': 1.9019542932510376, 'eval_mae_raw': 1.6394383907318115, 'eval_mape_raw': 0.21096402406692505, 'eval_runtime': 10.2561, 'eval_samples_per_second': 219.869, 'eval_steps_per_second': 0.488, 'epoch': 12.22}\n",
      "{'loss': 3.6319, 'learning_rate': 0.00037222222222222225, 'epoch': 12.78}\n"
     ]
    },
    {
     "data": {
      "application/vnd.jupyter.widget-view+json": {
       "model_id": "42ab1943c7fa466488b937d13309b3f9",
       "version_major": 2,
       "version_minor": 0
      },
      "text/plain": [
       "  0%|          | 0/5 [00:00<?, ?it/s]"
      ]
     },
     "metadata": {},
     "output_type": "display_data"
    },
    {
     "name": "stdout",
     "output_type": "stream",
     "text": [
      "{'eval_loss': 3.607276439666748, 'eval_mse_sqrt': 0.005760345607995987, 'eval_mae': 0.000931890681385994, 'eval_mape': 2.3684003353118896, 'eval_mse_sqrt_ge_10000fps': 7.399319292744622e-05, 'eval_mae_ge_10000fps': 7.119690417312086e-05, 'eval_mape_ge_10000fps': 3.4039673805236816, 'eval_mse_sqrt_ge_1000_le_10000fps': 0.0003672689199447632, 'eval_mae_ge_1000_le_10000fps': 0.0002818796201609075, 'eval_mape_ge_1000_le_10000fps': 0.6086636781692505, 'eval_mse_sqrt_ge_100_le_1000fps': 0.0034229671582579613, 'eval_mae_ge_100_le_1000fps': 0.0028520245105028152, 'eval_mape_ge_100_le_1000fps': 0.9521921873092651, 'eval_mse_sqrt_ge_10_le_100fps': 0.023928165435791016, 'eval_mae_ge_10_le_100fps': 0.020585669204592705, 'eval_mape_ge_10_le_100fps': 0.9937881231307983, 'eval_mse_sqrt_le_10fps': 0.22360265254974365, 'eval_mae_le_10fps': 0.22360265254974365, 'eval_mape_le_10fps': 0.9995459318161011, 'eval_mse_sqrt_raw': 1.8992831707000732, 'eval_mae_raw': 1.624728798866272, 'eval_mape_raw': 0.21082308888435364, 'eval_runtime': 10.3556, 'eval_samples_per_second': 217.757, 'eval_steps_per_second': 0.483, 'epoch': 12.78}\n",
      "{'loss': 3.732, 'learning_rate': 0.00036666666666666667, 'epoch': 13.33}\n"
     ]
    },
    {
     "data": {
      "application/vnd.jupyter.widget-view+json": {
       "model_id": "a56a00bd2b004a1fb23432a15d3e22c4",
       "version_major": 2,
       "version_minor": 0
      },
      "text/plain": [
       "  0%|          | 0/5 [00:00<?, ?it/s]"
      ]
     },
     "metadata": {},
     "output_type": "display_data"
    },
    {
     "name": "stdout",
     "output_type": "stream",
     "text": [
      "{'eval_loss': 3.605494737625122, 'eval_mse_sqrt': 0.005760692059993744, 'eval_mae': 0.0009313633199781179, 'eval_mape': 2.3079869747161865, 'eval_mse_sqrt_ge_10000fps': 7.171733159339055e-05, 'eval_mae_ge_10000fps': 6.882944580866024e-05, 'eval_mape_ge_10000fps': 3.301265001296997, 'eval_mse_sqrt_ge_1000_le_10000fps': 0.00036908529000356793, 'eval_mae_ge_1000_le_10000fps': 0.00028423595358617604, 'eval_mape_ge_1000_le_10000fps': 0.6177043318748474, 'eval_mse_sqrt_ge_100_le_1000fps': 0.0034249350428581238, 'eval_mae_ge_100_le_1000fps': 0.00285438634455204, 'eval_mape_ge_100_le_1000fps': 0.9533038139343262, 'eval_mse_sqrt_ge_10_le_100fps': 0.023930197581648827, 'eval_mae_ge_10_le_100fps': 0.02058802731335163, 'eval_mape_ge_10_le_100fps': 0.9939324855804443, 'eval_mse_sqrt_le_10fps': 0.2236049920320511, 'eval_mae_le_10fps': 0.2236049920320511, 'eval_mape_le_10fps': 0.9995563626289368, 'eval_mse_sqrt_raw': 1.898814082145691, 'eval_mae_raw': 1.619472622871399, 'eval_mape_raw': 0.2107914239168167, 'eval_runtime': 10.2469, 'eval_samples_per_second': 220.067, 'eval_steps_per_second': 0.488, 'epoch': 13.33}\n",
      "{'loss': 3.611, 'learning_rate': 0.0003611111111111111, 'epoch': 13.89}\n"
     ]
    },
    {
     "data": {
      "application/vnd.jupyter.widget-view+json": {
       "model_id": "7417e2ea3be84b9d91ddde49ac3cbbd9",
       "version_major": 2,
       "version_minor": 0
      },
      "text/plain": [
       "  0%|          | 0/5 [00:00<?, ?it/s]"
      ]
     },
     "metadata": {},
     "output_type": "display_data"
    },
    {
     "name": "stdout",
     "output_type": "stream",
     "text": [
      "{'eval_loss': 3.6051619052886963, 'eval_mse_sqrt': 0.005760758183896542, 'eval_mae': 0.0009312608744949102, 'eval_mape': 2.2963502407073975, 'eval_mse_sqrt_ge_10000fps': 7.127966819098219e-05, 'eval_mae_ge_10000fps': 6.837571709183976e-05, 'eval_mape_ge_10000fps': 3.2814879417419434, 'eval_mse_sqrt_ge_1000_le_10000fps': 0.00036943110171705484, 'eval_mae_ge_1000_le_10000fps': 0.0002846848510671407, 'eval_mape_ge_1000_le_10000fps': 0.6194335222244263, 'eval_mse_sqrt_ge_100_le_1000fps': 0.003425308270379901, 'eval_mae_ge_100_le_1000fps': 0.00285483431071043, 'eval_mape_ge_100_le_1000fps': 0.9535146951675415, 'eval_mse_sqrt_ge_10_le_100fps': 0.023930581286549568, 'eval_mae_ge_10_le_100fps': 0.020588478073477745, 'eval_mape_ge_10_le_100fps': 0.993959903717041, 'eval_mse_sqrt_le_10fps': 0.2236054390668869, 'eval_mae_le_10fps': 0.2236054390668869, 'eval_mape_le_10fps': 0.9995583891868591, 'eval_mse_sqrt_raw': 1.8987263441085815, 'eval_mae_raw': 1.6184369325637817, 'eval_mape_raw': 0.2107832431793213, 'eval_runtime': 10.3436, 'eval_samples_per_second': 218.009, 'eval_steps_per_second': 0.483, 'epoch': 13.89}\n",
      "{'loss': 3.7211, 'learning_rate': 0.00035555555555555557, 'epoch': 14.44}\n"
     ]
    },
    {
     "data": {
      "application/vnd.jupyter.widget-view+json": {
       "model_id": "edf3292bba3e4308a2fe35c52a342bd5",
       "version_major": 2,
       "version_minor": 0
      },
      "text/plain": [
       "  0%|          | 0/5 [00:00<?, ?it/s]"
      ]
     },
     "metadata": {},
     "output_type": "display_data"
    },
    {
     "name": "stdout",
     "output_type": "stream",
     "text": [
      "{'eval_loss': 3.606388568878174, 'eval_mse_sqrt': 0.005760420113801956, 'eval_mae': 0.0009317619842477143, 'eval_mape': 2.354515552520752, 'eval_mse_sqrt_ge_10000fps': 7.34715795260854e-05, 'eval_mae_ge_10000fps': 7.065713725751266e-05, 'eval_mape_ge_10000fps': 3.380408763885498, 'eval_mse_sqrt_ge_1000_le_10000fps': 0.0003676679916679859, 'eval_mae_ge_1000_le_10000fps': 0.00028239592211320996, 'eval_mape_ge_1000_le_10000fps': 0.6106317043304443, 'eval_mse_sqrt_ge_100_le_1000fps': 0.003423396497964859, 'eval_mae_ge_100_le_1000fps': 0.002852541161701083, 'eval_mape_ge_100_le_1000fps': 0.9524357318878174, 'eval_mse_sqrt_ge_10_le_100fps': 0.023928608745336533, 'eval_mae_ge_10_le_100fps': 0.020586179569363594, 'eval_mape_ge_10_le_100fps': 0.9938195943832397, 'eval_mse_sqrt_le_10fps': 0.22360311448574066, 'eval_mae_le_10fps': 0.22360311448574066, 'eval_mape_le_10fps': 0.9995479583740234, 'eval_mse_sqrt_raw': 1.8990495204925537, 'eval_mae_raw': 1.623458743095398, 'eval_mape_raw': 0.21080400049686432, 'eval_runtime': 10.1375, 'eval_samples_per_second': 222.442, 'eval_steps_per_second': 0.493, 'epoch': 14.44}\n",
      "{'loss': 3.6138, 'learning_rate': 0.00035, 'epoch': 15.0}\n"
     ]
    },
    {
     "data": {
      "application/vnd.jupyter.widget-view+json": {
       "model_id": "57c9efcf15564f80baa67eb7238521a1",
       "version_major": 2,
       "version_minor": 0
      },
      "text/plain": [
       "  0%|          | 0/5 [00:00<?, ?it/s]"
      ]
     },
     "metadata": {},
     "output_type": "display_data"
    },
    {
     "name": "stdout",
     "output_type": "stream",
     "text": [
      "{'eval_loss': 3.6048474311828613, 'eval_mse_sqrt': 0.005760738626122475, 'eval_mae': 0.0009312767069786787, 'eval_mape': 2.298924207687378, 'eval_mse_sqrt_ge_10000fps': 7.137814827729017e-05, 'eval_mae_ge_10000fps': 6.848000339232385e-05, 'eval_mape_ge_10000fps': 3.2858986854553223, 'eval_mse_sqrt_ge_1000_le_10000fps': 0.00036933747469447553, 'eval_mae_ge_1000_le_10000fps': 0.00028456313884817064, 'eval_mape_ge_1000_le_10000fps': 0.6189637184143066, 'eval_mse_sqrt_ge_100_le_1000fps': 0.0034252034965902567, 'eval_mae_ge_100_le_1000fps': 0.0028547104448080063, 'eval_mape_ge_100_le_1000fps': 0.953456699848175, 'eval_mse_sqrt_ge_10_le_100fps': 0.023930473253130913, 'eval_mae_ge_10_le_100fps': 0.0205883476883173, 'eval_mape_ge_10_le_100fps': 0.9939520359039307, 'eval_mse_sqrt_le_10fps': 0.22360527515411377, 'eval_mae_le_10fps': 0.22360527515411377, 'eval_mape_le_10fps': 0.999557614326477, 'eval_mse_sqrt_raw': 1.8986437320709229, 'eval_mae_raw': 1.6185978651046753, 'eval_mape_raw': 0.2107737511396408, 'eval_runtime': 10.2461, 'eval_samples_per_second': 220.083, 'eval_steps_per_second': 0.488, 'epoch': 15.0}\n",
      "{'loss': 3.6922, 'learning_rate': 0.0003444444444444445, 'epoch': 15.56}\n"
     ]
    },
    {
     "data": {
      "application/vnd.jupyter.widget-view+json": {
       "model_id": "52a86ff6298a4ab6b36324ac8515ae87",
       "version_major": 2,
       "version_minor": 0
      },
      "text/plain": [
       "  0%|          | 0/5 [00:00<?, ?it/s]"
      ]
     },
     "metadata": {},
     "output_type": "display_data"
    },
    {
     "name": "stdout",
     "output_type": "stream",
     "text": [
      "{'eval_loss': 3.611182928085327, 'eval_mse_sqrt': 0.0057597835548222065, 'eval_mae': 0.0009327357984147966, 'eval_mape': 2.4646315574645996, 'eval_mse_sqrt_ge_10000fps': 7.762516179354861e-05, 'eval_mae_ge_10000fps': 7.496978651033714e-05, 'eval_mape_ge_10000fps': 3.5672218799591064, 'eval_mse_sqrt_ge_1000_le_10000fps': 0.0003643470408860594, 'eval_mae_ge_1000_le_10000fps': 0.0002781837829388678, 'eval_mape_ge_1000_le_10000fps': 0.5951470732688904, 'eval_mse_sqrt_ge_100_le_1000fps': 0.003419778309762478, 'eval_mae_ge_100_le_1000fps': 0.002848199801519513, 'eval_mape_ge_100_le_1000fps': 0.9503930807113647, 'eval_mse_sqrt_ge_10_le_100fps': 0.023924872279167175, 'eval_mae_ge_10_le_100fps': 0.020581839606165886, 'eval_mape_ge_10_le_100fps': 0.9935537576675415, 'eval_mse_sqrt_le_10fps': 0.22359871864318848, 'eval_mae_le_10fps': 0.22359871864318848, 'eval_mape_le_10fps': 0.9995283484458923, 'eval_mse_sqrt_raw': 1.9003112316131592, 'eval_mae_raw': 1.632904291152954, 'eval_mape_raw': 0.21086931228637695, 'eval_runtime': 10.234, 'eval_samples_per_second': 220.344, 'eval_steps_per_second': 0.489, 'epoch': 15.56}\n",
      "{'loss': 3.6224, 'learning_rate': 0.0003388888888888889, 'epoch': 16.11}\n"
     ]
    },
    {
     "data": {
      "application/vnd.jupyter.widget-view+json": {
       "model_id": "c39e1725b6ac4163a42c9bdac0e29062",
       "version_major": 2,
       "version_minor": 0
      },
      "text/plain": [
       "  0%|          | 0/5 [00:00<?, ?it/s]"
      ]
     },
     "metadata": {},
     "output_type": "display_data"
    },
    {
     "name": "stdout",
     "output_type": "stream",
     "text": [
      "{'eval_loss': 3.604332447052002, 'eval_mse_sqrt': 0.0057607172057032585, 'eval_mae': 0.000931288581341505, 'eval_mape': 2.3014469146728516, 'eval_mse_sqrt_ge_10000fps': 7.147560972953215e-05, 'eval_mae_ge_10000fps': 6.858439883217216e-05, 'eval_mape_ge_10000fps': 3.2902421951293945, 'eval_mse_sqrt_ge_1000_le_10000fps': 0.0003692363097798079, 'eval_mae_ge_1000_le_10000fps': 0.0002844315895345062, 'eval_mape_ge_1000_le_10000fps': 0.6184553503990173, 'eval_mse_sqrt_ge_100_le_1000fps': 0.003425088943913579, 'eval_mae_ge_100_le_1000fps': 0.002854574704542756, 'eval_mape_ge_100_le_1000fps': 0.9533934593200684, 'eval_mse_sqrt_ge_10_le_100fps': 0.02393035776913166, 'eval_mae_ge_10_le_100fps': 0.020588209852576256, 'eval_mape_ge_10_le_100fps': 0.9939435124397278, 'eval_mse_sqrt_le_10fps': 0.22360506653785706, 'eval_mae_le_10fps': 0.22360506653785706, 'eval_mape_le_10fps': 0.9995567202568054, 'eval_mse_sqrt_raw': 1.898507833480835, 'eval_mae_raw': 1.6187177896499634, 'eval_mape_raw': 0.2107582539319992, 'eval_runtime': 10.1657, 'eval_samples_per_second': 221.825, 'eval_steps_per_second': 0.492, 'epoch': 16.11}\n",
      "{'loss': 3.6992, 'learning_rate': 0.0003333333333333333, 'epoch': 16.67}\n"
     ]
    },
    {
     "data": {
      "application/vnd.jupyter.widget-view+json": {
       "model_id": "8b9e344e9eb94c55bb270cb143d14cf4",
       "version_major": 2,
       "version_minor": 0
      },
      "text/plain": [
       "  0%|          | 0/5 [00:00<?, ?it/s]"
      ]
     },
     "metadata": {},
     "output_type": "display_data"
    },
    {
     "name": "stdout",
     "output_type": "stream",
     "text": [
      "{'eval_loss': 3.603512763977051, 'eval_mse_sqrt': 0.005760952364653349, 'eval_mae': 0.0009309303713962436, 'eval_mape': 2.260115146636963, 'eval_mse_sqrt_ge_10000fps': 6.992046110099182e-05, 'eval_mae_ge_10000fps': 6.697623030049726e-05, 'eval_mape_ge_10000fps': 3.2199833393096924, 'eval_mse_sqrt_ge_1000_le_10000fps': 0.0003704728733282536, 'eval_mae_ge_1000_le_10000fps': 0.0002860348322428763, 'eval_mape_ge_1000_le_10000fps': 0.6246317625045776, 'eval_mse_sqrt_ge_100_le_1000fps': 0.003426422132179141, 'eval_mae_ge_100_le_1000fps': 0.0028561754152178764, 'eval_mape_ge_100_le_1000fps': 0.9541471600532532, 'eval_mse_sqrt_ge_10_le_100fps': 0.023931734263896942, 'eval_mae_ge_10_le_100fps': 0.020589809864759445, 'eval_mape_ge_10_le_100fps': 0.9940411448478699, 'eval_mse_sqrt_le_10fps': 0.2236066311597824, 'eval_mae_le_10fps': 0.2236066311597824, 'eval_mape_le_10fps': 0.9995636940002441, 'eval_mse_sqrt_raw': 1.8982921838760376, 'eval_mae_raw': 1.61506187915802, 'eval_mape_raw': 0.2107362598180771, 'eval_runtime': 10.1643, 'eval_samples_per_second': 221.856, 'eval_steps_per_second': 0.492, 'epoch': 16.67}\n",
      "{'loss': 3.6297, 'learning_rate': 0.0003277777777777778, 'epoch': 17.22}\n"
     ]
    },
    {
     "data": {
      "application/vnd.jupyter.widget-view+json": {
       "model_id": "3909f518f5ff4be281fe47ed0b675ec1",
       "version_major": 2,
       "version_minor": 0
      },
      "text/plain": [
       "  0%|          | 0/5 [00:00<?, ?it/s]"
      ]
     },
     "metadata": {},
     "output_type": "display_data"
    },
    {
     "name": "stdout",
     "output_type": "stream",
     "text": [
      "{'eval_loss': 3.6053478717803955, 'eval_mse_sqrt': 0.005760295316576958, 'eval_mae': 0.0009318887605331838, 'eval_mape': 2.372485876083374, 'eval_mse_sqrt_ge_10000fps': 7.41570329410024e-05, 'eval_mae_ge_10000fps': 7.137987995520234e-05, 'eval_mape_ge_10000fps': 3.4111101627349854, 'eval_mse_sqrt_ge_1000_le_10000fps': 0.00036704970989376307, 'eval_mae_ge_1000_le_10000fps': 0.0002815957413986325, 'eval_mape_ge_1000_le_10000fps': 0.6075817942619324, 'eval_mse_sqrt_ge_100_le_1000fps': 0.0034227094147354364, 'eval_mae_ge_100_le_1000fps': 0.0028517222963273525, 'eval_mape_ge_100_le_1000fps': 0.9520522952079773, 'eval_mse_sqrt_ge_10_le_100fps': 0.023927900940179825, 'eval_mae_ge_10_le_100fps': 0.020585354417562485, 'eval_mape_ge_10_le_100fps': 0.9937684535980225, 'eval_mse_sqrt_le_10fps': 0.22360210120677948, 'eval_mae_le_10fps': 0.22360210120677948, 'eval_mape_le_10fps': 0.9995434284210205, 'eval_mse_sqrt_raw': 1.8987754583358765, 'eval_mae_raw': 1.6247109174728394, 'eval_mape_raw': 0.21076391637325287, 'eval_runtime': 10.2046, 'eval_samples_per_second': 220.978, 'eval_steps_per_second': 0.49, 'epoch': 17.22}\n",
      "{'loss': 3.6682, 'learning_rate': 0.0003222222222222222, 'epoch': 17.78}\n"
     ]
    },
    {
     "data": {
      "application/vnd.jupyter.widget-view+json": {
       "model_id": "d7703f117b6f4946b66792b0173de5a1",
       "version_major": 2,
       "version_minor": 0
      },
      "text/plain": [
       "  0%|          | 0/5 [00:00<?, ?it/s]"
      ]
     },
     "metadata": {},
     "output_type": "display_data"
    },
    {
     "name": "stdout",
     "output_type": "stream",
     "text": [
      "{'eval_loss': 3.603684186935425, 'eval_mse_sqrt': 0.005760417319834232, 'eval_mae': 0.0009316725772805512, 'eval_mape': 2.3494820594787598, 'eval_mse_sqrt_ge_10000fps': 7.329355867113918e-05, 'eval_mae_ge_10000fps': 7.048748375382274e-05, 'eval_mape_ge_10000fps': 3.3720993995666504, 'eval_mse_sqrt_ge_1000_le_10000fps': 0.00036770320730283856, 'eval_mae_ge_1000_le_10000fps': 0.0002824402181431651, 'eval_mape_ge_1000_le_10000fps': 0.610793948173523, 'eval_mse_sqrt_ge_100_le_1000fps': 0.003423410700634122, 'eval_mae_ge_100_le_1000fps': 0.0028525670059025288, 'eval_mape_ge_100_le_1000fps': 0.9524505138397217, 'eval_mse_sqrt_ge_10_le_100fps': 0.023928625509142876, 'eval_mae_ge_10_le_100fps': 0.020586194470524788, 'eval_mape_ge_10_le_100fps': 0.9938195943832397, 'eval_mse_sqrt_le_10fps': 0.22360284626483917, 'eval_mae_le_10fps': 0.22360284626483917, 'eval_mape_le_10fps': 0.9995467662811279, 'eval_mse_sqrt_raw': 1.8983372449874878, 'eval_mae_raw': 1.6225712299346924, 'eval_mape_raw': 0.21072660386562347, 'eval_runtime': 10.166, 'eval_samples_per_second': 221.817, 'eval_steps_per_second': 0.492, 'epoch': 17.78}\n",
      "{'loss': 3.6503, 'learning_rate': 0.00031666666666666665, 'epoch': 18.33}\n"
     ]
    },
    {
     "data": {
      "application/vnd.jupyter.widget-view+json": {
       "model_id": "fe5afdbb139b44dc90921e82ecf69303",
       "version_major": 2,
       "version_minor": 0
      },
      "text/plain": [
       "  0%|          | 0/5 [00:00<?, ?it/s]"
      ]
     },
     "metadata": {},
     "output_type": "display_data"
    },
    {
     "name": "stdout",
     "output_type": "stream",
     "text": [
      "{'eval_loss': 3.6037607192993164, 'eval_mse_sqrt': 0.005760151892900467, 'eval_mae': 0.0009320172248408198, 'eval_mape': 2.392038583755493, 'eval_mse_sqrt_ge_10000fps': 7.490596908610314e-05, 'eval_mae_ge_10000fps': 7.217224629130214e-05, 'eval_mape_ge_10000fps': 3.4445431232452393, 'eval_mse_sqrt_ge_1000_le_10000fps': 0.0003663501120172441, 'eval_mae_ge_1000_le_10000fps': 0.0002806969569064677, 'eval_mape_ge_1000_le_10000fps': 0.6042032837867737, 'eval_mse_sqrt_ge_100_le_1000fps': 0.003421925939619541, 'eval_mae_ge_100_le_1000fps': 0.0028507898095995188, 'eval_mape_ge_100_le_1000fps': 0.9516159892082214, 'eval_mse_sqrt_ge_10_le_100fps': 0.02392709255218506, 'eval_mae_ge_10_le_100fps': 0.020584408193826675, 'eval_mape_ge_10_le_100fps': 0.9937101602554321, 'eval_mse_sqrt_le_10fps': 0.2236008644104004, 'eval_mae_le_10fps': 0.2236008644104004, 'eval_mape_le_10fps': 0.9995379447937012, 'eval_mse_sqrt_raw': 1.8983573913574219, 'eval_mae_raw': 1.6259747743606567, 'eval_mape_raw': 0.21070510149002075, 'eval_runtime': 10.2554, 'eval_samples_per_second': 219.885, 'eval_steps_per_second': 0.488, 'epoch': 18.33}\n",
      "{'loss': 3.6374, 'learning_rate': 0.0003111111111111111, 'epoch': 18.89}\n"
     ]
    },
    {
     "data": {
      "application/vnd.jupyter.widget-view+json": {
       "model_id": "eac397b07a964c4c8d70bb3b4b64a310",
       "version_major": 2,
       "version_minor": 0
      },
      "text/plain": [
       "  0%|          | 0/5 [00:00<?, ?it/s]"
      ]
     },
     "metadata": {},
     "output_type": "display_data"
    },
    {
     "name": "stdout",
     "output_type": "stream",
     "text": [
      "{'eval_loss': 3.5983023643493652, 'eval_mse_sqrt': 0.0057607232592999935, 'eval_mae': 0.0009310714085586369, 'eval_mape': 2.2880332469940186, 'eval_mse_sqrt_ge_10000fps': 7.099585491232574e-05, 'eval_mae_ge_10000fps': 6.812014908064157e-05, 'eval_mape_ge_10000fps': 3.267981767654419, 'eval_mse_sqrt_ge_1000_le_10000fps': 0.0003693843027576804, 'eval_mae_ge_1000_le_10000fps': 0.00028462044429033995, 'eval_mape_ge_1000_le_10000fps': 0.6191679239273071, 'eval_mse_sqrt_ge_100_le_1000fps': 0.003425195813179016, 'eval_mae_ge_100_le_1000fps': 0.0028547211550176144, 'eval_mape_ge_100_le_1000fps': 0.9534683227539062, 'eval_mse_sqrt_ge_10_le_100fps': 0.023930471390485764, 'eval_mae_ge_10_le_100fps': 0.020588325336575508, 'eval_mape_ge_10_le_100fps': 0.9939493536949158, 'eval_mse_sqrt_le_10fps': 0.22360453009605408, 'eval_mae_le_10fps': 0.22360453009605408, 'eval_mape_le_10fps': 0.9995542764663696, 'eval_mse_sqrt_raw': 1.8969191312789917, 'eval_mae_raw': 1.6165156364440918, 'eval_mape_raw': 0.21058282256126404, 'eval_runtime': 10.1817, 'eval_samples_per_second': 221.475, 'eval_steps_per_second': 0.491, 'epoch': 18.89}\n",
      "{'loss': 3.6855, 'learning_rate': 0.0003055555555555556, 'epoch': 19.44}\n"
     ]
    },
    {
     "data": {
      "application/vnd.jupyter.widget-view+json": {
       "model_id": "3a8317db90424d56abc9aef4c70255b0",
       "version_major": 2,
       "version_minor": 0
      },
      "text/plain": [
       "  0%|          | 0/5 [00:00<?, ?it/s]"
      ]
     },
     "metadata": {},
     "output_type": "display_data"
    },
    {
     "name": "stdout",
     "output_type": "stream",
     "text": [
      "{'eval_loss': 3.5949018001556396, 'eval_mse_sqrt': 0.005760349333286285, 'eval_mae': 0.0009314551716670394, 'eval_mape': 2.3422460556030273, 'eval_mse_sqrt_ge_10000fps': 7.306130282813683e-05, 'eval_mae_ge_10000fps': 7.029710832284763e-05, 'eval_mape_ge_10000fps': 3.3606317043304443, 'eval_mse_sqrt_ge_1000_le_10000fps': 0.00036752919550053775, 'eval_mae_ge_1000_le_10000fps': 0.00028220919193699956, 'eval_mape_ge_1000_le_10000fps': 0.6098867654800415, 'eval_mse_sqrt_ge_100_le_1000fps': 0.0034231413155794144, 'eval_mae_ge_100_le_1000fps': 0.0028522703796625137, 'eval_mape_ge_100_le_1000fps': 0.9523199796676636, 'eval_mse_sqrt_ge_10_le_100fps': 0.02392835170030594, 'eval_mae_ge_10_le_100fps': 0.02058584988117218, 'eval_mape_ge_10_le_100fps': 0.9937973022460938, 'eval_mse_sqrt_le_10fps': 0.22360147535800934, 'eval_mae_le_10fps': 0.22360147535800934, 'eval_mape_le_10fps': 0.9995406270027161, 'eval_mse_sqrt_raw': 1.8960226774215698, 'eval_mae_raw': 1.6204168796539307, 'eval_mape_raw': 0.21047022938728333, 'eval_runtime': 10.3181, 'eval_samples_per_second': 218.547, 'eval_steps_per_second': 0.485, 'epoch': 19.44}\n",
      "{'loss': 3.6749, 'learning_rate': 0.0003, 'epoch': 20.0}\n"
     ]
    },
    {
     "data": {
      "application/vnd.jupyter.widget-view+json": {
       "model_id": "0a70201a8c7e45659a8f11236bec4cd1",
       "version_major": 2,
       "version_minor": 0
      },
      "text/plain": [
       "  0%|          | 0/5 [00:00<?, ?it/s]"
      ]
     },
     "metadata": {},
     "output_type": "display_data"
    },
    {
     "name": "stdout",
     "output_type": "stream",
     "text": [
      "{'eval_loss': 3.587003231048584, 'eval_mse_sqrt': 0.005760056432336569, 'eval_mae': 0.0009315507486462593, 'eval_mape': 2.3721344470977783, 'eval_mse_sqrt_ge_10000fps': 7.42349584470503e-05, 'eval_mae_ge_10000fps': 7.15692003723234e-05, 'eval_mape_ge_10000fps': 3.412264347076416, 'eval_mse_sqrt_ge_1000_le_10000fps': 0.00036620235187001526, 'eval_mae_ge_1000_le_10000fps': 0.0002805028052534908, 'eval_mape_ge_1000_le_10000fps': 0.6034697890281677, 'eval_mse_sqrt_ge_100_le_1000fps': 0.0034216102212667465, 'eval_mae_ge_100_le_1000fps': 0.0028504624497145414, 'eval_mape_ge_100_le_1000fps': 0.9514790773391724, 'eval_mse_sqrt_ge_10_le_100fps': 0.02392677776515484, 'eval_mae_ge_10_le_100fps': 0.020583992823958397, 'eval_mape_ge_10_le_100fps': 0.9936822652816772, 'eval_mse_sqrt_le_10fps': 0.22359848022460938, 'eval_mae_le_10fps': 0.22359848022460938, 'eval_mape_le_10fps': 0.9995272755622864, 'eval_mse_sqrt_raw': 1.893938660621643, 'eval_mae_raw': 1.6214157342910767, 'eval_mape_raw': 0.2102218121290207, 'eval_runtime': 10.2246, 'eval_samples_per_second': 220.546, 'eval_steps_per_second': 0.489, 'epoch': 20.0}\n",
      "{'loss': 3.5772, 'learning_rate': 0.00029444444444444445, 'epoch': 20.56}\n"
     ]
    },
    {
     "data": {
      "application/vnd.jupyter.widget-view+json": {
       "model_id": "8739a7d8b8224a888b138b300a593f46",
       "version_major": 2,
       "version_minor": 0
      },
      "text/plain": [
       "  0%|          | 0/5 [00:00<?, ?it/s]"
      ]
     },
     "metadata": {},
     "output_type": "display_data"
    },
    {
     "name": "stdout",
     "output_type": "stream",
     "text": [
      "{'eval_loss': 3.5632944107055664, 'eval_mse_sqrt': 0.005759970750659704, 'eval_mae': 0.000930823793169111, 'eval_mape': 2.3359501361846924, 'eval_mse_sqrt_ge_10000fps': 7.29906460037455e-05, 'eval_mae_ge_10000fps': 7.039887714199722e-05, 'eval_mape_ge_10000fps': 3.3529560565948486, 'eval_mse_sqrt_ge_1000_le_10000fps': 0.0003662472008727491, 'eval_mae_ge_1000_le_10000fps': 0.00028054823633283377, 'eval_mape_ge_1000_le_10000fps': 0.6036254167556763, 'eval_mse_sqrt_ge_100_le_1000fps': 0.0034214414190500975, 'eval_mae_ge_100_le_1000fps': 0.002850330201908946, 'eval_mape_ge_100_le_1000fps': 0.9514405131340027, 'eval_mse_sqrt_ge_10_le_100fps': 0.023926617577672005, 'eval_mae_ge_10_le_100fps': 0.020583748817443848, 'eval_mape_ge_10_le_100fps': 0.993663489818573, 'eval_mse_sqrt_le_10fps': 0.22359539568424225, 'eval_mae_le_10fps': 0.22359539568424225, 'eval_mape_le_10fps': 0.9995134472846985, 'eval_mse_sqrt_raw': 1.8876689672470093, 'eval_mae_raw': 1.6142281293869019, 'eval_mape_raw': 0.2095339298248291, 'eval_runtime': 10.1941, 'eval_samples_per_second': 221.207, 'eval_steps_per_second': 0.49, 'epoch': 20.56}\n",
      "{'loss': 3.6548, 'learning_rate': 0.0002888888888888889, 'epoch': 21.11}\n"
     ]
    },
    {
     "data": {
      "application/vnd.jupyter.widget-view+json": {
       "model_id": "fd0139a49c454606af671e01cda4c538",
       "version_major": 2,
       "version_minor": 0
      },
      "text/plain": [
       "  0%|          | 0/5 [00:00<?, ?it/s]"
      ]
     },
     "metadata": {},
     "output_type": "display_data"
    },
    {
     "name": "stdout",
     "output_type": "stream",
     "text": [
      "{'eval_loss': 3.5200350284576416, 'eval_mse_sqrt': 0.005758082494139671, 'eval_mae': 0.0009313089540228248, 'eval_mape': 2.5142476558685303, 'eval_mse_sqrt_ge_10000fps': 8.017176151042804e-05, 'eval_mae_ge_10000fps': 7.807574729667976e-05, 'eval_mape_ge_10000fps': 3.6595702171325684, 'eval_mse_sqrt_ge_1000_le_10000fps': 0.00035786713124252856, 'eval_mae_ge_1000_le_10000fps': 0.00027033244259655476, 'eval_mape_ge_1000_le_10000fps': 0.5691579580307007, 'eval_mse_sqrt_ge_100_le_1000fps': 0.0034115726593881845, 'eval_mae_ge_100_le_1000fps': 0.002838688902556896, 'eval_mape_ge_100_le_1000fps': 0.9460338950157166, 'eval_mse_sqrt_ge_10_le_100fps': 0.023916495963931084, 'eval_mae_ge_10_le_100fps': 0.020571792498230934, 'eval_mape_ge_10_le_100fps': 0.9929215908050537, 'eval_mse_sqrt_le_10fps': 0.22357554733753204, 'eval_mae_le_10fps': 0.22357554733753204, 'eval_mape_le_10fps': 0.9994247555732727, 'eval_mse_sqrt_raw': 1.8761755228042603, 'eval_mae_raw': 1.6202014684677124, 'eval_mape_raw': 0.20807117223739624, 'eval_runtime': 10.2402, 'eval_samples_per_second': 220.211, 'eval_steps_per_second': 0.488, 'epoch': 21.11}\n",
      "{'loss': 3.5798, 'learning_rate': 0.00028333333333333335, 'epoch': 21.67}\n"
     ]
    },
    {
     "data": {
      "application/vnd.jupyter.widget-view+json": {
       "model_id": "54a559eec2fa4ff98a2a16b3cdfaa332",
       "version_major": 2,
       "version_minor": 0
      },
      "text/plain": [
       "  0%|          | 0/5 [00:00<?, ?it/s]"
      ]
     },
     "metadata": {},
     "output_type": "display_data"
    },
    {
     "name": "stdout",
     "output_type": "stream",
     "text": [
      "{'eval_loss': 3.44305682182312, 'eval_mse_sqrt': 0.005756810773164034, 'eval_mae': 0.0009296259959228337, 'eval_mape': 2.511317729949951, 'eval_mse_sqrt_ge_10000fps': 8.092510688584298e-05, 'eval_mae_ge_10000fps': 7.90068952483125e-05, 'eval_mape_ge_10000fps': 3.660860538482666, 'eval_mse_sqrt_ge_1000_le_10000fps': 0.00035344911157153547, 'eval_mae_ge_1000_le_10000fps': 0.0002653245464898646, 'eval_mape_ge_1000_le_10000fps': 0.555332601070404, 'eval_mse_sqrt_ge_100_le_1000fps': 0.0034055609721690416, 'eval_mae_ge_100_le_1000fps': 0.0028317738324403763, 'eval_mape_ge_100_le_1000fps': 0.9428891539573669, 'eval_mse_sqrt_ge_10_le_100fps': 0.023910410702228546, 'eval_mae_ge_10_le_100fps': 0.020564427599310875, 'eval_mape_ge_10_le_100fps': 0.9924545288085938, 'eval_mse_sqrt_le_10fps': 0.22355705499649048, 'eval_mae_le_10fps': 0.22355705499649048, 'eval_mape_le_10fps': 0.9993420839309692, 'eval_mse_sqrt_raw': 1.855547547340393, 'eval_mae_raw': 1.6056883335113525, 'eval_mape_raw': 0.2056911140680313, 'eval_runtime': 10.2333, 'eval_samples_per_second': 220.36, 'eval_steps_per_second': 0.489, 'epoch': 21.67}\n",
      "{'loss': 3.4179, 'learning_rate': 0.0002777777777777778, 'epoch': 22.22}\n"
     ]
    },
    {
     "data": {
      "application/vnd.jupyter.widget-view+json": {
       "model_id": "8123ee08546943778587ad5802d1e1ea",
       "version_major": 2,
       "version_minor": 0
      },
      "text/plain": [
       "  0%|          | 0/5 [00:00<?, ?it/s]"
      ]
     },
     "metadata": {},
     "output_type": "display_data"
    },
    {
     "name": "stdout",
     "output_type": "stream",
     "text": [
      "{'eval_loss': 3.3515496253967285, 'eval_mse_sqrt': 0.005756551865488291, 'eval_mae': 0.000926571898162365, 'eval_mape': 2.3516318798065186, 'eval_mse_sqrt_ge_10000fps': 7.588150765514001e-05, 'eval_mae_ge_10000fps': 7.374724373221397e-05, 'eval_mape_ge_10000fps': 3.3976807594299316, 'eval_mse_sqrt_ge_1000_le_10000fps': 0.00035407362156547606, 'eval_mae_ge_1000_le_10000fps': 0.00026616296963766217, 'eval_mape_ge_1000_le_10000fps': 0.5596358776092529, 'eval_mse_sqrt_ge_100_le_1000fps': 0.003405167255550623, 'eval_mae_ge_100_le_1000fps': 0.0028315731324255466, 'eval_mape_ge_100_le_1000fps': 0.9428935647010803, 'eval_mse_sqrt_ge_10_le_100fps': 0.023910116404294968, 'eval_mae_ge_10_le_100fps': 0.020563818514347076, 'eval_mape_ge_10_le_100fps': 0.9924023747444153, 'eval_mse_sqrt_le_10fps': 0.22354690730571747, 'eval_mae_le_10fps': 0.22354690730571747, 'eval_mape_le_10fps': 0.9992967247962952, 'eval_mse_sqrt_raw': 1.830723762512207, 'eval_mae_raw': 1.5758994817733765, 'eval_mape_raw': 0.20300182700157166, 'eval_runtime': 10.2973, 'eval_samples_per_second': 218.989, 'eval_steps_per_second': 0.486, 'epoch': 22.22}\n",
      "{'loss': 3.4286, 'learning_rate': 0.0002722222222222222, 'epoch': 22.78}\n"
     ]
    },
    {
     "data": {
      "application/vnd.jupyter.widget-view+json": {
       "model_id": "b9867bb9e2b54538a370563019303424",
       "version_major": 2,
       "version_minor": 0
      },
      "text/plain": [
       "  0%|          | 0/5 [00:00<?, ?it/s]"
      ]
     },
     "metadata": {},
     "output_type": "display_data"
    },
    {
     "name": "stdout",
     "output_type": "stream",
     "text": [
      "{'eval_loss': 3.2722086906433105, 'eval_mse_sqrt': 0.0057541197165846825, 'eval_mae': 0.000925233238376677, 'eval_mape': 2.4462971687316895, 'eval_mse_sqrt_ge_10000fps': 8.157407864928246e-05, 'eval_mae_ge_10000fps': 7.895870658103377e-05, 'eval_mape_ge_10000fps': 3.5624518394470215, 'eval_mse_sqrt_ge_1000_le_10000fps': 0.0003447826311457902, 'eval_mae_ge_1000_le_10000fps': 0.0002564800961408764, 'eval_mape_ge_1000_le_10000fps': 0.5384458303451538, 'eval_mse_sqrt_ge_100_le_1000fps': 0.0033927070908248425, 'eval_mae_ge_100_le_1000fps': 0.002817044500261545, 'eval_mape_ge_100_le_1000fps': 0.9362303018569946, 'eval_mse_sqrt_ge_10_le_100fps': 0.023897532373666763, 'eval_mae_ge_10_le_100fps': 0.02054869569838047, 'eval_mape_ge_10_le_100fps': 0.9914499521255493, 'eval_mse_sqrt_le_10fps': 0.22351813316345215, 'eval_mae_le_10fps': 0.22351813316345215, 'eval_mape_le_10fps': 0.9991680979728699, 'eval_mse_sqrt_raw': 1.808924674987793, 'eval_mae_raw': 1.5673468112945557, 'eval_mape_raw': 0.20029324293136597, 'eval_runtime': 10.1804, 'eval_samples_per_second': 221.505, 'eval_steps_per_second': 0.491, 'epoch': 22.78}\n",
      "{'loss': 3.248, 'learning_rate': 0.0002666666666666667, 'epoch': 23.33}\n"
     ]
    },
    {
     "data": {
      "application/vnd.jupyter.widget-view+json": {
       "model_id": "e9ce11fdb88742239fd5fcf6692facb5",
       "version_major": 2,
       "version_minor": 0
      },
      "text/plain": [
       "  0%|          | 0/5 [00:00<?, ?it/s]"
      ]
     },
     "metadata": {},
     "output_type": "display_data"
    },
    {
     "name": "stdout",
     "output_type": "stream",
     "text": [
      "{'eval_loss': 3.1770060062408447, 'eval_mse_sqrt': 0.005754170473664999, 'eval_mae': 0.00092175486497581, 'eval_mape': 2.233283281326294, 'eval_mse_sqrt_ge_10000fps': 7.501817162847146e-05, 'eval_mae_ge_10000fps': 7.152459875214845e-05, 'eval_mape_ge_10000fps': 3.2088992595672607, 'eval_mse_sqrt_ge_1000_le_10000fps': 0.00034745020093396306, 'eval_mae_ge_1000_le_10000fps': 0.0002596023550722748, 'eval_mape_ge_1000_le_10000fps': 0.5499175190925598, 'eval_mse_sqrt_ge_100_le_1000fps': 0.0033943166490644217, 'eval_mae_ge_100_le_1000fps': 0.0028192379977554083, 'eval_mape_ge_100_le_1000fps': 0.937361478805542, 'eval_mse_sqrt_ge_10_le_100fps': 0.02389919012784958, 'eval_mae_ge_10_le_100fps': 0.020550396293401718, 'eval_mape_ge_10_le_100fps': 0.9915406703948975, 'eval_mse_sqrt_le_10fps': 0.22350803017616272, 'eval_mae_le_10fps': 0.22350803017616272, 'eval_mape_le_10fps': 0.9991229176521301, 'eval_mse_sqrt_raw': 1.782415747642517, 'eval_mae_raw': 1.5302308797836304, 'eval_mape_raw': 0.19735074043273926, 'eval_runtime': 10.224, 'eval_samples_per_second': 220.56, 'eval_steps_per_second': 0.489, 'epoch': 23.33}\n",
      "{'loss': 3.184, 'learning_rate': 0.00026111111111111116, 'epoch': 23.89}\n"
     ]
    },
    {
     "data": {
      "application/vnd.jupyter.widget-view+json": {
       "model_id": "6d77b6c7b6cf43768fd6fd088962aa73",
       "version_major": 2,
       "version_minor": 0
      },
      "text/plain": [
       "  0%|          | 0/5 [00:00<?, ?it/s]"
      ]
     },
     "metadata": {},
     "output_type": "display_data"
    },
    {
     "name": "stdout",
     "output_type": "stream",
     "text": [
      "{'eval_loss': 3.0783655643463135, 'eval_mse_sqrt': 0.005752781871706247, 'eval_mae': 0.000918703677598387, 'eval_mape': 2.138946056365967, 'eval_mse_sqrt_ge_10000fps': 7.440537592628971e-05, 'eval_mae_ge_10000fps': 6.924480112502351e-05, 'eval_mape_ge_10000fps': 3.0549697875976562, 'eval_mse_sqrt_ge_1000_le_10000fps': 0.00034452835097908974, 'eval_mae_ge_1000_le_10000fps': 0.0002570019569247961, 'eval_mape_ge_1000_le_10000fps': 0.5502126216888428, 'eval_mse_sqrt_ge_100_le_1000fps': 0.0033883939031511545, 'eval_mae_ge_100_le_1000fps': 0.0028125212993472815, 'eval_mape_ge_100_le_1000fps': 0.9343691468238831, 'eval_mse_sqrt_ge_10_le_100fps': 0.023893047124147415, 'eval_mae_ge_10_le_100fps': 0.020542845129966736, 'eval_mape_ge_10_le_100fps': 0.991055965423584, 'eval_mse_sqrt_le_10fps': 0.22348172962665558, 'eval_mae_le_10fps': 0.22348172962665558, 'eval_mape_le_10fps': 0.9990053772926331, 'eval_mse_sqrt_raw': 1.75452721118927, 'eval_mae_raw': 1.4995429515838623, 'eval_mape_raw': 0.19392788410186768, 'eval_runtime': 10.1864, 'eval_samples_per_second': 221.374, 'eval_steps_per_second': 0.491, 'epoch': 23.89}\n",
      "{'loss': 3.0897, 'learning_rate': 0.00025555555555555553, 'epoch': 24.44}\n"
     ]
    },
    {
     "data": {
      "application/vnd.jupyter.widget-view+json": {
       "model_id": "2ff6c600cac142a7a8d462d3fc90cc95",
       "version_major": 2,
       "version_minor": 0
      },
      "text/plain": [
       "  0%|          | 0/5 [00:00<?, ?it/s]"
      ]
     },
     "metadata": {},
     "output_type": "display_data"
    },
    {
     "name": "stdout",
     "output_type": "stream",
     "text": [
      "{'eval_loss': 2.985067844390869, 'eval_mse_sqrt': 0.005751350894570351, 'eval_mae': 0.0009156728046946228, 'eval_mape': 2.0465805530548096, 'eval_mse_sqrt_ge_10000fps': 7.458947220584378e-05, 'eval_mae_ge_10000fps': 6.707299326080829e-05, 'eval_mape_ge_10000fps': 2.903872489929199, 'eval_mse_sqrt_ge_1000_le_10000fps': 0.0003416922700125724, 'eval_mae_ge_1000_le_10000fps': 0.0002544326416682452, 'eval_mape_ge_1000_le_10000fps': 0.5516229867935181, 'eval_mse_sqrt_ge_100_le_1000fps': 0.0033822248224169016, 'eval_mae_ge_100_le_1000fps': 0.0028054621070623398, 'eval_mape_ge_100_le_1000fps': 0.9312107563018799, 'eval_mse_sqrt_ge_10_le_100fps': 0.023886555805802345, 'eval_mae_ge_10_le_100fps': 0.02053489349782467, 'eval_mape_ge_10_le_100fps': 0.990548849105835, 'eval_mse_sqrt_le_10fps': 0.2234550267457962, 'eval_mae_le_10fps': 0.2234550267457962, 'eval_mape_le_10fps': 0.998885989189148, 'eval_mse_sqrt_raw': 1.727734923362732, 'eval_mae_raw': 1.4675676822662354, 'eval_mape_raw': 0.190440833568573, 'eval_runtime': 10.2046, 'eval_samples_per_second': 220.979, 'eval_steps_per_second': 0.49, 'epoch': 24.44}\n",
      "{'loss': 3.0342, 'learning_rate': 0.00025, 'epoch': 25.0}\n"
     ]
    },
    {
     "data": {
      "application/vnd.jupyter.widget-view+json": {
       "model_id": "3e9d1cfc8c814ce1a85f54ac0a44ab81",
       "version_major": 2,
       "version_minor": 0
      },
      "text/plain": [
       "  0%|          | 0/5 [00:00<?, ?it/s]"
      ]
     },
     "metadata": {},
     "output_type": "display_data"
    },
    {
     "name": "stdout",
     "output_type": "stream",
     "text": [
      "{'eval_loss': 2.894855260848999, 'eval_mse_sqrt': 0.005747800227254629, 'eval_mae': 0.0009130315156653523, 'eval_mape': 2.103029251098633, 'eval_mse_sqrt_ge_10000fps': 8.344859088538215e-05, 'eval_mae_ge_10000fps': 7.152894977480173e-05, 'eval_mape_ge_10000fps': 3.0009191036224365, 'eval_mse_sqrt_ge_1000_le_10000fps': 0.0003317204536870122, 'eval_mae_ge_1000_le_10000fps': 0.00024506443878635764, 'eval_mape_ge_1000_le_10000fps': 0.5451715588569641, 'eval_mse_sqrt_ge_100_le_1000fps': 0.003364769509062171, 'eval_mae_ge_100_le_1000fps': 0.0027850286569446325, 'eval_mape_ge_100_le_1000fps': 0.9218913912773132, 'eval_mse_sqrt_ge_10_le_100fps': 0.023868434131145477, 'eval_mae_ge_10_le_100fps': 0.020513055846095085, 'eval_mape_ge_10_le_100fps': 0.9891740679740906, 'eval_mse_sqrt_le_10fps': 0.22340448200702667, 'eval_mae_le_10fps': 0.22340448200702667, 'eval_mape_le_10fps': 0.9986600279808044, 'eval_mse_sqrt_raw': 1.7014274597167969, 'eval_mae_raw': 1.447173833847046, 'eval_mape_raw': 0.18670348823070526, 'eval_runtime': 10.1999, 'eval_samples_per_second': 221.082, 'eval_steps_per_second': 0.49, 'epoch': 25.0}\n",
      "{'loss': 2.9573, 'learning_rate': 0.00024444444444444443, 'epoch': 25.56}\n"
     ]
    },
    {
     "data": {
      "application/vnd.jupyter.widget-view+json": {
       "model_id": "afaffb3a6ff745ba91fd023fc7689d1a",
       "version_major": 2,
       "version_minor": 0
      },
      "text/plain": [
       "  0%|          | 0/5 [00:00<?, ?it/s]"
      ]
     },
     "metadata": {},
     "output_type": "display_data"
    },
    {
     "name": "stdout",
     "output_type": "stream",
     "text": [
      "{'eval_loss': 2.790083169937134, 'eval_mse_sqrt': 0.005746543873101473, 'eval_mae': 0.0009092063410207629, 'eval_mape': 1.9280065298080444, 'eval_mse_sqrt_ge_10000fps': 8.302850619656965e-05, 'eval_mae_ge_10000fps': 6.628246774198487e-05, 'eval_mape_ge_10000fps': 2.7091312408447266, 'eval_mse_sqrt_ge_1000_le_10000fps': 0.0003317782829981297, 'eval_mae_ge_1000_le_10000fps': 0.0002461262047290802, 'eval_mape_ge_1000_le_10000fps': 0.5598787069320679, 'eval_mse_sqrt_ge_100_le_1000fps': 0.0033598551526665688, 'eval_mae_ge_100_le_1000fps': 0.0027794179040938616, 'eval_mape_ge_100_le_1000fps': 0.9194177389144897, 'eval_mse_sqrt_ge_10_le_100fps': 0.02386382408440113, 'eval_mae_ge_10_le_100fps': 0.020506760105490685, 'eval_mape_ge_10_le_100fps': 0.9887778759002686, 'eval_mse_sqrt_le_10fps': 0.2233724743127823, 'eval_mae_le_10fps': 0.2233724743127823, 'eval_mape_le_10fps': 0.9985169768333435, 'eval_mse_sqrt_raw': 1.6703541278839111, 'eval_mae_raw': 1.3975192308425903, 'eval_mape_raw': 0.18217577040195465, 'eval_runtime': 10.064, 'eval_samples_per_second': 224.066, 'eval_steps_per_second': 0.497, 'epoch': 25.56}\n",
      "{'loss': 2.7993, 'learning_rate': 0.0002388888888888889, 'epoch': 26.11}\n"
     ]
    },
    {
     "data": {
      "application/vnd.jupyter.widget-view+json": {
       "model_id": "ea0cb8e5c268436ba83683748903a972",
       "version_major": 2,
       "version_minor": 0
      },
      "text/plain": [
       "  0%|          | 0/5 [00:00<?, ?it/s]"
      ]
     },
     "metadata": {},
     "output_type": "display_data"
    },
    {
     "name": "stdout",
     "output_type": "stream",
     "text": [
      "{'eval_loss': 2.697582721710205, 'eval_mse_sqrt': 0.00574324419721961, 'eval_mae': 0.0009060492739081383, 'eval_mape': 1.8725978136062622, 'eval_mse_sqrt_ge_10000fps': 9.042242891155183e-05, 'eval_mae_ge_10000fps': 6.62738602841273e-05, 'eval_mape_ge_10000fps': 2.611783504486084, 'eval_mse_sqrt_ge_1000_le_10000fps': 0.0003271670429967344, 'eval_mae_ge_1000_le_10000fps': 0.00024436513194814324, 'eval_mape_ge_1000_le_10000fps': 0.5814701914787292, 'eval_mse_sqrt_ge_100_le_1000fps': 0.0033447938039898872, 'eval_mae_ge_100_le_1000fps': 0.002761783776804805, 'eval_mape_ge_100_le_1000fps': 0.9114372134208679, 'eval_mse_sqrt_ge_10_le_100fps': 0.023846590891480446, 'eval_mae_ge_10_le_100fps': 0.020486552268266678, 'eval_mape_ge_10_le_100fps': 0.9875389337539673, 'eval_mse_sqrt_le_10fps': 0.22331762313842773, 'eval_mae_le_10fps': 0.22331762313842773, 'eval_mape_le_10fps': 0.9982717633247375, 'eval_mse_sqrt_raw': 1.6424319744110107, 'eval_mae_raw': 1.357936978340149, 'eval_mape_raw': 0.17765666544437408, 'eval_runtime': 10.1436, 'eval_samples_per_second': 222.307, 'eval_steps_per_second': 0.493, 'epoch': 26.11}\n",
      "{'loss': 2.7274, 'learning_rate': 0.00023333333333333333, 'epoch': 26.67}\n"
     ]
    },
    {
     "data": {
      "application/vnd.jupyter.widget-view+json": {
       "model_id": "81a8213b87d246b896f2428df01f6a97",
       "version_major": 2,
       "version_minor": 0
      },
      "text/plain": [
       "  0%|          | 0/5 [00:00<?, ?it/s]"
      ]
     },
     "metadata": {},
     "output_type": "display_data"
    },
    {
     "name": "stdout",
     "output_type": "stream",
     "text": [
      "{'eval_loss': 2.6229026317596436, 'eval_mse_sqrt': 0.0057409657165408134, 'eval_mae': 0.0009031547233462334, 'eval_mape': 1.7893630266189575, 'eval_mse_sqrt_ge_10000fps': 9.624226368032396e-05, 'eval_mae_ge_10000fps': 6.493963883258402e-05, 'eval_mape_ge_10000fps': 2.4698801040649414, 'eval_mse_sqrt_ge_1000_le_10000fps': 0.00032523181289434433, 'eval_mae_ge_1000_le_10000fps': 0.00024404437863267958, 'eval_mape_ge_1000_le_10000fps': 0.599218487739563, 'eval_mse_sqrt_ge_100_le_1000fps': 0.0033334768377244473, 'eval_mae_ge_100_le_1000fps': 0.0027487967163324356, 'eval_mape_ge_100_le_1000fps': 0.9056123495101929, 'eval_mse_sqrt_ge_10_le_100fps': 0.023836083710193634, 'eval_mae_ge_10_le_100fps': 0.020472252741456032, 'eval_mape_ge_10_le_100fps': 0.9865814447402954, 'eval_mse_sqrt_le_10fps': 0.22327661514282227, 'eval_mae_le_10fps': 0.22327661514282227, 'eval_mape_le_10fps': 0.9980884790420532, 'eval_mse_sqrt_raw': 1.6195378303527832, 'eval_mae_raw': 1.313714861869812, 'eval_mape_raw': 0.17320480942726135, 'eval_runtime': 10.1327, 'eval_samples_per_second': 222.546, 'eval_steps_per_second': 0.493, 'epoch': 26.67}\n",
      "{'loss': 2.7584, 'learning_rate': 0.00022777777777777778, 'epoch': 27.22}\n"
     ]
    },
    {
     "data": {
      "application/vnd.jupyter.widget-view+json": {
       "model_id": "0780a4246416401da35c5e3d626555d9",
       "version_major": 2,
       "version_minor": 0
      },
      "text/plain": [
       "  0%|          | 0/5 [00:00<?, ?it/s]"
      ]
     },
     "metadata": {},
     "output_type": "display_data"
    },
    {
     "name": "stdout",
     "output_type": "stream",
     "text": [
      "{'eval_loss': 2.5890109539031982, 'eval_mse_sqrt': 0.005732490681111813, 'eval_mae': 0.0009038358693942428, 'eval_mape': 2.1340346336364746, 'eval_mse_sqrt_ge_10000fps': 0.00012713497562799603, 'eval_mae_ge_10000fps': 8.244140190072358e-05, 'eval_mape_ge_10000fps': 3.0188632011413574, 'eval_mse_sqrt_ge_1000_le_10000fps': 0.0003103750350419432, 'eval_mae_ge_1000_le_10000fps': 0.000237279586144723, 'eval_mape_ge_1000_le_10000fps': 0.653480052947998, 'eval_mse_sqrt_ge_100_le_1000fps': 0.003287689760327339, 'eval_mae_ge_100_le_1000fps': 0.0026939630042761564, 'eval_mape_ge_100_le_1000fps': 0.8804026246070862, 'eval_mse_sqrt_ge_10_le_100fps': 0.023787762969732285, 'eval_mae_ge_10_le_100fps': 0.020413756370544434, 'eval_mape_ge_10_le_100fps': 0.9829238653182983, 'eval_mse_sqrt_le_10fps': 0.2231726497411728, 'eval_mae_le_10fps': 0.2231726497411728, 'eval_mape_le_10fps': 0.9976237416267395, 'eval_mse_sqrt_raw': 1.6090402603149414, 'eval_mae_raw': 1.3242827653884888, 'eval_mape_raw': 0.17078381776809692, 'eval_runtime': 10.2924, 'eval_samples_per_second': 219.095, 'eval_steps_per_second': 0.486, 'epoch': 27.22}\n",
      "{'loss': 2.6828, 'learning_rate': 0.0002222222222222222, 'epoch': 27.78}\n"
     ]
    },
    {
     "data": {
      "application/vnd.jupyter.widget-view+json": {
       "model_id": "04e19e72bc86441f8d2dff96f2704390",
       "version_major": 2,
       "version_minor": 0
      },
      "text/plain": [
       "  0%|          | 0/5 [00:00<?, ?it/s]"
      ]
     },
     "metadata": {},
     "output_type": "display_data"
    },
    {
     "name": "stdout",
     "output_type": "stream",
     "text": [
      "{'eval_loss': 2.530144453048706, 'eval_mse_sqrt': 0.005736186169087887, 'eval_mae': 0.0008998674456961453, 'eval_mape': 1.7531577348709106, 'eval_mse_sqrt_ge_10000fps': 0.00011121335410280153, 'eval_mae_ge_10000fps': 6.705352279823273e-05, 'eval_mape_ge_10000fps': 2.398061752319336, 'eval_mse_sqrt_ge_1000_le_10000fps': 0.00032018570345826447, 'eval_mae_ge_1000_le_10000fps': 0.00024330212909262627, 'eval_mape_ge_1000_le_10000fps': 0.6389932036399841, 'eval_mse_sqrt_ge_100_le_1000fps': 0.0033100026194006205, 'eval_mae_ge_100_le_1000fps': 0.0027203450445085764, 'eval_mape_ge_100_le_1000fps': 0.8924751281738281, 'eval_mse_sqrt_ge_10_le_100fps': 0.02380911260843277, 'eval_mae_ge_10_le_100fps': 0.02043965458869934, 'eval_mape_ge_10_le_100fps': 0.9845613837242126, 'eval_mse_sqrt_le_10fps': 0.2232065498828888, 'eval_mae_le_10fps': 0.2232065498828888, 'eval_mape_le_10fps': 0.9977752566337585, 'eval_mse_sqrt_raw': 1.5906428098678589, 'eval_mae_raw': 1.2515815496444702, 'eval_mape_raw': 0.16641190648078918, 'eval_runtime': 10.2308, 'eval_samples_per_second': 220.414, 'eval_steps_per_second': 0.489, 'epoch': 27.78}\n",
      "{'loss': 2.561, 'learning_rate': 0.00021666666666666668, 'epoch': 28.33}\n"
     ]
    },
    {
     "data": {
      "application/vnd.jupyter.widget-view+json": {
       "model_id": "571b6f202bc144ea82717beb6f2ae77a",
       "version_major": 2,
       "version_minor": 0
      },
      "text/plain": [
       "  0%|          | 0/5 [00:00<?, ?it/s]"
      ]
     },
     "metadata": {},
     "output_type": "display_data"
    },
    {
     "name": "stdout",
     "output_type": "stream",
     "text": [
      "{'eval_loss': 2.5031254291534424, 'eval_mse_sqrt': 0.005732784513384104, 'eval_mae': 0.0008998927660286427, 'eval_mape': 1.8798267841339111, 'eval_mse_sqrt_ge_10000fps': 0.00012378637620713562, 'eval_mae_ge_10000fps': 7.388243830064312e-05, 'eval_mape_ge_10000fps': 2.5990419387817383, 'eval_mse_sqrt_ge_1000_le_10000fps': 0.0003145099326502532, 'eval_mae_ge_1000_le_10000fps': 0.00024086998018901795, 'eval_mape_ge_1000_le_10000fps': 0.6617663502693176, 'eval_mse_sqrt_ge_100_le_1000fps': 0.0032906876876950264, 'eval_mae_ge_100_le_1000fps': 0.002697041956707835, 'eval_mape_ge_100_le_1000fps': 0.8817534446716309, 'eval_mse_sqrt_ge_10_le_100fps': 0.023788513615727425, 'eval_mae_ge_10_le_100fps': 0.020414656028151512, 'eval_mape_ge_10_le_100fps': 0.9830038547515869, 'eval_mse_sqrt_le_10fps': 0.22317278385162354, 'eval_mae_le_10fps': 0.22317278385162354, 'eval_mape_le_10fps': 0.9976243376731873, 'eval_mse_sqrt_raw': 1.5821268558502197, 'eval_mae_raw': 1.248831868171692, 'eval_mape_raw': 0.16473400592803955, 'eval_runtime': 10.326, 'eval_samples_per_second': 218.38, 'eval_steps_per_second': 0.484, 'epoch': 28.33}\n",
      "{'loss': 2.5987, 'learning_rate': 0.0002111111111111111, 'epoch': 28.89}\n"
     ]
    },
    {
     "data": {
      "application/vnd.jupyter.widget-view+json": {
       "model_id": "60618d7191504361aad6ab67c633f9de",
       "version_major": 2,
       "version_minor": 0
      },
      "text/plain": [
       "  0%|          | 0/5 [00:00<?, ?it/s]"
      ]
     },
     "metadata": {},
     "output_type": "display_data"
    },
    {
     "name": "stdout",
     "output_type": "stream",
     "text": [
      "{'eval_loss': 2.4999704360961914, 'eval_mse_sqrt': 0.005735771730542183, 'eval_mae': 0.0008980855927802622, 'eval_mape': 1.649815320968628, 'eval_mse_sqrt_ge_10000fps': 0.00011252170952502638, 'eval_mae_ge_10000fps': 6.440584547817707e-05, 'eval_mape_ge_10000fps': 2.2257211208343506, 'eval_mse_sqrt_ge_1000_le_10000fps': 0.000321249506669119, 'eval_mae_ge_1000_le_10000fps': 0.0002447456354275346, 'eval_mape_ge_1000_le_10000fps': 0.6479676365852356, 'eval_mse_sqrt_ge_100_le_1000fps': 0.0033072319347411394, 'eval_mae_ge_100_le_1000fps': 0.002716714283451438, 'eval_mape_ge_100_le_1000fps': 0.890722393989563, 'eval_mse_sqrt_ge_10_le_100fps': 0.023808179423213005, 'eval_mae_ge_10_le_100fps': 0.020438767969608307, 'eval_mape_ge_10_le_100fps': 0.984525740146637, 'eval_mse_sqrt_le_10fps': 0.22319696843624115, 'eval_mae_le_10fps': 0.22319696843624115, 'eval_mape_le_10fps': 0.997732400894165, 'eval_mse_sqrt_raw': 1.5811294317245483, 'eval_mae_raw': 1.2094826698303223, 'eval_mape_raw': 0.16288454830646515, 'eval_runtime': 10.1945, 'eval_samples_per_second': 221.198, 'eval_steps_per_second': 0.49, 'epoch': 28.89}\n",
      "{'loss': 2.5259, 'learning_rate': 0.00020555555555555556, 'epoch': 29.44}\n"
     ]
    },
    {
     "data": {
      "application/vnd.jupyter.widget-view+json": {
       "model_id": "86d2aeb595a5471ab33cb66ca4548793",
       "version_major": 2,
       "version_minor": 0
      },
      "text/plain": [
       "  0%|          | 0/5 [00:00<?, ?it/s]"
      ]
     },
     "metadata": {},
     "output_type": "display_data"
    },
    {
     "name": "stdout",
     "output_type": "stream",
     "text": [
      "{'eval_loss': 2.4967100620269775, 'eval_mse_sqrt': 0.005727479699999094, 'eval_mae': 0.0009013104136101902, 'eval_mape': 2.101797342300415, 'eval_mse_sqrt_ge_10000fps': 0.00014384064706973732, 'eval_mae_ge_10000fps': 8.530104969395325e-05, 'eval_mape_ge_10000fps': 2.947026491165161, 'eval_mse_sqrt_ge_1000_le_10000fps': 0.0003094061103183776, 'eval_mae_ge_1000_le_10000fps': 0.00024035517708398402, 'eval_mape_ge_1000_le_10000fps': 0.7109524011611938, 'eval_mse_sqrt_ge_100_le_1000fps': 0.0032607384491711855, 'eval_mae_ge_100_le_1000fps': 0.00266132690012455, 'eval_mape_ge_100_le_1000fps': 0.8655915260314941, 'eval_mse_sqrt_ge_10_le_100fps': 0.02375800721347332, 'eval_mae_ge_10_le_100fps': 0.020378779619932175, 'eval_mape_ge_10_le_100fps': 0.9808037281036377, 'eval_mse_sqrt_le_10fps': 0.2231067419052124, 'eval_mae_le_10fps': 0.2231067419052124, 'eval_mape_le_10fps': 0.9973291158676147, 'eval_mse_sqrt_raw': 1.5800981521606445, 'eval_mae_raw': 1.2586911916732788, 'eval_mape_raw': 0.1637812852859497, 'eval_runtime': 10.0843, 'eval_samples_per_second': 223.614, 'eval_steps_per_second': 0.496, 'epoch': 29.44}\n",
      "{'loss': 2.6596, 'learning_rate': 0.0002, 'epoch': 30.0}\n"
     ]
    },
    {
     "data": {
      "application/vnd.jupyter.widget-view+json": {
       "model_id": "6fc87fafcb1d4aae8525e917fb77c8f8",
       "version_major": 2,
       "version_minor": 0
      },
      "text/plain": [
       "  0%|          | 0/5 [00:00<?, ?it/s]"
      ]
     },
     "metadata": {},
     "output_type": "display_data"
    },
    {
     "name": "stdout",
     "output_type": "stream",
     "text": [
      "{'eval_loss': 2.461531400680542, 'eval_mse_sqrt': 0.0057328916154801846, 'eval_mae': 0.0008980050915852189, 'eval_mape': 1.7766059637069702, 'eval_mse_sqrt_ge_10000fps': 0.00012229975254740566, 'eval_mae_ge_10000fps': 7.077610644046217e-05, 'eval_mape_ge_10000fps': 2.4306747913360596, 'eval_mse_sqrt_ge_1000_le_10000fps': 0.0003145015216432512, 'eval_mae_ge_1000_le_10000fps': 0.00024043810844887048, 'eval_mape_ge_1000_le_10000fps': 0.6598182916641235, 'eval_mse_sqrt_ge_100_le_1000fps': 0.0032909754663705826, 'eval_mae_ge_100_le_1000fps': 0.0026976075023412704, 'eval_mape_ge_100_le_1000fps': 0.8821346759796143, 'eval_mse_sqrt_ge_10_le_100fps': 0.023788828402757645, 'eval_mae_ge_10_le_100fps': 0.02041669562458992, 'eval_mape_ge_10_le_100fps': 0.983202338218689, 'eval_mse_sqrt_le_10fps': 0.22317756712436676, 'eval_mae_le_10fps': 0.22317756712436676, 'eval_mape_le_10fps': 0.9976456761360168, 'eval_mse_sqrt_raw': 1.5689268112182617, 'eval_mae_raw': 1.2094273567199707, 'eval_mape_raw': 0.1613360047340393, 'eval_runtime': 10.2367, 'eval_samples_per_second': 220.286, 'eval_steps_per_second': 0.488, 'epoch': 30.0}\n",
      "{'loss': 2.519, 'learning_rate': 0.00019444444444444446, 'epoch': 30.56}\n"
     ]
    },
    {
     "data": {
      "application/vnd.jupyter.widget-view+json": {
       "model_id": "29d44f18e92c4a65bb9d746def59591d",
       "version_major": 2,
       "version_minor": 0
      },
      "text/plain": [
       "  0%|          | 0/5 [00:00<?, ?it/s]"
      ]
     },
     "metadata": {},
     "output_type": "display_data"
    },
    {
     "name": "stdout",
     "output_type": "stream",
     "text": [
      "{'eval_loss': 2.451833724975586, 'eval_mse_sqrt': 0.005731638055294752, 'eval_mae': 0.000898299680557102, 'eval_mape': 1.8434537649154663, 'eval_mse_sqrt_ge_10000fps': 0.0001271577348234132, 'eval_mae_ge_10000fps': 7.417875895043835e-05, 'eval_mape_ge_10000fps': 2.5382461547851562, 'eval_mse_sqrt_ge_1000_le_10000fps': 0.0003117056330665946, 'eval_mae_ge_1000_le_10000fps': 0.00023883544781710953, 'eval_mape_ge_1000_le_10000fps': 0.667037844657898, 'eval_mse_sqrt_ge_100_le_1000fps': 0.0032831616699695587, 'eval_mae_ge_100_le_1000fps': 0.0026885089464485645, 'eval_mape_ge_100_le_1000fps': 0.8780894875526428, 'eval_mse_sqrt_ge_10_le_100fps': 0.023780032992362976, 'eval_mae_ge_10_le_100fps': 0.020406106486916542, 'eval_mape_ge_10_le_100fps': 0.9825474619865417, 'eval_mse_sqrt_le_10fps': 0.22317302227020264, 'eval_mae_le_10fps': 0.22317302227020264, 'eval_mape_le_10fps': 0.9976254105567932, 'eval_mse_sqrt_raw': 1.5658332109451294, 'eval_mae_raw': 1.213244915008545, 'eval_mape_raw': 0.16101710498332977, 'eval_runtime': 10.3894, 'eval_samples_per_second': 217.048, 'eval_steps_per_second': 0.481, 'epoch': 30.56}\n",
      "{'loss': 2.5575, 'learning_rate': 0.00018888888888888888, 'epoch': 31.11}\n"
     ]
    },
    {
     "data": {
      "application/vnd.jupyter.widget-view+json": {
       "model_id": "c50912f9005146deab120a819bc51261",
       "version_major": 2,
       "version_minor": 0
      },
      "text/plain": [
       "  0%|          | 0/5 [00:00<?, ?it/s]"
      ]
     },
     "metadata": {},
     "output_type": "display_data"
    },
    {
     "name": "stdout",
     "output_type": "stream",
     "text": [
      "{'eval_loss': 2.4385814666748047, 'eval_mse_sqrt': 0.0057317400351166725, 'eval_mae': 0.0008976233075372875, 'eval_mape': 1.8131742477416992, 'eval_mse_sqrt_ge_10000fps': 0.00012694978795479983, 'eval_mae_ge_10000fps': 7.326574996113777e-05, 'eval_mape_ge_10000fps': 2.4886691570281982, 'eval_mse_sqrt_ge_1000_le_10000fps': 0.0003116631123702973, 'eval_mae_ge_1000_le_10000fps': 0.00023877990315668285, 'eval_mape_ge_1000_le_10000fps': 0.6671903729438782, 'eval_mse_sqrt_ge_100_le_1000fps': 0.0032826776150614023, 'eval_mae_ge_100_le_1000fps': 0.002687869593501091, 'eval_mape_ge_100_le_1000fps': 0.8777883648872375, 'eval_mse_sqrt_ge_10_le_100fps': 0.023778578266501427, 'eval_mae_ge_10_le_100fps': 0.020404545590281487, 'eval_mape_ge_10_le_100fps': 0.9824684858322144, 'eval_mse_sqrt_le_10fps': 0.22318702936172485, 'eval_mae_le_10fps': 0.22318702936172485, 'eval_mape_le_10fps': 0.9976879954338074, 'eval_mse_sqrt_raw': 1.5615957975387573, 'eval_mae_raw': 1.2015743255615234, 'eval_mape_raw': 0.15997812151908875, 'eval_runtime': 10.2014, 'eval_samples_per_second': 221.047, 'eval_steps_per_second': 0.49, 'epoch': 31.11}\n",
      "{'loss': 2.4951, 'learning_rate': 0.00018333333333333334, 'epoch': 31.67}\n"
     ]
    },
    {
     "data": {
      "application/vnd.jupyter.widget-view+json": {
       "model_id": "8956309daa9a4149a2d454f46c314abb",
       "version_major": 2,
       "version_minor": 0
      },
      "text/plain": [
       "  0%|          | 0/5 [00:00<?, ?it/s]"
      ]
     },
     "metadata": {},
     "output_type": "display_data"
    },
    {
     "name": "stdout",
     "output_type": "stream",
     "text": [
      "{'eval_loss': 2.42651104927063, 'eval_mse_sqrt': 0.005731742829084396, 'eval_mae': 0.0008970775525085628, 'eval_mape': 1.7946399450302124, 'eval_mse_sqrt_ge_10000fps': 0.00012652487203013152, 'eval_mae_ge_10000fps': 7.275665120687336e-05, 'eval_mape_ge_10000fps': 2.459656238555908, 'eval_mse_sqrt_ge_1000_le_10000fps': 0.0003110044344794005, 'eval_mae_ge_1000_le_10000fps': 0.00023798824986442924, 'eval_mape_ge_1000_le_10000fps': 0.6637642979621887, 'eval_mse_sqrt_ge_100_le_1000fps': 0.003282272955402732, 'eval_mae_ge_100_le_1000fps': 0.0026876162737607956, 'eval_mape_ge_100_le_1000fps': 0.8777670860290527, 'eval_mse_sqrt_ge_10_le_100fps': 0.023777740076184273, 'eval_mae_ge_10_le_100fps': 0.02040361613035202, 'eval_mape_ge_10_le_100fps': 0.9824217557907104, 'eval_mse_sqrt_le_10fps': 0.22319312393665314, 'eval_mae_le_10fps': 0.22319312393665314, 'eval_mape_le_10fps': 0.9977152347564697, 'eval_mse_sqrt_raw': 1.557726263999939, 'eval_mae_raw': 1.1935561895370483, 'eval_mape_raw': 0.15919911861419678, 'eval_runtime': 10.309, 'eval_samples_per_second': 218.742, 'eval_steps_per_second': 0.485, 'epoch': 31.67}\n",
      "{'loss': 2.5894, 'learning_rate': 0.00017777777777777779, 'epoch': 32.22}\n"
     ]
    },
    {
     "data": {
      "application/vnd.jupyter.widget-view+json": {
       "model_id": "de3120860ea1415da80837341ed9a63a",
       "version_major": 2,
       "version_minor": 0
      },
      "text/plain": [
       "  0%|          | 0/5 [00:00<?, ?it/s]"
      ]
     },
     "metadata": {},
     "output_type": "display_data"
    },
    {
     "name": "stdout",
     "output_type": "stream",
     "text": [
      "{'eval_loss': 2.4249584674835205, 'eval_mse_sqrt': 0.005728491116315126, 'eval_mae': 0.0008982788422144949, 'eval_mape': 1.9670085906982422, 'eval_mse_sqrt_ge_10000fps': 0.00013883414794690907, 'eval_mae_ge_10000fps': 8.104702283162624e-05, 'eval_mape_ge_10000fps': 2.7340149879455566, 'eval_mse_sqrt_ge_1000_le_10000fps': 0.00030625981162302196, 'eval_mae_ge_1000_le_10000fps': 0.00023655916447751224, 'eval_mape_ge_1000_le_10000fps': 0.6901952028274536, 'eval_mse_sqrt_ge_100_le_1000fps': 0.0032632022630423307, 'eval_mae_ge_100_le_1000fps': 0.0026645916514098644, 'eval_mape_ge_100_le_1000fps': 0.8672059774398804, 'eval_mse_sqrt_ge_10_le_100fps': 0.02375718019902706, 'eval_mae_ge_10_le_100fps': 0.020378945395350456, 'eval_mape_ge_10_le_100fps': 0.980896532535553, 'eval_mse_sqrt_le_10fps': 0.22316433489322662, 'eval_mae_le_10fps': 0.22316433489322662, 'eval_mape_le_10fps': 0.9975865483283997, 'eval_mse_sqrt_raw': 1.5572279691696167, 'eval_mae_raw': 1.212529182434082, 'eval_mape_raw': 0.15954554080963135, 'eval_runtime': 10.3222, 'eval_samples_per_second': 218.462, 'eval_steps_per_second': 0.484, 'epoch': 32.22}\n",
      "{'loss': 2.4624, 'learning_rate': 0.00017222222222222224, 'epoch': 32.78}\n"
     ]
    },
    {
     "data": {
      "application/vnd.jupyter.widget-view+json": {
       "model_id": "9c7e5268c224498887a8f3ebb110adf5",
       "version_major": 2,
       "version_minor": 0
      },
      "text/plain": [
       "  0%|          | 0/5 [00:00<?, ?it/s]"
      ]
     },
     "metadata": {},
     "output_type": "display_data"
    },
    {
     "name": "stdout",
     "output_type": "stream",
     "text": [
      "{'eval_loss': 2.4151926040649414, 'eval_mse_sqrt': 0.005735335871577263, 'eval_mae': 0.0008949280600063503, 'eval_mape': 1.5702910423278809, 'eval_mse_sqrt_ge_10000fps': 0.00011218751023989171, 'eval_mae_ge_10000fps': 6.285696144914255e-05, 'eval_mape_ge_10000fps': 2.101854085922241, 'eval_mse_sqrt_ge_1000_le_10000fps': 0.00031638090149499476, 'eval_mae_ge_1000_le_10000fps': 0.00023909963783808053, 'eval_mape_ge_1000_le_10000fps': 0.6327555775642395, 'eval_mse_sqrt_ge_100_le_1000fps': 0.003301935503259301, 'eval_mae_ge_100_le_1000fps': 0.0027114669792354107, 'eval_mape_ge_100_le_1000fps': 0.8887917399406433, 'eval_mse_sqrt_ge_10_le_100fps': 0.023797493427991867, 'eval_mae_ge_10_le_100fps': 0.020427672192454338, 'eval_mape_ge_10_le_100fps': 0.9839445352554321, 'eval_mse_sqrt_le_10fps': 0.2232416868209839, 'eval_mae_le_10fps': 0.2232416868209839, 'eval_mape_le_10fps': 0.9979323148727417, 'eval_mse_sqrt_raw': 1.5540889501571655, 'eval_mae_raw': 1.156747579574585, 'eval_mape_raw': 0.15738217532634735, 'eval_runtime': 10.2223, 'eval_samples_per_second': 220.597, 'eval_steps_per_second': 0.489, 'epoch': 32.78}\n",
      "{'loss': 2.4473, 'learning_rate': 0.00016666666666666666, 'epoch': 33.33}\n"
     ]
    },
    {
     "data": {
      "application/vnd.jupyter.widget-view+json": {
       "model_id": "a4b057a292544f12a304be8187f7c270",
       "version_major": 2,
       "version_minor": 0
      },
      "text/plain": [
       "  0%|          | 0/5 [00:00<?, ?it/s]"
      ]
     },
     "metadata": {},
     "output_type": "display_data"
    },
    {
     "name": "stdout",
     "output_type": "stream",
     "text": [
      "{'eval_loss': 2.417954921722412, 'eval_mse_sqrt': 0.005726588424295187, 'eval_mae': 0.0008986234315671027, 'eval_mape': 2.052917957305908, 'eval_mse_sqrt_ge_10000fps': 0.00014564594312105328, 'eval_mae_ge_10000fps': 8.549151971237734e-05, 'eval_mape_ge_10000fps': 2.8703131675720215, 'eval_mse_sqrt_ge_1000_le_10000fps': 0.0003035598201677203, 'eval_mae_ge_1000_le_10000fps': 0.00023558997781947255, 'eval_mape_ge_1000_le_10000fps': 0.7051397562026978, 'eval_mse_sqrt_ge_100_le_1000fps': 0.003251657821238041, 'eval_mae_ge_100_le_1000fps': 0.0026506667491048574, 'eval_mape_ge_100_le_1000fps': 0.8608502745628357, 'eval_mse_sqrt_ge_10_le_100fps': 0.02374393492937088, 'eval_mae_ge_10_le_100fps': 0.020363284274935722, 'eval_mape_ge_10_le_100fps': 0.9799485206604004, 'eval_mse_sqrt_le_10fps': 0.22315360605716705, 'eval_mae_le_10fps': 0.22315360605716705, 'eval_mape_le_10fps': 0.9975385665893555, 'eval_mse_sqrt_raw': 1.554977536201477, 'eval_mae_raw': 1.2180609703063965, 'eval_mape_raw': 0.15924891829490662, 'eval_runtime': 10.1956, 'eval_samples_per_second': 221.174, 'eval_steps_per_second': 0.49, 'epoch': 33.33}\n",
      "{'loss': 2.5283, 'learning_rate': 0.0001611111111111111, 'epoch': 33.89}\n"
     ]
    },
    {
     "data": {
      "application/vnd.jupyter.widget-view+json": {
       "model_id": "dcf14877ccb3440f8a69beadc1b0474e",
       "version_major": 2,
       "version_minor": 0
      },
      "text/plain": [
       "  0%|          | 0/5 [00:00<?, ?it/s]"
      ]
     },
     "metadata": {},
     "output_type": "display_data"
    },
    {
     "name": "stdout",
     "output_type": "stream",
     "text": [
      "{'eval_loss': 2.4002737998962402, 'eval_mse_sqrt': 0.005734459031373262, 'eval_mae': 0.0008943256689235568, 'eval_mape': 1.5670711994171143, 'eval_mse_sqrt_ge_10000fps': 0.00011434403131715953, 'eval_mae_ge_10000fps': 6.324709829641506e-05, 'eval_mape_ge_10000fps': 2.095043897628784, 'eval_mse_sqrt_ge_1000_le_10000fps': 0.0003155805170536041, 'eval_mae_ge_1000_le_10000fps': 0.00023896644415799528, 'eval_mape_ge_1000_le_10000fps': 0.638016402721405, 'eval_mse_sqrt_ge_100_le_1000fps': 0.00329753290861845, 'eval_mae_ge_100_le_1000fps': 0.0027063179295510054, 'eval_mape_ge_100_le_1000fps': 0.8865262269973755, 'eval_mse_sqrt_ge_10_le_100fps': 0.02379157952964306, 'eval_mae_ge_10_le_100fps': 0.020420901477336884, 'eval_mape_ge_10_le_100fps': 0.9835495948791504, 'eval_mse_sqrt_le_10fps': 0.22323308885097504, 'eval_mae_le_10fps': 0.22323308885097504, 'eval_mape_le_10fps': 0.9978938698768616, 'eval_mse_sqrt_raw': 1.5492817163467407, 'eval_mae_raw': 1.1485844850540161, 'eval_mape_raw': 0.15640681982040405, 'eval_runtime': 10.1643, 'eval_samples_per_second': 221.856, 'eval_steps_per_second': 0.492, 'epoch': 33.89}\n",
      "{'loss': 2.5272, 'learning_rate': 0.00015555555555555556, 'epoch': 34.44}\n"
     ]
    },
    {
     "data": {
      "application/vnd.jupyter.widget-view+json": {
       "model_id": "da6199fc8cb743e18aa69ed1af3f4294",
       "version_major": 2,
       "version_minor": 0
      },
      "text/plain": [
       "  0%|          | 0/5 [00:00<?, ?it/s]"
      ]
     },
     "metadata": {},
     "output_type": "display_data"
    },
    {
     "name": "stdout",
     "output_type": "stream",
     "text": [
      "{'eval_loss': 2.3861324787139893, 'eval_mse_sqrt': 0.0057295230217278, 'eval_mae': 0.0008959334809333086, 'eval_mape': 1.827289342880249, 'eval_mse_sqrt_ge_10000fps': 0.0001327970967395231, 'eval_mae_ge_10000fps': 7.55311266402714e-05, 'eval_mape_ge_10000fps': 2.510439872741699, 'eval_mse_sqrt_ge_1000_le_10000fps': 0.0003073957923334092, 'eval_mae_ge_1000_le_10000fps': 0.00023614020028617233, 'eval_mape_ge_1000_le_10000fps': 0.6746485233306885, 'eval_mse_sqrt_ge_100_le_1000fps': 0.003269163891673088, 'eval_mae_ge_100_le_1000fps': 0.0026721640024334192, 'eval_mape_ge_100_le_1000fps': 0.8708696961402893, 'eval_mse_sqrt_ge_10_le_100fps': 0.023761318996548653, 'eval_mae_ge_10_le_100fps': 0.020384568721055984, 'eval_mape_ge_10_le_100fps': 0.9812989234924316, 'eval_mse_sqrt_le_10fps': 0.2231854498386383, 'eval_mae_le_10fps': 0.2231854498386383, 'eval_mape_le_10fps': 0.9976809620857239, 'eval_mse_sqrt_raw': 1.5447111129760742, 'eval_mae_raw': 1.1801453828811646, 'eval_mape_raw': 0.1570749580860138, 'eval_runtime': 10.2609, 'eval_samples_per_second': 219.766, 'eval_steps_per_second': 0.487, 'epoch': 34.44}\n",
      "{'loss': 2.4748, 'learning_rate': 0.00015, 'epoch': 35.0}\n"
     ]
    },
    {
     "data": {
      "application/vnd.jupyter.widget-view+json": {
       "model_id": "ee5cb42ffbbd4ccd855c5ada10bff2fc",
       "version_major": 2,
       "version_minor": 0
      },
      "text/plain": [
       "  0%|          | 0/5 [00:00<?, ?it/s]"
      ]
     },
     "metadata": {},
     "output_type": "display_data"
    },
    {
     "name": "stdout",
     "output_type": "stream",
     "text": [
      "{'eval_loss': 2.3794333934783936, 'eval_mse_sqrt': 0.005730028729885817, 'eval_mae': 0.0008954351651482284, 'eval_mape': 1.7911866903305054, 'eval_mse_sqrt_ge_10000fps': 0.00013052891881670803, 'eval_mae_ge_10000fps': 7.39513270673342e-05, 'eval_mape_ge_10000fps': 2.453434467315674, 'eval_mse_sqrt_ge_1000_le_10000fps': 0.0003078015288338065, 'eval_mae_ge_1000_le_10000fps': 0.0002358906640438363, 'eval_mape_ge_1000_le_10000fps': 0.668266773223877, 'eval_mse_sqrt_ge_100_le_1000fps': 0.0032719778828322887, 'eval_mae_ge_100_le_1000fps': 0.0026756494771689177, 'eval_mape_ge_100_le_1000fps': 0.8725073933601379, 'eval_mse_sqrt_ge_10_le_100fps': 0.023763874545693398, 'eval_mae_ge_10_le_100fps': 0.02038775011897087, 'eval_mape_ge_10_le_100fps': 0.9815066456794739, 'eval_mse_sqrt_le_10fps': 0.22319366037845612, 'eval_mae_le_10fps': 0.22319366037845612, 'eval_mape_le_10fps': 0.9977176189422607, 'eval_mse_sqrt_raw': 1.542541265487671, 'eval_mae_raw': 1.173769235610962, 'eval_mape_raw': 0.1566731333732605, 'eval_runtime': 10.3732, 'eval_samples_per_second': 217.387, 'eval_steps_per_second': 0.482, 'epoch': 35.0}\n",
      "{'loss': 2.4587, 'learning_rate': 0.00014444444444444444, 'epoch': 35.56}\n"
     ]
    },
    {
     "data": {
      "application/vnd.jupyter.widget-view+json": {
       "model_id": "153ea905565d47e8bf4a482a3ba2dd3d",
       "version_major": 2,
       "version_minor": 0
      },
      "text/plain": [
       "  0%|          | 0/5 [00:00<?, ?it/s]"
      ]
     },
     "metadata": {},
     "output_type": "display_data"
    },
    {
     "name": "stdout",
     "output_type": "stream",
     "text": [
      "{'eval_loss': 2.3762269020080566, 'eval_mse_sqrt': 0.00573289068415761, 'eval_mae': 0.0008941497071646154, 'eval_mape': 1.63657546043396, 'eval_mse_sqrt_ge_10000fps': 0.00011949437612202018, 'eval_mae_ge_10000fps': 6.674838368780911e-05, 'eval_mape_ge_10000fps': 2.208064556121826, 'eval_mse_sqrt_ge_1000_le_10000fps': 0.0003117121523246169, 'eval_mae_ge_1000_le_10000fps': 0.00023651556693948805, 'eval_mape_ge_1000_le_10000fps': 0.6430022716522217, 'eval_mse_sqrt_ge_100_le_1000fps': 0.0032880043145269156, 'eval_mae_ge_100_le_1000fps': 0.0026950757019221783, 'eval_mape_ge_100_le_1000fps': 0.8814576864242554, 'eval_mse_sqrt_ge_10_le_100fps': 0.02378050610423088, 'eval_mae_ge_10_le_100fps': 0.020407887175679207, 'eval_mape_ge_10_le_100fps': 0.9827680587768555, 'eval_mse_sqrt_le_10fps': 0.2232278436422348, 'eval_mae_le_10fps': 0.2232278436422348, 'eval_mape_le_10fps': 0.9978704452514648, 'eval_mse_sqrt_raw': 1.541501522064209, 'eval_mae_raw': 1.15328848361969, 'eval_mape_raw': 0.15595762431621552, 'eval_runtime': 10.3694, 'eval_samples_per_second': 217.467, 'eval_steps_per_second': 0.482, 'epoch': 35.56}\n",
      "{'loss': 2.509, 'learning_rate': 0.0001388888888888889, 'epoch': 36.11}\n"
     ]
    },
    {
     "data": {
      "application/vnd.jupyter.widget-view+json": {
       "model_id": "98f0b492b5174c12a4a3e082495243e0",
       "version_major": 2,
       "version_minor": 0
      },
      "text/plain": [
       "  0%|          | 0/5 [00:00<?, ?it/s]"
      ]
     },
     "metadata": {},
     "output_type": "display_data"
    },
    {
     "name": "stdout",
     "output_type": "stream",
     "text": [
      "{'eval_loss': 2.3783249855041504, 'eval_mse_sqrt': 0.005727108102291822, 'eval_mae': 0.0008965306333266199, 'eval_mape': 1.9535784721374512, 'eval_mse_sqrt_ge_10000fps': 0.00014149074559099972, 'eval_mae_ge_10000fps': 8.169208012986928e-05, 'eval_mape_ge_10000fps': 2.7126190662384033, 'eval_mse_sqrt_ge_1000_le_10000fps': 0.0003032919194083661, 'eval_mae_ge_1000_le_10000fps': 0.00023424695245921612, 'eval_mape_ge_1000_le_10000fps': 0.6911929845809937, 'eval_mse_sqrt_ge_100_le_1000fps': 0.0032544017303735018, 'eval_mae_ge_100_le_1000fps': 0.0026544888969510794, 'eval_mape_ge_100_le_1000fps': 0.8628366589546204, 'eval_mse_sqrt_ge_10_le_100fps': 0.023744508624076843, 'eval_mae_ge_10_le_100fps': 0.02036466635763645, 'eval_mape_ge_10_le_100fps': 0.9800910949707031, 'eval_mse_sqrt_le_10fps': 0.2231730967760086, 'eval_mae_le_10fps': 0.2231730967760086, 'eval_mape_le_10fps': 0.9976257085800171, 'eval_mse_sqrt_raw': 1.5421818494796753, 'eval_mae_raw': 1.1938742399215698, 'eval_mape_raw': 0.15721045434474945, 'eval_runtime': 10.0811, 'eval_samples_per_second': 223.687, 'eval_steps_per_second': 0.496, 'epoch': 36.11}\n",
      "{'loss': 2.4508, 'learning_rate': 0.00013333333333333334, 'epoch': 36.67}\n"
     ]
    },
    {
     "data": {
      "application/vnd.jupyter.widget-view+json": {
       "model_id": "6384b438e8264f278329d7535772ad6d",
       "version_major": 2,
       "version_minor": 0
      },
      "text/plain": [
       "  0%|          | 0/5 [00:00<?, ?it/s]"
      ]
     },
     "metadata": {},
     "output_type": "display_data"
    },
    {
     "name": "stdout",
     "output_type": "stream",
     "text": [
      "{'eval_loss': 2.362274408340454, 'eval_mse_sqrt': 0.005731124430894852, 'eval_mae': 0.0008943333523347974, 'eval_mape': 1.7216216325759888, 'eval_mse_sqrt_ge_10000fps': 0.00012573794811032712, 'eval_mae_ge_10000fps': 7.093859312590212e-05, 'eval_mape_ge_10000fps': 2.344942092895508, 'eval_mse_sqrt_ge_1000_le_10000fps': 0.00030808206065557897, 'eval_mae_ge_1000_le_10000fps': 0.00023464146943297237, 'eval_mape_ge_1000_le_10000fps': 0.6524482369422913, 'eval_mse_sqrt_ge_100_le_1000fps': 0.0032774265855550766, 'eval_mae_ge_100_le_1000fps': 0.0026825035456568003, 'eval_mape_ge_100_le_1000fps': 0.8757585287094116, 'eval_mse_sqrt_ge_10_le_100fps': 0.02376861870288849, 'eval_mae_ge_10_le_100fps': 0.02039385586977005, 'eval_mape_ge_10_le_100fps': 0.9819170236587524, 'eval_mse_sqrt_le_10fps': 0.2232176810503006, 'eval_mae_le_10fps': 0.2232176810503006, 'eval_mape_le_10fps': 0.997825026512146, 'eval_mse_sqrt_raw': 1.5369693040847778, 'eval_mae_raw': 1.16135573387146, 'eval_mape_raw': 0.15582570433616638, 'eval_runtime': 10.3964, 'eval_samples_per_second': 216.902, 'eval_steps_per_second': 0.481, 'epoch': 36.67}\n",
      "{'loss': 2.3791, 'learning_rate': 0.00012777777777777776, 'epoch': 37.22}\n"
     ]
    },
    {
     "data": {
      "application/vnd.jupyter.widget-view+json": {
       "model_id": "0a5f4fc3390b4996b33a4df21222523b",
       "version_major": 2,
       "version_minor": 0
      },
      "text/plain": [
       "  0%|          | 0/5 [00:00<?, ?it/s]"
      ]
     },
     "metadata": {},
     "output_type": "display_data"
    },
    {
     "name": "stdout",
     "output_type": "stream",
     "text": [
      "{'eval_loss': 2.357408285140991, 'eval_mse_sqrt': 0.005729717668145895, 'eval_mae': 0.0008946379530243576, 'eval_mape': 1.79048490524292, 'eval_mse_sqrt_ge_10000fps': 0.00013086349645163864, 'eval_mae_ge_10000fps': 7.429794641211629e-05, 'eval_mape_ge_10000fps': 2.4548115730285645, 'eval_mse_sqrt_ge_1000_le_10000fps': 0.0003057647554669529, 'eval_mae_ge_1000_le_10000fps': 0.0002336956822546199, 'eval_mape_ge_1000_le_10000fps': 0.6625118851661682, 'eval_mse_sqrt_ge_100_le_1000fps': 0.0032691406086087227, 'eval_mae_ge_100_le_1000fps': 0.0026725814677774906, 'eval_mape_ge_100_le_1000fps': 0.8712430000305176, 'eval_mse_sqrt_ge_10_le_100fps': 0.02375940792262554, 'eval_mae_ge_10_le_100fps': 0.02038290724158287, 'eval_mape_ge_10_le_100fps': 0.9812475442886353, 'eval_mse_sqrt_le_10fps': 0.22320713102817535, 'eval_mae_le_10fps': 0.22320713102817535, 'eval_mape_le_10fps': 0.9977778792381287, 'eval_mse_sqrt_raw': 1.535385251045227, 'eval_mae_raw': 1.1685724258422852, 'eval_mape_raw': 0.15586739778518677, 'eval_runtime': 10.221, 'eval_samples_per_second': 220.624, 'eval_steps_per_second': 0.489, 'epoch': 37.22}\n",
      "{'loss': 2.4633, 'learning_rate': 0.00012222222222222221, 'epoch': 37.78}\n"
     ]
    },
    {
     "data": {
      "application/vnd.jupyter.widget-view+json": {
       "model_id": "7d75f117fc0c42bd874a56c40d6fc858",
       "version_major": 2,
       "version_minor": 0
      },
      "text/plain": [
       "  0%|          | 0/5 [00:00<?, ?it/s]"
      ]
     },
     "metadata": {},
     "output_type": "display_data"
    },
    {
     "name": "stdout",
     "output_type": "stream",
     "text": [
      "{'eval_loss': 2.3514957427978516, 'eval_mse_sqrt': 0.0057304357178509235, 'eval_mae': 0.0008941615233197808, 'eval_mape': 1.7506474256515503, 'eval_mse_sqrt_ge_10000fps': 0.00012797846284229308, 'eval_mae_ge_10000fps': 7.247502799145877e-05, 'eval_mape_ge_10000fps': 2.3923451900482178, 'eval_mse_sqrt_ge_1000_le_10000fps': 0.00030630838591605425, 'eval_mae_ge_1000_le_10000fps': 0.00023337150923907757, 'eval_mape_ge_1000_le_10000fps': 0.6541221737861633, 'eval_mse_sqrt_ge_100_le_1000fps': 0.003272920148447156, 'eval_mae_ge_100_le_1000fps': 0.0026772746350616217, 'eval_mape_ge_100_le_1000fps': 0.8734415769577026, 'eval_mse_sqrt_ge_10_le_100fps': 0.023763170465826988, 'eval_mae_ge_10_le_100fps': 0.02038753032684326, 'eval_mape_ge_10_le_100fps': 0.9815426468849182, 'eval_mse_sqrt_le_10fps': 0.2232189178466797, 'eval_mae_le_10fps': 0.2232189178466797, 'eval_mape_le_10fps': 0.9978305697441101, 'eval_mse_sqrt_raw': 1.5334587097167969, 'eval_mae_raw': 1.1627318859100342, 'eval_mape_raw': 0.15556150674819946, 'eval_runtime': 10.2172, 'eval_samples_per_second': 220.707, 'eval_steps_per_second': 0.489, 'epoch': 37.78}\n",
      "{'loss': 2.4472, 'learning_rate': 0.00011666666666666667, 'epoch': 38.33}\n"
     ]
    },
    {
     "data": {
      "application/vnd.jupyter.widget-view+json": {
       "model_id": "fe136704aa6448189641071fdb2d0259",
       "version_major": 2,
       "version_minor": 0
      },
      "text/plain": [
       "  0%|          | 0/5 [00:00<?, ?it/s]"
      ]
     },
     "metadata": {},
     "output_type": "display_data"
    },
    {
     "name": "stdout",
     "output_type": "stream",
     "text": [
      "{'eval_loss': 2.3467519283294678, 'eval_mse_sqrt': 0.005731224548071623, 'eval_mae': 0.0008936363738030195, 'eval_mape': 1.700429916381836, 'eval_mse_sqrt_ge_10000fps': 0.00012475141556933522, 'eval_mae_ge_10000fps': 7.020729390205815e-05, 'eval_mape_ge_10000fps': 2.312539577484131, 'eval_mse_sqrt_ge_1000_le_10000fps': 0.0003073926782235503, 'eval_mae_ge_1000_le_10000fps': 0.00023350733681581914, 'eval_mape_ge_1000_le_10000fps': 0.6464136838912964, 'eval_mse_sqrt_ge_100_le_1000fps': 0.0032773595303297043, 'eval_mae_ge_100_le_1000fps': 0.002682712161913514, 'eval_mape_ge_100_le_1000fps': 0.8759765625, 'eval_mse_sqrt_ge_10_le_100fps': 0.023767611011862755, 'eval_mae_ge_10_le_100fps': 0.020392999053001404, 'eval_mape_ge_10_le_100fps': 0.9818906188011169, 'eval_mse_sqrt_le_10fps': 0.2232290357351303, 'eval_mae_le_10fps': 0.2232290357351303, 'eval_mape_le_10fps': 0.9978757500648499, 'eval_mse_sqrt_raw': 1.5319112539291382, 'eval_mae_raw': 1.154807448387146, 'eval_mape_raw': 0.15515843033790588, 'eval_runtime': 10.2835, 'eval_samples_per_second': 219.284, 'eval_steps_per_second': 0.486, 'epoch': 38.33}\n",
      "{'loss': 2.462, 'learning_rate': 0.0001111111111111111, 'epoch': 38.89}\n"
     ]
    },
    {
     "data": {
      "application/vnd.jupyter.widget-view+json": {
       "model_id": "86a8a655c19e4f9089157cb37e87f2da",
       "version_major": 2,
       "version_minor": 0
      },
      "text/plain": [
       "  0%|          | 0/5 [00:00<?, ?it/s]"
      ]
     },
     "metadata": {},
     "output_type": "display_data"
    },
    {
     "name": "stdout",
     "output_type": "stream",
     "text": [
      "{'eval_loss': 2.342081069946289, 'eval_mse_sqrt': 0.0057301935739815235, 'eval_mae': 0.0008936937083490193, 'eval_mape': 1.7381786108016968, 'eval_mse_sqrt_ge_10000fps': 0.00012827213504351676, 'eval_mae_ge_10000fps': 7.217002712422982e-05, 'eval_mape_ge_10000fps': 2.3720273971557617, 'eval_mse_sqrt_ge_1000_le_10000fps': 0.00030615340801887214, 'eval_mae_ge_1000_le_10000fps': 0.00023316993610933423, 'eval_mape_ge_1000_le_10000fps': 0.6541980504989624, 'eval_mse_sqrt_ge_100_le_1000fps': 0.0032716139685362577, 'eval_mae_ge_100_le_1000fps': 0.0026758320163935423, 'eval_mape_ge_100_le_1000fps': 0.8728643655776978, 'eval_mse_sqrt_ge_10_le_100fps': 0.023760948330163956, 'eval_mae_ge_10_le_100fps': 0.020385129377245903, 'eval_mape_ge_10_le_100fps': 0.9814128279685974, 'eval_mse_sqrt_le_10fps': 0.2232193797826767, 'eval_mae_le_10fps': 0.2232193797826767, 'eval_mape_le_10fps': 0.9978325963020325, 'eval_mse_sqrt_raw': 1.530385971069336, 'eval_mae_raw': 1.1572571992874146, 'eval_mape_raw': 0.15500378608703613, 'eval_runtime': 10.1644, 'eval_samples_per_second': 221.852, 'eval_steps_per_second': 0.492, 'epoch': 38.89}\n",
      "{'loss': 2.4217, 'learning_rate': 0.00010555555555555555, 'epoch': 39.44}\n"
     ]
    },
    {
     "data": {
      "application/vnd.jupyter.widget-view+json": {
       "model_id": "d2a32c4d8d67448cba7e18c4865c77d8",
       "version_major": 2,
       "version_minor": 0
      },
      "text/plain": [
       "  0%|          | 0/5 [00:00<?, ?it/s]"
      ]
     },
     "metadata": {},
     "output_type": "display_data"
    },
    {
     "name": "stdout",
     "output_type": "stream",
     "text": [
      "{'eval_loss': 2.3376412391662598, 'eval_mse_sqrt': 0.005729991942644119, 'eval_mae': 0.0008935653604567051, 'eval_mape': 1.7442938089370728, 'eval_mse_sqrt_ge_10000fps': 0.00012878523557446897, 'eval_mae_ge_10000fps': 7.25299323676154e-05, 'eval_mape_ge_10000fps': 2.3823039531707764, 'eval_mse_sqrt_ge_1000_le_10000fps': 0.00030559281003661454, 'eval_mae_ge_1000_le_10000fps': 0.00023266166681423783, 'eval_mape_ge_1000_le_10000fps': 0.6538836359977722, 'eval_mse_sqrt_ge_100_le_1000fps': 0.0032703105825930834, 'eval_mae_ge_100_le_1000fps': 0.00267437263391912, 'eval_mape_ge_100_le_1000fps': 0.8722453713417053, 'eval_mse_sqrt_ge_10_le_100fps': 0.023759284988045692, 'eval_mae_ge_10_le_100fps': 0.02038324438035488, 'eval_mape_ge_10_le_100fps': 0.9813036322593689, 'eval_mse_sqrt_le_10fps': 0.22322003543376923, 'eval_mae_le_10fps': 0.22322003543376923, 'eval_mape_le_10fps': 0.9978355169296265, 'eval_mse_sqrt_raw': 1.5289345979690552, 'eval_mae_raw': 1.1571543216705322, 'eval_mape_raw': 0.15487763285636902, 'eval_runtime': 10.2442, 'eval_samples_per_second': 220.124, 'eval_steps_per_second': 0.488, 'epoch': 39.44}\n",
      "{'loss': 2.4172, 'learning_rate': 0.0001, 'epoch': 40.0}\n"
     ]
    },
    {
     "data": {
      "application/vnd.jupyter.widget-view+json": {
       "model_id": "d4f4961260c945ec885b25a5bf5d5b68",
       "version_major": 2,
       "version_minor": 0
      },
      "text/plain": [
       "  0%|          | 0/5 [00:00<?, ?it/s]"
      ]
     },
     "metadata": {},
     "output_type": "display_data"
    },
    {
     "name": "stdout",
     "output_type": "stream",
     "text": [
      "{'eval_loss': 2.334883451461792, 'eval_mse_sqrt': 0.005729130934923887, 'eval_mae': 0.0008937588427215815, 'eval_mape': 1.790757417678833, 'eval_mse_sqrt_ge_10000fps': 0.00013191976177040488, 'eval_mae_ge_10000fps': 7.476835162378848e-05, 'eval_mape_ge_10000fps': 2.4569571018218994, 'eval_mse_sqrt_ge_1000_le_10000fps': 0.00030395944486372173, 'eval_mae_ge_1000_le_10000fps': 0.00023176831018645316, 'eval_mape_ge_1000_le_10000fps': 0.6592181921005249, 'eval_mse_sqrt_ge_100_le_1000fps': 0.0032650514040142298, 'eval_mae_ge_100_le_1000fps': 0.0026680973824113607, 'eval_mape_ge_100_le_1000fps': 0.8693966269493103, 'eval_mse_sqrt_ge_10_le_100fps': 0.02375347539782524, 'eval_mae_ge_10_le_100fps': 0.02037636563181877, 'eval_mape_ge_10_le_100fps': 0.9808834195137024, 'eval_mse_sqrt_le_10fps': 0.22321517765522003, 'eval_mae_le_10fps': 0.22321517765522003, 'eval_mape_le_10fps': 0.9978138208389282, 'eval_mse_sqrt_raw': 1.5280325412750244, 'eval_mae_raw': 1.1628097295761108, 'eval_mape_raw': 0.15498390793800354, 'eval_runtime': 10.3313, 'eval_samples_per_second': 218.269, 'eval_steps_per_second': 0.484, 'epoch': 40.0}\n",
      "{'loss': 2.3403, 'learning_rate': 9.444444444444444e-05, 'epoch': 40.56}\n"
     ]
    },
    {
     "data": {
      "application/vnd.jupyter.widget-view+json": {
       "model_id": "51d44adddaf045c69db5eedd1c22f8cd",
       "version_major": 2,
       "version_minor": 0
      },
      "text/plain": [
       "  0%|          | 0/5 [00:00<?, ?it/s]"
      ]
     },
     "metadata": {},
     "output_type": "display_data"
    },
    {
     "name": "stdout",
     "output_type": "stream",
     "text": [
      "{'eval_loss': 2.3309078216552734, 'eval_mse_sqrt': 0.005731390789151192, 'eval_mae': 0.0008928159368224442, 'eval_mape': 1.6667455434799194, 'eval_mse_sqrt_ge_10000fps': 0.00012319820234552026, 'eval_mae_ge_10000fps': 6.89267908455804e-05, 'eval_mape_ge_10000fps': 2.2597784996032715, 'eval_mse_sqrt_ge_1000_le_10000fps': 0.0003072484687436372, 'eval_mae_ge_1000_le_10000fps': 0.0002326786343473941, 'eval_mape_ge_1000_le_10000fps': 0.639850914478302, 'eval_mse_sqrt_ge_100_le_1000fps': 0.003278062678873539, 'eval_mae_ge_100_le_1000fps': 0.0026838714256882668, 'eval_mape_ge_100_le_1000fps': 0.8766677379608154, 'eval_mse_sqrt_ge_10_le_100fps': 0.02376711554825306, 'eval_mae_ge_10_le_100fps': 0.020392870530486107, 'eval_mape_ge_10_le_100fps': 0.9819141030311584, 'eval_mse_sqrt_le_10fps': 0.2232387363910675, 'eval_mae_le_10fps': 0.2232387363910675, 'eval_mape_le_10fps': 0.9979191422462463, 'eval_mse_sqrt_raw': 1.5267311334609985, 'eval_mae_raw': 1.1464420557022095, 'eval_mape_raw': 0.15441331267356873, 'eval_runtime': 10.3033, 'eval_samples_per_second': 218.862, 'eval_steps_per_second': 0.485, 'epoch': 40.56}\n",
      "{'loss': 2.4577, 'learning_rate': 8.888888888888889e-05, 'epoch': 41.11}\n"
     ]
    },
    {
     "data": {
      "application/vnd.jupyter.widget-view+json": {
       "model_id": "eca8f88182b1469c83c3669701ef6f21",
       "version_major": 2,
       "version_minor": 0
      },
      "text/plain": [
       "  0%|          | 0/5 [00:00<?, ?it/s]"
      ]
     },
     "metadata": {},
     "output_type": "display_data"
    },
    {
     "name": "stdout",
     "output_type": "stream",
     "text": [
      "{'eval_loss': 2.3344647884368896, 'eval_mse_sqrt': 0.005727239418774843, 'eval_mae': 0.0008944523870013654, 'eval_mape': 1.8928743600845337, 'eval_mse_sqrt_ge_10000fps': 0.0001389473327435553, 'eval_mae_ge_10000fps': 7.965102122398093e-05, 'eval_mape_ge_10000fps': 2.6194119453430176, 'eval_mse_sqrt_ge_1000_le_10000fps': 0.00030104612233117223, 'eval_mae_ge_1000_le_10000fps': 0.00023092601622920483, 'eval_mape_ge_1000_le_10000fps': 0.6750538349151611, 'eval_mse_sqrt_ge_100_le_1000fps': 0.003253697184845805, 'eval_mae_ge_100_le_1000fps': 0.0026544788852334023, 'eval_mape_ge_100_le_1000fps': 0.8632105588912964, 'eval_mse_sqrt_ge_10_le_100fps': 0.02374083176255226, 'eval_mae_ge_10_le_100fps': 0.020361371338367462, 'eval_mape_ge_10_le_100fps': 0.9799677729606628, 'eval_mse_sqrt_le_10fps': 0.22320212423801422, 'eval_mae_le_10fps': 0.22320212423801422, 'eval_mape_le_10fps': 0.9977554678916931, 'eval_mse_sqrt_raw': 1.527895450592041, 'eval_mae_raw': 1.1757051944732666, 'eval_mape_raw': 0.15535061061382294, 'eval_runtime': 10.3329, 'eval_samples_per_second': 218.235, 'eval_steps_per_second': 0.484, 'epoch': 41.11}\n",
      "{'loss': 2.3897, 'learning_rate': 8.333333333333333e-05, 'epoch': 41.67}\n"
     ]
    },
    {
     "data": {
      "application/vnd.jupyter.widget-view+json": {
       "model_id": "f176a129e69646eaaf41f51b5c66979f",
       "version_major": 2,
       "version_minor": 0
      },
      "text/plain": [
       "  0%|          | 0/5 [00:00<?, ?it/s]"
      ]
     },
     "metadata": {},
     "output_type": "display_data"
    },
    {
     "name": "stdout",
     "output_type": "stream",
     "text": [
      "{'eval_loss': 2.3245668411254883, 'eval_mse_sqrt': 0.00572954723611474, 'eval_mae': 0.0008930963231250644, 'eval_mape': 1.7506775856018066, 'eval_mse_sqrt_ge_10000fps': 0.00012984531349502504, 'eval_mae_ge_10000fps': 7.30861647753045e-05, 'eval_mape_ge_10000fps': 2.3934664726257324, 'eval_mse_sqrt_ge_1000_le_10000fps': 0.0003044107579626143, 'eval_mae_ge_1000_le_10000fps': 0.00023149600019678473, 'eval_mape_ge_1000_le_10000fps': 0.6528846621513367, 'eval_mse_sqrt_ge_100_le_1000fps': 0.0032672665547579527, 'eval_mae_ge_100_le_1000fps': 0.0026709800586104393, 'eval_mape_ge_100_le_1000fps': 0.8708306550979614, 'eval_mse_sqrt_ge_10_le_100fps': 0.023755105212330818, 'eval_mae_ge_10_le_100fps': 0.020378608256578445, 'eval_mape_ge_10_le_100fps': 0.9810414910316467, 'eval_mse_sqrt_le_10fps': 0.22322432696819305, 'eval_mae_le_10fps': 0.22322432696819305, 'eval_mape_le_10fps': 0.9978547096252441, 'eval_mse_sqrt_raw': 1.5246531963348389, 'eval_mae_raw': 1.1547751426696777, 'eval_mape_raw': 0.1544041931629181, 'eval_runtime': 10.3876, 'eval_samples_per_second': 217.085, 'eval_steps_per_second': 0.481, 'epoch': 41.67}\n",
      "{'loss': 2.5303, 'learning_rate': 7.777777777777778e-05, 'epoch': 42.22}\n"
     ]
    },
    {
     "data": {
      "application/vnd.jupyter.widget-view+json": {
       "model_id": "41339fa9a05849df9ef5dfc167c9505b",
       "version_major": 2,
       "version_minor": 0
      },
      "text/plain": [
       "  0%|          | 0/5 [00:00<?, ?it/s]"
      ]
     },
     "metadata": {},
     "output_type": "display_data"
    },
    {
     "name": "stdout",
     "output_type": "stream",
     "text": [
      "{'eval_loss': 2.323624610900879, 'eval_mse_sqrt': 0.005728579126298428, 'eval_mae': 0.000893397256731987, 'eval_mape': 1.8019553422927856, 'eval_mse_sqrt_ge_10000fps': 0.00013342722377274185, 'eval_mae_ge_10000fps': 7.554540934506804e-05, 'eval_mape_ge_10000fps': 2.4753010272979736, 'eval_mse_sqrt_ge_1000_le_10000fps': 0.0003028535866178572, 'eval_mae_ge_1000_le_10000fps': 0.00023089397291187197, 'eval_mape_ge_1000_le_10000fps': 0.6601870059967041, 'eval_mse_sqrt_ge_100_le_1000fps': 0.0032614741940051317, 'eval_mae_ge_100_le_1000fps': 0.0026640703435987234, 'eval_mape_ge_100_le_1000fps': 0.867699146270752, 'eval_mse_sqrt_ge_10_le_100fps': 0.02374882996082306, 'eval_mae_ge_10_le_100fps': 0.02037111110985279, 'eval_mape_ge_10_le_100fps': 0.9805797934532166, 'eval_mse_sqrt_le_10fps': 0.22321699559688568, 'eval_mae_le_10fps': 0.22321699559688568, 'eval_mape_le_10fps': 0.9978219270706177, 'eval_mse_sqrt_raw': 1.5243439674377441, 'eval_mae_raw': 1.1611546277999878, 'eval_mape_raw': 0.15456734597682953, 'eval_runtime': 10.1568, 'eval_samples_per_second': 222.019, 'eval_steps_per_second': 0.492, 'epoch': 42.22}\n",
      "{'loss': 2.3594, 'learning_rate': 7.222222222222222e-05, 'epoch': 42.78}\n"
     ]
    },
    {
     "data": {
      "application/vnd.jupyter.widget-view+json": {
       "model_id": "85cd16fb315b4cde8dadb95ba48315ce",
       "version_major": 2,
       "version_minor": 0
      },
      "text/plain": [
       "  0%|          | 0/5 [00:00<?, ?it/s]"
      ]
     },
     "metadata": {},
     "output_type": "display_data"
    },
    {
     "name": "stdout",
     "output_type": "stream",
     "text": [
      "{'eval_loss': 2.3194000720977783, 'eval_mse_sqrt': 0.005730499513447285, 'eval_mae': 0.0008925317670218647, 'eval_mape': 1.6930803060531616, 'eval_mse_sqrt_ge_10000fps': 0.000125989769003354, 'eval_mae_ge_10000fps': 7.043490040814504e-05, 'eval_mape_ge_10000fps': 2.302109479904175, 'eval_mse_sqrt_ge_1000_le_10000fps': 0.0003057022695429623, 'eval_mae_ge_1000_le_10000fps': 0.00023168089683167636, 'eval_mape_ge_1000_le_10000fps': 0.643467903137207, 'eval_mse_sqrt_ge_100_le_1000fps': 0.003272630274295807, 'eval_mae_ge_100_le_1000fps': 0.002677620155736804, 'eval_mape_ge_100_le_1000fps': 0.8739499449729919, 'eval_mse_sqrt_ge_10_le_100fps': 0.023760607466101646, 'eval_mae_ge_10_le_100fps': 0.020385319367051125, 'eval_mape_ge_10_le_100fps': 0.9814636707305908, 'eval_mse_sqrt_le_10fps': 0.22323600947856903, 'eval_mae_le_10fps': 0.22323600947856903, 'eval_mape_le_10fps': 0.9979069232940674, 'eval_mse_sqrt_raw': 1.522957682609558, 'eval_mae_raw': 1.1463308334350586, 'eval_mape_raw': 0.15401093661785126, 'eval_runtime': 10.1193, 'eval_samples_per_second': 222.842, 'eval_steps_per_second': 0.494, 'epoch': 42.78}\n",
      "{'loss': 2.4285, 'learning_rate': 6.666666666666667e-05, 'epoch': 43.33}\n"
     ]
    },
    {
     "data": {
      "application/vnd.jupyter.widget-view+json": {
       "model_id": "8b2679f4477947558f51071648dbcfee",
       "version_major": 2,
       "version_minor": 0
      },
      "text/plain": [
       "  0%|          | 0/5 [00:00<?, ?it/s]"
      ]
     },
     "metadata": {},
     "output_type": "display_data"
    },
    {
     "name": "stdout",
     "output_type": "stream",
     "text": [
      "{'eval_loss': 2.317223310470581, 'eval_mse_sqrt': 0.005729342345148325, 'eval_mae': 0.0008927399176172912, 'eval_mape': 1.743078351020813, 'eval_mse_sqrt_ge_10000fps': 0.0001300966541748494, 'eval_mae_ge_10000fps': 7.29093881091103e-05, 'eval_mape_ge_10000fps': 2.381283760070801, 'eval_mse_sqrt_ge_1000_le_10000fps': 0.00030427114688791335, 'eval_mae_ge_1000_le_10000fps': 0.0002312602155143395, 'eval_mape_ge_1000_le_10000fps': 0.6524622440338135, 'eval_mse_sqrt_ge_100_le_1000fps': 0.0032660949509590864, 'eval_mae_ge_100_le_1000fps': 0.0026697919238358736, 'eval_mape_ge_100_le_1000fps': 0.8704002499580383, 'eval_mse_sqrt_ge_10_le_100fps': 0.02375331148505211, 'eval_mae_ge_10_le_100fps': 0.020376630127429962, 'eval_mape_ge_10_le_100fps': 0.9809311628341675, 'eval_mse_sqrt_le_10fps': 0.2232246696949005, 'eval_mae_le_10fps': 0.2232246696949005, 'eval_mape_le_10fps': 0.9978562593460083, 'eval_mse_sqrt_raw': 1.5222429037094116, 'eval_mae_raw': 1.151296615600586, 'eval_mape_raw': 0.15402767062187195, 'eval_runtime': 10.2463, 'eval_samples_per_second': 220.079, 'eval_steps_per_second': 0.488, 'epoch': 43.33}\n",
      "{'loss': 2.408, 'learning_rate': 6.111111111111111e-05, 'epoch': 43.89}\n"
     ]
    },
    {
     "data": {
      "application/vnd.jupyter.widget-view+json": {
       "model_id": "be1d97e63ecf44fd891aebe3030636a4",
       "version_major": 2,
       "version_minor": 0
      },
      "text/plain": [
       "  0%|          | 0/5 [00:00<?, ?it/s]"
      ]
     },
     "metadata": {},
     "output_type": "display_data"
    },
    {
     "name": "stdout",
     "output_type": "stream",
     "text": [
      "{'eval_loss': 2.315152406692505, 'eval_mse_sqrt': 0.005729065742343664, 'eval_mae': 0.0008926614536903799, 'eval_mape': 1.7463748455047607, 'eval_mse_sqrt_ge_10000fps': 0.0001309066137764603, 'eval_mae_ge_10000fps': 7.31686523067765e-05, 'eval_mape_ge_10000fps': 2.38596773147583, 'eval_mse_sqrt_ge_1000_le_10000fps': 0.0003042115131393075, 'eval_mae_ge_1000_le_10000fps': 0.00023137587413657457, 'eval_mape_ge_1000_le_10000fps': 0.6547263860702515, 'eval_mse_sqrt_ge_100_le_1000fps': 0.003264664439484477, 'eval_mae_ge_100_le_1000fps': 0.0026681055314838886, 'eval_mape_ge_100_le_1000fps': 0.8696600198745728, 'eval_mse_sqrt_ge_10_le_100fps': 0.023751433938741684, 'eval_mae_ge_10_le_100fps': 0.02037445828318596, 'eval_mape_ge_10_le_100fps': 0.980802595615387, 'eval_mse_sqrt_le_10fps': 0.2232217937707901, 'eval_mae_le_10fps': 0.2232217937707901, 'eval_mape_le_10fps': 0.9978433847427368, 'eval_mse_sqrt_raw': 1.5215626955032349, 'eval_mae_raw': 1.1503543853759766, 'eval_mape_raw': 0.1538773626089096, 'eval_runtime': 10.2917, 'eval_samples_per_second': 219.108, 'eval_steps_per_second': 0.486, 'epoch': 43.89}\n",
      "{'loss': 2.4406, 'learning_rate': 5.555555555555555e-05, 'epoch': 44.44}\n"
     ]
    },
    {
     "data": {
      "application/vnd.jupyter.widget-view+json": {
       "model_id": "088d764a612948fba866d6405ccf82e6",
       "version_major": 2,
       "version_minor": 0
      },
      "text/plain": [
       "  0%|          | 0/5 [00:00<?, ?it/s]"
      ]
     },
     "metadata": {},
     "output_type": "display_data"
    },
    {
     "name": "stdout",
     "output_type": "stream",
     "text": [
      "{'eval_loss': 2.3138580322265625, 'eval_mse_sqrt': 0.005728885065764189, 'eval_mae': 0.0008927361923269928, 'eval_mape': 1.7623939514160156, 'eval_mse_sqrt_ge_10000fps': 0.00013165395648684353, 'eval_mae_ge_10000fps': 7.389759412035346e-05, 'eval_mape_ge_10000fps': 2.4122507572174072, 'eval_mse_sqrt_ge_1000_le_10000fps': 0.0003034804540220648, 'eval_mae_ge_1000_le_10000fps': 0.00023084167332854122, 'eval_mape_ge_1000_le_10000fps': 0.655013918876648, 'eval_mse_sqrt_ge_100_le_1000fps': 0.0032632891088724136, 'eval_mae_ge_100_le_1000fps': 0.0026665034238249063, 'eval_mape_ge_100_le_1000fps': 0.8689404726028442, 'eval_mse_sqrt_ge_10_le_100fps': 0.023749995976686478, 'eval_mae_ge_10_le_100fps': 0.02037275955080986, 'eval_mape_ge_10_le_100fps': 0.9806991815567017, 'eval_mse_sqrt_le_10fps': 0.22322306036949158, 'eval_mae_le_10fps': 0.22322306036949158, 'eval_mape_le_10fps': 0.9978490471839905, 'eval_mse_sqrt_raw': 1.5211371183395386, 'eval_mae_raw': 1.1528973579406738, 'eval_mape_raw': 0.1539686620235443, 'eval_runtime': 10.4431, 'eval_samples_per_second': 215.931, 'eval_steps_per_second': 0.479, 'epoch': 44.44}\n",
      "{'loss': 2.3586, 'learning_rate': 5e-05, 'epoch': 45.0}\n"
     ]
    },
    {
     "data": {
      "application/vnd.jupyter.widget-view+json": {
       "model_id": "3d91508cd44246568124fa920a8bbeed",
       "version_major": 2,
       "version_minor": 0
      },
      "text/plain": [
       "  0%|          | 0/5 [00:00<?, ?it/s]"
      ]
     },
     "metadata": {},
     "output_type": "display_data"
    },
    {
     "name": "stdout",
     "output_type": "stream",
     "text": [
      "{'eval_loss': 2.311802864074707, 'eval_mse_sqrt': 0.00572936050593853, 'eval_mae': 0.0008924792055040598, 'eval_mape': 1.735938310623169, 'eval_mse_sqrt_ge_10000fps': 0.0001298178976867348, 'eval_mae_ge_10000fps': 7.26605867384933e-05, 'eval_mape_ge_10000fps': 2.370408296585083, 'eval_mse_sqrt_ge_1000_le_10000fps': 0.0003040473675355315, 'eval_mae_ge_1000_le_10000fps': 0.00023085517750587314, 'eval_mape_ge_1000_le_10000fps': 0.6503360867500305, 'eval_mse_sqrt_ge_100_le_1000fps': 0.0032659368589520454, 'eval_mae_ge_100_le_1000fps': 0.002669751876965165, 'eval_mape_ge_100_le_1000fps': 0.8704512715339661, 'eval_mse_sqrt_ge_10_le_100fps': 0.0237527247518301, 'eval_mae_ge_10_le_100fps': 0.02037608064711094, 'eval_mape_ge_10_le_100fps': 0.9809078574180603, 'eval_mse_sqrt_le_10fps': 0.22322909533977509, 'eval_mae_le_10fps': 0.22322909533977509, 'eval_mape_le_10fps': 0.9978760480880737, 'eval_mse_sqrt_raw': 1.5204614400863647, 'eval_mae_raw': 1.1491469144821167, 'eval_mape_raw': 0.1538035124540329, 'eval_runtime': 10.315, 'eval_samples_per_second': 218.614, 'eval_steps_per_second': 0.485, 'epoch': 45.0}\n",
      "{'loss': 2.4106, 'learning_rate': 4.4444444444444447e-05, 'epoch': 45.56}\n"
     ]
    },
    {
     "data": {
      "application/vnd.jupyter.widget-view+json": {
       "model_id": "95d836c6b3be4a798cc8d6c58d73f586",
       "version_major": 2,
       "version_minor": 0
      },
      "text/plain": [
       "  0%|          | 0/5 [00:00<?, ?it/s]"
      ]
     },
     "metadata": {},
     "output_type": "display_data"
    },
    {
     "name": "stdout",
     "output_type": "stream",
     "text": [
      "{'eval_loss': 2.311038017272949, 'eval_mse_sqrt': 0.005728580988943577, 'eval_mae': 0.000892674142960459, 'eval_mape': 1.7707993984222412, 'eval_mse_sqrt_ge_10000fps': 0.00013264422887004912, 'eval_mae_ge_10000fps': 7.437876774929464e-05, 'eval_mape_ge_10000fps': 2.42545747756958, 'eval_mse_sqrt_ge_1000_le_10000fps': 0.0003031344385817647, 'eval_mae_ge_1000_le_10000fps': 0.00023071988834999502, 'eval_mape_ge_1000_le_10000fps': 0.6569808125495911, 'eval_mse_sqrt_ge_100_le_1000fps': 0.0032614825759083033, 'eval_mae_ge_100_le_1000fps': 0.0026643946766853333, 'eval_mape_ge_100_le_1000fps': 0.8680188059806824, 'eval_mse_sqrt_ge_10_le_100fps': 0.023747745901346207, 'eval_mae_ge_10_le_100fps': 0.02037019096314907, 'eval_mape_ge_10_le_100fps': 0.9805485606193542, 'eval_mse_sqrt_le_10fps': 0.2232217788696289, 'eval_mae_le_10fps': 0.2232217788696289, 'eval_mape_le_10fps': 0.997843325138092, 'eval_mse_sqrt_raw': 1.5202099084854126, 'eval_mae_raw': 1.1527866125106812, 'eval_mape_raw': 0.15384605526924133, 'eval_runtime': 10.2746, 'eval_samples_per_second': 219.474, 'eval_steps_per_second': 0.487, 'epoch': 45.56}\n",
      "{'loss': 2.3569, 'learning_rate': 3.888888888888889e-05, 'epoch': 46.11}\n"
     ]
    },
    {
     "data": {
      "application/vnd.jupyter.widget-view+json": {
       "model_id": "ffdd66a95cee4aeaa00bc346017d0155",
       "version_major": 2,
       "version_minor": 0
      },
      "text/plain": [
       "  0%|          | 0/5 [00:00<?, ?it/s]"
      ]
     },
     "metadata": {},
     "output_type": "display_data"
    },
    {
     "name": "stdout",
     "output_type": "stream",
     "text": [
      "{'eval_loss': 2.309166431427002, 'eval_mse_sqrt': 0.0057290093973279, 'eval_mae': 0.0008924099383875728, 'eval_mape': 1.7436729669570923, 'eval_mse_sqrt_ge_10000fps': 0.00013092617155052722, 'eval_mae_ge_10000fps': 7.312837260542437e-05, 'eval_mape_ge_10000fps': 2.3822927474975586, 'eval_mse_sqrt_ge_1000_le_10000fps': 0.00030380376847460866, 'eval_mae_ge_1000_le_10000fps': 0.00023085733118932694, 'eval_mape_ge_1000_le_10000fps': 0.6529264450073242, 'eval_mse_sqrt_ge_100_le_1000fps': 0.0032639841083437204, 'eval_mae_ge_100_le_1000fps': 0.00266746012493968, 'eval_mape_ge_100_le_1000fps': 0.8694468140602112, 'eval_mse_sqrt_ge_10_le_100fps': 0.023750316351652145, 'eval_mae_ge_10_le_100fps': 0.02037331834435463, 'eval_mape_ge_10_le_100fps': 0.9807451367378235, 'eval_mse_sqrt_le_10fps': 0.22322621941566467, 'eval_mae_le_10fps': 0.22322621941566467, 'eval_mape_le_10fps': 0.9978631734848022, 'eval_mse_sqrt_raw': 1.5195941925048828, 'eval_mae_raw': 1.1487205028533936, 'eval_mape_raw': 0.15365779399871826, 'eval_runtime': 10.2688, 'eval_samples_per_second': 219.598, 'eval_steps_per_second': 0.487, 'epoch': 46.11}\n",
      "{'loss': 2.4273, 'learning_rate': 3.3333333333333335e-05, 'epoch': 46.67}\n"
     ]
    },
    {
     "data": {
      "application/vnd.jupyter.widget-view+json": {
       "model_id": "5370a03b502f4599b2f021e2f5aa198c",
       "version_major": 2,
       "version_minor": 0
      },
      "text/plain": [
       "  0%|          | 0/5 [00:00<?, ?it/s]"
      ]
     },
     "metadata": {},
     "output_type": "display_data"
    },
    {
     "name": "stdout",
     "output_type": "stream",
     "text": [
      "{'eval_loss': 2.3079640865325928, 'eval_mse_sqrt': 0.005729112308472395, 'eval_mae': 0.000892279262188822, 'eval_mape': 1.733002781867981, 'eval_mse_sqrt_ge_10000fps': 0.0001304195320699364, 'eval_mae_ge_10000fps': 7.266660395544022e-05, 'eval_mape_ge_10000fps': 2.365126609802246, 'eval_mse_sqrt_ge_1000_le_10000fps': 0.00030409538885578513, 'eval_mae_ge_1000_le_10000fps': 0.00023097364464774728, 'eval_mape_ge_1000_le_10000fps': 0.6519042253494263, 'eval_mse_sqrt_ge_100_le_1000fps': 0.003264628117904067, 'eval_mae_ge_100_le_1000fps': 0.002668283646926284, 'eval_mape_ge_100_le_1000fps': 0.869849681854248, 'eval_mse_sqrt_ge_10_le_100fps': 0.0237509123980999, 'eval_mae_ge_10_le_100fps': 0.020374061539769173, 'eval_mape_ge_10_le_100fps': 0.9807924032211304, 'eval_mse_sqrt_le_10fps': 0.22322718799114227, 'eval_mae_le_10fps': 0.22322718799114227, 'eval_mape_le_10fps': 0.9978675246238708, 'eval_mse_sqrt_raw': 1.5191985368728638, 'eval_mae_raw': 1.1467705965042114, 'eval_mape_raw': 0.1535423845052719, 'eval_runtime': 10.3136, 'eval_samples_per_second': 218.642, 'eval_steps_per_second': 0.485, 'epoch': 46.67}\n",
      "{'loss': 2.4069, 'learning_rate': 2.7777777777777776e-05, 'epoch': 47.22}\n"
     ]
    },
    {
     "data": {
      "application/vnd.jupyter.widget-view+json": {
       "model_id": "8b96365c834244eebf507543e897e46c",
       "version_major": 2,
       "version_minor": 0
      },
      "text/plain": [
       "  0%|          | 0/5 [00:00<?, ?it/s]"
      ]
     },
     "metadata": {},
     "output_type": "display_data"
    },
    {
     "name": "stdout",
     "output_type": "stream",
     "text": [
      "{'eval_loss': 2.307427167892456, 'eval_mse_sqrt': 0.005728608462959528, 'eval_mae': 0.0008924163994379342, 'eval_mape': 1.7566405534744263, 'eval_mse_sqrt_ge_10000fps': 0.0001322517346125096, 'eval_mae_ge_10000fps': 7.3820716352202e-05, 'eval_mape_ge_10000fps': 2.402570962905884, 'eval_mse_sqrt_ge_1000_le_10000fps': 0.00030345117556862533, 'eval_mae_ge_1000_le_10000fps': 0.00023083474661689252, 'eval_mape_ge_1000_le_10000fps': 0.6560668349266052, 'eval_mse_sqrt_ge_100_le_1000fps': 0.0032617333345115185, 'eval_mae_ge_100_le_1000fps': 0.0026648056227713823, 'eval_mape_ge_100_le_1000fps': 0.8682700991630554, 'eval_mse_sqrt_ge_10_le_100fps': 0.023747652769088745, 'eval_mae_ge_10_le_100fps': 0.020370183512568474, 'eval_mape_ge_10_le_100fps': 0.9805549383163452, 'eval_mse_sqrt_le_10fps': 0.22322271764278412, 'eval_mae_le_10fps': 0.22322271764278412, 'eval_mape_le_10fps': 0.9978475570678711, 'eval_mse_sqrt_raw': 1.51902174949646, 'eval_mae_raw': 1.1494067907333374, 'eval_mape_raw': 0.1535877287387848, 'eval_runtime': 10.2563, 'eval_samples_per_second': 219.865, 'eval_steps_per_second': 0.488, 'epoch': 47.22}\n",
      "{'loss': 2.3488, 'learning_rate': 2.2222222222222223e-05, 'epoch': 47.78}\n"
     ]
    },
    {
     "data": {
      "application/vnd.jupyter.widget-view+json": {
       "model_id": "e631d38545314056afb01ca3545554d4",
       "version_major": 2,
       "version_minor": 0
      },
      "text/plain": [
       "  0%|          | 0/5 [00:00<?, ?it/s]"
      ]
     },
     "metadata": {},
     "output_type": "display_data"
    },
    {
     "name": "stdout",
     "output_type": "stream",
     "text": [
      "{'eval_loss': 2.30635404586792, 'eval_mse_sqrt': 0.005729008931666613, 'eval_mae': 0.0008922049310058355, 'eval_mape': 1.7323116064071655, 'eval_mse_sqrt_ge_10000fps': 0.00013067427789792418, 'eval_mae_ge_10000fps': 7.268968329299241e-05, 'eval_mape_ge_10000fps': 2.3638198375701904, 'eval_mse_sqrt_ge_1000_le_10000fps': 0.0003040870651602745, 'eval_mae_ge_1000_le_10000fps': 0.0002310013514943421, 'eval_mape_ge_1000_le_10000fps': 0.6524958610534668, 'eval_mse_sqrt_ge_100_le_1000fps': 0.0032641044817864895, 'eval_mae_ge_100_le_1000fps': 0.002667689463123679, 'eval_mape_ge_100_le_1000fps': 0.8696044087409973, 'eval_mse_sqrt_ge_10_le_100fps': 0.023750120773911476, 'eval_mae_ge_10_le_100fps': 0.020373176783323288, 'eval_mape_ge_10_le_100fps': 0.9807420969009399, 'eval_mse_sqrt_le_10fps': 0.22322644293308258, 'eval_mae_le_10fps': 0.22322644293308258, 'eval_mape_le_10fps': 0.9978641867637634, 'eval_mse_sqrt_raw': 1.518668532371521, 'eval_mae_raw': 1.1459065675735474, 'eval_mape_raw': 0.15344177186489105, 'eval_runtime': 10.2801, 'eval_samples_per_second': 219.357, 'eval_steps_per_second': 0.486, 'epoch': 47.78}\n",
      "{'loss': 2.4287, 'learning_rate': 1.6666666666666667e-05, 'epoch': 48.33}\n"
     ]
    },
    {
     "data": {
      "application/vnd.jupyter.widget-view+json": {
       "model_id": "c1a2e23658bb41489dfb8e7e4e3ea4a7",
       "version_major": 2,
       "version_minor": 0
      },
      "text/plain": [
       "  0%|          | 0/5 [00:00<?, ?it/s]"
      ]
     },
     "metadata": {},
     "output_type": "display_data"
    },
    {
     "name": "stdout",
     "output_type": "stream",
     "text": [
      "{'eval_loss': 2.3061892986297607, 'eval_mse_sqrt': 0.005728529300540686, 'eval_mae': 0.0008923553978092968, 'eval_mape': 1.7556909322738647, 'eval_mse_sqrt_ge_10000fps': 0.0001324408658547327, 'eval_mae_ge_10000fps': 7.382041803793982e-05, 'eval_mape_ge_10000fps': 2.400855541229248, 'eval_mse_sqrt_ge_1000_le_10000fps': 0.00030347058782353997, 'eval_mae_ge_1000_le_10000fps': 0.00023088048328645527, 'eval_mape_ge_1000_le_10000fps': 0.6565864086151123, 'eval_mse_sqrt_ge_100_le_1000fps': 0.003261334029957652, 'eval_mae_ge_100_le_1000fps': 0.002664353931322694, 'eval_mape_ge_100_le_1000fps': 0.868084728717804, 'eval_mse_sqrt_ge_10_le_100fps': 0.023747079074382782, 'eval_mae_ge_10_le_100fps': 0.020369546487927437, 'eval_mape_ge_10_le_100fps': 0.9805187582969666, 'eval_mse_sqrt_le_10fps': 0.22322198748588562, 'eval_mae_le_10fps': 0.22322198748588562, 'eval_mape_le_10fps': 0.9978442788124084, 'eval_mse_sqrt_raw': 1.5186141729354858, 'eval_mae_raw': 1.1486483812332153, 'eval_mape_raw': 0.15350496768951416, 'eval_runtime': 10.2744, 'eval_samples_per_second': 219.477, 'eval_steps_per_second': 0.487, 'epoch': 48.33}\n",
      "{'loss': 2.4475, 'learning_rate': 1.1111111111111112e-05, 'epoch': 48.89}\n"
     ]
    },
    {
     "data": {
      "application/vnd.jupyter.widget-view+json": {
       "model_id": "7c9b7b098f8b4a4fa870671471206982",
       "version_major": 2,
       "version_minor": 0
      },
      "text/plain": [
       "  0%|          | 0/5 [00:00<?, ?it/s]"
      ]
     },
     "metadata": {},
     "output_type": "display_data"
    },
    {
     "name": "stdout",
     "output_type": "stream",
     "text": [
      "{'eval_loss': 2.3063132762908936, 'eval_mse_sqrt': 0.005728098098188639, 'eval_mae': 0.0008924975991249084, 'eval_mape': 1.776440143585205, 'eval_mse_sqrt_ge_10000fps': 0.00013403156481217593, 'eval_mae_ge_10000fps': 7.4827614298556e-05, 'eval_mape_ge_10000fps': 2.43363618850708, 'eval_mse_sqrt_ge_1000_le_10000fps': 0.00030296671320684254, 'eval_mae_ge_1000_le_10000fps': 0.00023082100960891694, 'eval_mape_ge_1000_le_10000fps': 0.6604524850845337, 'eval_mse_sqrt_ge_100_le_1000fps': 0.0032588548492640257, 'eval_mae_ge_100_le_1000fps': 0.0026613634545356035, 'eval_mape_ge_100_le_1000fps': 0.8667216897010803, 'eval_mse_sqrt_ge_10_le_100fps': 0.023744340986013412, 'eval_mae_ge_10_le_100fps': 0.02036627195775509, 'eval_mape_ge_10_le_100fps': 0.9803172945976257, 'eval_mse_sqrt_le_10fps': 0.2232178896665573, 'eval_mae_le_10fps': 0.2232178896665573, 'eval_mape_le_10fps': 0.9978259801864624, 'eval_mse_sqrt_raw': 1.5186550617218018, 'eval_mae_raw': 1.151073694229126, 'eval_mape_raw': 0.153563991189003, 'eval_runtime': 10.3747, 'eval_samples_per_second': 217.357, 'eval_steps_per_second': 0.482, 'epoch': 48.89}\n",
      "{'loss': 2.3325, 'learning_rate': 5.555555555555556e-06, 'epoch': 49.44}\n"
     ]
    },
    {
     "data": {
      "application/vnd.jupyter.widget-view+json": {
       "model_id": "2b6d8ed830c7465cb045ce012539219e",
       "version_major": 2,
       "version_minor": 0
      },
      "text/plain": [
       "  0%|          | 0/5 [00:00<?, ?it/s]"
      ]
     },
     "metadata": {},
     "output_type": "display_data"
    },
    {
     "name": "stdout",
     "output_type": "stream",
     "text": [
      "{'eval_loss': 2.305363893508911, 'eval_mse_sqrt': 0.00572875514626503, 'eval_mae': 0.0008922209963202477, 'eval_mape': 1.7413427829742432, 'eval_mse_sqrt_ge_10000fps': 0.00013153112377040088, 'eval_mae_ge_10000fps': 7.315886614378542e-05, 'eval_mape_ge_10000fps': 2.378009557723999, 'eval_mse_sqrt_ge_1000_le_10000fps': 0.00030383685952983797, 'eval_mae_ge_1000_le_10000fps': 0.0002309653500560671, 'eval_mape_ge_1000_le_10000fps': 0.6544748544692993, 'eval_mse_sqrt_ge_100_le_1000fps': 0.0032626776956021786, 'eval_mae_ge_100_le_1000fps': 0.0026659949216991663, 'eval_mape_ge_100_le_1000fps': 0.8688464760780334, 'eval_mse_sqrt_ge_10_le_100fps': 0.023748451843857765, 'eval_mae_ge_10_le_100fps': 0.02037120796740055, 'eval_mape_ge_10_le_100fps': 0.9806228876113892, 'eval_mse_sqrt_le_10fps': 0.22322413325309753, 'eval_mae_le_10fps': 0.22322413325309753, 'eval_mape_le_10fps': 0.9978538751602173, 'eval_mse_sqrt_raw': 1.5183424949645996, 'eval_mae_raw': 1.1465376615524292, 'eval_mape_raw': 0.15341125428676605, 'eval_runtime': 10.3379, 'eval_samples_per_second': 218.13, 'eval_steps_per_second': 0.484, 'epoch': 49.44}\n",
      "{'loss': 2.4159, 'learning_rate': 0.0, 'epoch': 50.0}\n"
     ]
    },
    {
     "data": {
      "application/vnd.jupyter.widget-view+json": {
       "model_id": "681b1665fa464dc3a23b7b86b499000a",
       "version_major": 2,
       "version_minor": 0
      },
      "text/plain": [
       "  0%|          | 0/5 [00:00<?, ?it/s]"
      ]
     },
     "metadata": {},
     "output_type": "display_data"
    },
    {
     "name": "stdout",
     "output_type": "stream",
     "text": [
      "{'eval_loss': 2.3052539825439453, 'eval_mse_sqrt': 0.005728800781071186, 'eval_mae': 0.0008921999833546579, 'eval_mape': 1.7388591766357422, 'eval_mse_sqrt_ge_10000fps': 0.00013135382323525846, 'eval_mae_ge_10000fps': 7.30414321878925e-05, 'eval_mape_ge_10000fps': 2.3740787506103516, 'eval_mse_sqrt_ge_1000_le_10000fps': 0.0003038958238903433, 'eval_mae_ge_1000_le_10000fps': 0.00023097105440683663, 'eval_mape_ge_1000_le_10000fps': 0.6540383696556091, 'eval_mse_sqrt_ge_100_le_1000fps': 0.0032629426568746567, 'eval_mae_ge_100_le_1000fps': 0.002666317392140627, 'eval_mape_ge_100_le_1000fps': 0.8689952492713928, 'eval_mse_sqrt_ge_10_le_100fps': 0.02374872751533985, 'eval_mae_ge_10_le_100fps': 0.02037154696881771, 'eval_mape_ge_10_le_100fps': 0.9806439280509949, 'eval_mse_sqrt_le_10fps': 0.22322463989257812, 'eval_mae_le_10fps': 0.22322463989257812, 'eval_mape_le_10fps': 0.9978561401367188, 'eval_mse_sqrt_raw': 1.5183062553405762, 'eval_mae_raw': 1.1462132930755615, 'eval_mape_raw': 0.15339955687522888, 'eval_runtime': 10.2354, 'eval_samples_per_second': 220.314, 'eval_steps_per_second': 0.489, 'epoch': 50.0}\n",
      "{'train_runtime': 2998.5178, 'train_samples_per_second': 150.391, 'train_steps_per_second': 0.3, 'train_loss': 7.090516800350613, 'epoch': 50.0}\n"
     ]
    },
    {
     "data": {
      "text/plain": [
       "TrainOutput(global_step=900, training_loss=7.090516800350613, metrics={'train_runtime': 2998.5178, 'train_samples_per_second': 150.391, 'train_steps_per_second': 0.3, 'train_loss': 7.090516800350613, 'epoch': 50.0})"
      ]
     },
     "execution_count": 2,
     "metadata": {},
     "output_type": "execute_result"
    }
   ],
   "source": [
    "hiddenDim = 128\n",
    "\n",
    "grammar = SpvContext.getDefaultGrammar()\n",
    "featureDim = len(grammar.instFormatsByOpcode)\n",
    "\n",
    "model = MLPNet(featureDim, hiddenDim)\n",
    "label_normalizer = LogNormalizer()\n",
    "\n",
    "class TrainingSetMetricsReportCallback(TrainerCallback):\n",
    "    def __init__(self, trainer) -> None:\n",
    "        super().__init__()\n",
    "        self._trainer = trainer\n",
    "    \n",
    "    def on_step_end(self, args, state, control, **kwargs):\n",
    "        if control.should_evaluate:\n",
    "            control_copy = deepcopy(control)\n",
    "            self._trainer.evaluate(eval_dataset=self._trainer.train_dataset, metric_key_prefix=\"train\")\n",
    "            return control_copy\n",
    "\n",
    "\n",
    "class MLPPostProcessor(MapMixin):\n",
    "    def __init__(self, targetNormalizer):\n",
    "        # Tokenizer should support trace things\n",
    "        self.targetNormalizer = targetNormalizer\n",
    "\n",
    "    def doMap(self, elem):\n",
    "        # labels\n",
    "        elem[1] = self.targetNormalizer.normalize(elem[1])\n",
    "\n",
    "        return elem\n",
    "\n",
    "trainDatasetOrig = build_dataset('FragmentPerformanceTracedSnapshotDataset4096-3060', 'train')\n",
    "testDatasetOrig = build_dataset('FragmentPerformanceTracedSnapshotDataset4096-3060', 'test')\n",
    "trainDataset = PerInstCountDataset(grammar, trainDatasetOrig, True)\n",
    "testDataset = PerInstCountDataset(grammar, testDatasetOrig, True)\n",
    "trainDatasetMapped = MapDataset(\n",
    "    trainDataset, MLPPostProcessor, [label_normalizer]\n",
    ")\n",
    "testDatasetMapped = MapDataset(\n",
    "    testDataset, MLPPostProcessor, [label_normalizer]\n",
    ")\n",
    "\n",
    "def compute_fragment_performance_metrics(pred: 'transformers.trainer_utils.EvalPrediction'):\n",
    "    \"\"\"pred: inputs, label_ids and predictions, each of them is np.ndarray\"\"\"\n",
    "    metrics = {}\n",
    "\n",
    "    num_samples = pred.label_ids.shape[0]\n",
    "    assert(pred.label_ids.shape == (num_samples,))\n",
    "    assert(pred.predictions.shape == (num_samples, 1) or pred.predictions.shape == (num_samples, ))\n",
    "\n",
    "    labels = pred.label_ids\n",
    "    preds = pred.predictions.squeeze()\n",
    "    # MSE\n",
    "    metrics[\"mse_sqrt_raw\"] = np.sqrt(((labels - preds)**2).mean(axis=0))\n",
    "    # MAE\n",
    "    metrics[\"mae_raw\"] = np.mean(np.abs((labels - preds)))\n",
    "    # MAPE\n",
    "    metrics[\"mape_raw\"] = np.mean(np.abs((labels - preds)/labels))\n",
    "    # original (in time sense)\n",
    "    orig_labels = label_normalizer.invNormalize(labels)\n",
    "    orig_predictions = label_normalizer.invNormalize(pred.predictions.reshape((num_samples,)))\n",
    "    metrics_merged = {\n",
    "        **compute_metrics(orig_predictions, orig_labels),\n",
    "        **metrics\n",
    "    }\n",
    "\n",
    "    return metrics_merged\n",
    "\n",
    "# Normalization!\n",
    "\n",
    "training_args = TrainingArguments(\n",
    "    output_dir=f\"compete_MLP_{hiddenDim}\",\n",
    "    num_train_epochs=50,\n",
    "    per_device_train_batch_size=512,\n",
    "    per_device_eval_batch_size=512,\n",
    "    logging_dir=f\"compete_MLP_{hiddenDim}\",\n",
    "    logging_steps=10,\n",
    "    load_best_model_at_end=True,\n",
    "    metric_for_best_model=\"eval_mape\",\n",
    "    greater_is_better=False,\n",
    "    evaluation_strategy=\"steps\",\n",
    "    save_steps=500,\n",
    "    learning_rate=5e-4,\n",
    "    # torch_compile=True,\n",
    "    save_total_limit=5\n",
    ")\n",
    "\n",
    "def collate_fn(batch):\n",
    "    # print(batch)\n",
    "    features = [item[0] for item in batch]\n",
    "    targets = [item[1] for item in batch]\n",
    "    return {\n",
    "        \"x\": torch.tensor(features, dtype=torch.float32),\n",
    "        \"labels\": torch.tensor(targets, dtype=torch.float32)\n",
    "    }\n",
    "\n",
    "trainer = Trainer(\n",
    "    model=model,\n",
    "    args=training_args,\n",
    "    train_dataset=trainDatasetMapped,\n",
    "    eval_dataset=testDatasetMapped,\n",
    "    data_collator=collate_fn,\n",
    "    compute_metrics=compute_fragment_performance_metrics\n",
    ")\n",
    "\n",
    "trainer.train()"
   ]
  },
  {
   "cell_type": "code",
   "execution_count": null,
   "metadata": {},
   "outputs": [],
   "source": []
  }
 ],
 "metadata": {
  "kernelspec": {
   "display_name": "venv",
   "language": "python",
   "name": "python3"
  },
  "language_info": {
   "codemirror_mode": {
    "name": "ipython",
    "version": 3
   },
   "file_extension": ".py",
   "mimetype": "text/x-python",
   "name": "python",
   "nbconvert_exporter": "python",
   "pygments_lexer": "ipython3",
   "version": "3.11.5"
  }
 },
 "nbformat": 4,
 "nbformat_minor": 2
}
