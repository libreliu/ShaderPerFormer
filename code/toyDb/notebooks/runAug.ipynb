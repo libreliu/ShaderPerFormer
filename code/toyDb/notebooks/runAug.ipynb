{
 "cells": [
  {
   "cell_type": "code",
   "execution_count": null,
   "metadata": {},
   "outputs": [],
   "source": [
    "import os, sys\n",
    "import cProfile\n",
    "sys.path.append(os.path.join(os.path.abspath(''), '../'))\n",
    "\n",
    "from databases.ExperimentDb import (\n",
    "    db, \n",
    "    init_from_default_db, \n",
    "    ImageOnlyShader, \n",
    "    ImageOnlyExperiment,\n",
    "    AugmentationType,\n",
    "    packBytesToSpv,\n",
    "    packSpvToBytes,\n",
    "    ErrorType\n",
    "    )\n",
    "from databases.AugmentationDb import dbA, init_from_default_dbA, Augmentation\n",
    "import cliFuncs.augmentImageOnly as augmentImageOnly\n",
    "import cliFuncs.runImageOnlyTrace as runImageOnlyTrace\n",
    "import cliFuncs.runImageOnly as runImageOnly\n",
    "import dataclasses\n",
    "from utils.AugmentationManager import (\n",
    "    AugManager,\n",
    "    AugManagerConfig,\n",
    "    augmentAll,\n",
    "    augmentAllNoPall\n",
    ")\n",
    "from tqdm import tqdm\n",
    "from joblib import Parallel, delayed\n",
    "import vkExecute\n",
    "import datetime\n",
    "import argparse\n",
    "\n",
    "import matplotlib.pyplot as plt\n",
    "import numpy as np\n",
    "\n",
    "init_from_default_db()\n",
    "init_from_default_dbA()"
   ]
  },
  {
   "cell_type": "markdown",
   "metadata": {},
   "source": [
    "### Augment random shaders"
   ]
  },
  {
   "cell_type": "code",
   "execution_count": null,
   "metadata": {},
   "outputs": [],
   "source": [
    "# init database and args\n",
    "\n",
    "@dataclasses.dataclass\n",
    "class Argument:\n",
    "    shader_id = \"\"              # shader id for query\n",
    "    environment_id = 1         # environment id for query\n",
    "    env_comment = \"\"            # environment comment for query\n",
    "    save_images = False         # if true, save images to disk\n",
    "    no_subprocess = False       # if true, do not use subprocess\n",
    "    disable_timeout = False     # if true, do not use timeout\n",
    "    timeout = 120               # timeout for each render\n",
    "    augment_flag = \"O\"           # augment flag, if random_times is not 0, this flag will be ignored\n",
    "    random_times = 0            # random augment times\n",
    "    aug_parent_flag = \"\"        # parent augment flag for query\n",
    "    limit = 20                 # limit for query\n",
    "    \n",
    "args = Argument()"
   ]
  },
  {
   "cell_type": "code",
   "execution_count": null,
   "metadata": {},
   "outputs": [],
   "source": [
    "augmentImageOnly.cliAugment(db, args)"
   ]
  },
  {
   "cell_type": "markdown",
   "metadata": {},
   "source": [
    "### Create databass"
   ]
  },
  {
   "cell_type": "code",
   "execution_count": null,
   "metadata": {},
   "outputs": [],
   "source": [
    "# dbA.create_tables([Augmentation])"
   ]
  },
  {
   "cell_type": "code",
   "execution_count": null,
   "metadata": {},
   "outputs": [],
   "source": [
    "# query = ImageOnlyShader.select()\n",
    "\n",
    "# for shader in query:\n",
    "#     augmentation = Augmentation.create(\n",
    "#         augmentation = AugmentationType.NONE,\n",
    "#         augmentation_annotation = None,\n",
    "#         fragment_spv = shader.fragment_spv,\n",
    "#         shader_id = shader.shader_id,\n",
    "#         depth = 0,\n",
    "#         parent = None,\n",
    "#         dis_from_last = 0,\n",
    "#         dis_ratio_from_last = 0,\n",
    "#         dis_from_origin = 0,\n",
    "#         dis_ratio_from_origin = 0\n",
    "#     )\n"
   ]
  },
  {
   "cell_type": "code",
   "execution_count": null,
   "metadata": {},
   "outputs": [],
   "source": [
    "parser = argparse.ArgumentParser()\n",
    "runImageOnly.register(parser)\n",
    "args = parser.parse_args(\"\")\n",
    "\n",
    "args.only_compile = True\n",
    "\n",
    "with db.atomic():\n",
    "  runImageOnly.cliRun(db, args)"
   ]
  },
  {
   "cell_type": "markdown",
   "metadata": {},
   "source": [
    "### Augment selected pass"
   ]
  },
  {
   "cell_type": "code",
   "execution_count": null,
   "metadata": {},
   "outputs": [],
   "source": [
    "query = Augmentation.select().where(\n",
    "    Augmentation.depth == 0,\n",
    "    Augmentation.id != 4917,\n",
    "    Augmentation.id != 5399\n",
    "    )\n",
    "\n",
    "\n",
    "augmentAll([AugmentationType.INST_DESC_IDX_CHECK], None, query)"
   ]
  },
  {
   "cell_type": "markdown",
   "metadata": {},
   "source": [
    "### Export all"
   ]
  },
  {
   "cell_type": "code",
   "execution_count": null,
   "metadata": {},
   "outputs": [],
   "source": [
    "env = 1\n",
    "width = 1024\n",
    "targetAug = AugmentationType.O\n",
    "targetDepth = 1\n",
    "\n",
    "query = Augmentation.select().where(Augmentation.depth == 0)\n",
    "augNodesSrc = []\n",
    "augNodesDes = []\n",
    "\n",
    "for aug in tqdm(query):\n",
    "    dest = ImageOnlyExperiment.select().where(\n",
    "        ImageOnlyExperiment.augmentation == AugmentationType.NONE,\n",
    "        ImageOnlyExperiment.environment == env,\n",
    "        ImageOnlyExperiment.width == width,\n",
    "        ImageOnlyExperiment.shader_shadertoy_id == aug.shader_id,\n",
    "    )\n",
    "    if dest.count() == 0 or dest.count() > 1:\n",
    "        print(\"error\")\n",
    "        continue\n",
    "    else:\n",
    "        augNodesSrc.clear()\n",
    "        augNodesDes.clear()\n",
    "        src = aug\n",
    "        des = dest[0]\n",
    "        while src.children.count() > 0:\n",
    "            for child in src.children:\n",
    "                if child.depth > targetDepth:\n",
    "                    continue\n",
    "                if targetAug != None and child.depth == targetDepth and child.augmentation != targetAug:\n",
    "                    continue\n",
    "                \n",
    "                augNodesSrc.append(child)\n",
    "\n",
    "                repeated = False\n",
    "                for desChild in des.children:\n",
    "                    if desChild.augmentation == child.augmentation \\\n",
    "                        and desChild.augmentation_annotation == child.augmentation_annotation:\n",
    "                        augNodesDes.append(desChild)\n",
    "                        repeated = True\n",
    "                        break\n",
    "                if repeated:\n",
    "                    continue\n",
    "\n",
    "                shader = ImageOnlyShader.create(\n",
    "                    shader_id = child.shader_id,\n",
    "                    fragment_spv = child.fragment_spv,\n",
    "                    )\n",
    "                shader.save()\n",
    "\n",
    "                expr = ImageOnlyExperiment.create(\n",
    "                    shader_shadertoy_id = src.shader_id,\n",
    "                    shader = shader,\n",
    "                    resource = des.resource,\n",
    "                    environment = env,\n",
    "                    width = des.width,\n",
    "                    height = des.height,\n",
    "                    augmentation = child.augmentation,\n",
    "                    augmentation_annotation = child.augmentation_annotation,\n",
    "                    parent = des,\n",
    "                    time = datetime.datetime.now(),\n",
    "                    num_cycles = des.num_cycles,\n",
    "                    num_trials = des.num_trials,\n",
    "                    errors = ErrorType.AUGMENTED_BUT_NOT_RUN,\n",
    "                    measurement = des.measurement,\n",
    "                    results = \"\"\n",
    "                    )\n",
    "                expr.save()\n",
    "                augNodesDes.append(expr)\n",
    "            \n",
    "            src = augNodesSrc.pop(0)\n",
    "            des = augNodesDes.pop(0)"
   ]
  },
  {
   "cell_type": "markdown",
   "metadata": {},
   "source": [
    "### Trace All\n",
    "* This will run all shaders which were augmented but not run."
   ]
  },
  {
   "cell_type": "code",
   "execution_count": null,
   "metadata": {},
   "outputs": [],
   "source": [
    "parser = argparse.ArgumentParser()\n",
    "runImageOnlyTrace.register(parser)\n",
    "args = parser.parse_args(\"\")\n",
    "\n",
    "args.augment_trace = True\n",
    "\n",
    "runImageOnlyTrace.cliTrace(db, args)"
   ]
  },
  {
   "cell_type": "markdown",
   "metadata": {},
   "source": [
    "### Run All\n",
    "* This will run all selected shaders which were augmented but not run.\n",
    "* After successfully rendering the error will be set to None"
   ]
  },
  {
   "cell_type": "code",
   "execution_count": null,
   "metadata": {},
   "outputs": [],
   "source": [
    "parser = argparse.ArgumentParser()\n",
    "augmentImageOnly.register(parser)\n",
    "args = parser.parse_args(\"\")\n",
    "\n",
    "args.augment_flag = \"None\"\n",
    "\n",
    "with db.atomic():\n",
    "  augmentImageOnly.cliAugmentRun(db, args)"
   ]
  },
  {
   "cell_type": "markdown",
   "metadata": {},
   "source": [
    "### Tools for checking fragmentSpv"
   ]
  },
  {
   "cell_type": "code",
   "execution_count": null,
   "metadata": {},
   "outputs": [],
   "source": [
    "# Export fragment spv to txt file\n",
    "def exportFragmentSpvToTxt(fragmentSpv, filename):\n",
    "    with open(filename, 'w') as file:\n",
    "        file.write(fragmentSpv)\n",
    "\n",
    "def diffAugShaderFromAncestor(aug: Augmentation):\n",
    "    thisAug = aug\n",
    "    while aug.parent is not None:\n",
    "        aug = aug.parent\n",
    "    ancestorAug = aug\n",
    "    spvProc = vkExecute.SpvProcessor()\n",
    "    spvProc.loadSpv(packBytesToSpv(ancestorAug.fragment_spv))\n",
    "    ancestorShader, err = spvProc.disassemble()\n",
    "    exportFragmentSpvToTxt(ancestorShader, \"ancestorShader.txt\")\n",
    "    spvProc.loadSpv(packBytesToSpv(thisAug.fragment_spv))\n",
    "    thisShader, err = spvProc.disassemble()\n",
    "    exportFragmentSpvToTxt(thisShader, \"thisShader.txt\")\n",
    "\n",
    "def diffAugShaderFromParent(aug: Augmentation):\n",
    "    if aug.parent is None:\n",
    "        return\n",
    "    spvProc = vkExecute.SpvProcessor()\n",
    "    spvProc.loadSpv(packBytesToSpv(aug.parent.fragment_spv))\n",
    "    parentShader, err = spvProc.disassemble()\n",
    "    exportFragmentSpvToTxt(parentShader, \"parentShader.txt\")\n",
    "    spvProc.loadSpv(packBytesToSpv(aug.fragment_spv))\n",
    "    thisShader, err = spvProc.disassemble()\n",
    "    exportFragmentSpvToTxt(thisShader, \"thisShader.txt\")\n",
    "\n",
    "diffAugShaderFromParent(Augmentation.get_by_id(102510))"
   ]
  },
  {
   "cell_type": "code",
   "execution_count": null,
   "metadata": {},
   "outputs": [],
   "source": [
    "query0 = Augmentation.select().where(Augmentation.augmentation == AugmentationType.OS)\n",
    "query1 = Augmentation.select().where(Augmentation.augmentation == AugmentationType.O)\n",
    "fragSpvLen0 = []\n",
    "fragSpvLen1 = []\n",
    "for aug in query0:\n",
    "    fragSpvLen0.append(len(aug.fragment_spv))\n",
    "for aug in query1:\n",
    "    fragSpvLen1.append(len(aug.fragment_spv))\n",
    "\n",
    "avg0 = np.mean(fragSpvLen0)\n",
    "avg1 = np.mean(fragSpvLen1)\n",
    "std0 = np.std(fragSpvLen0)\n",
    "std1 = np.std(fragSpvLen1)\n",
    "\n",
    "print(\"avg0: \", avg0)\n",
    "print(\"avg1: \", avg1)\n",
    "print(\"std0: \", std0)\n",
    "print(\"std1: \", std1)"
   ]
  }
 ],
 "metadata": {
  "kernelspec": {
   "display_name": "Python 3",
   "language": "python",
   "name": "python3"
  },
  "language_info": {
   "codemirror_mode": {
    "name": "ipython",
    "version": 3
   },
   "file_extension": ".py",
   "mimetype": "text/x-python",
   "name": "python",
   "nbconvert_exporter": "python",
   "pygments_lexer": "ipython3",
   "version": "3.12.0"
  }
 },
 "nbformat": 4,
 "nbformat_minor": 2
}
